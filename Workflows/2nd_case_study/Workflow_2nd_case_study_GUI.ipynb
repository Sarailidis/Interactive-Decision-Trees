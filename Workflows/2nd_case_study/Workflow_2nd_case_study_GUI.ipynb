{
 "cells": [
  {
   "cell_type": "markdown",
   "metadata": {},
   "source": [
    "<center><img src=\"logo.png\" alt=\"logo\" style=\"float:center; width:200px;\"/></center>"
   ]
  },
  {
   "cell_type": "markdown",
   "metadata": {},
   "source": [
    "<center><h1 style=\"color:rgb(49,112,223);\"> Interactive Decision Trees</h1><\\center>"
   ]
  },
  {
   "cell_type": "markdown",
   "metadata": {},
   "source": [
    "# "
   ]
  },
  {
   "cell_type": "markdown",
   "metadata": {},
   "source": [
    "# Using Interactive Decision Trees to improve DT interpretability by finding physically meaningful connections of the DT output with other relevant scientific knowledge sources."
   ]
  },
  {
   "cell_type": "markdown",
   "metadata": {},
   "source": [
    "In this JupyterLab notebook we show how experts can manually change nodes thresholds to split. We demonstrate how this functionality of the iDTs toolbox could be used to icorporate scientific knowledge into DT and achieve higher intertpretability of the DT. The methodology described in this JupyterLab notebook was followed to produce the results of the 2nd case study of the paper *Integrating Scientific Knowledge into Machine Learning using Interactive Decision Trees (Sarailidis et al. 2021, submitted to Computers and Geosciences)*."
   ]
  },
  {
   "cell_type": "markdown",
   "metadata": {},
   "source": [
    "# Notebook Contents:\n",
    "\n",
    "1. Introduction\n",
    "    + 1.1 Description of the initial dataset\n",
    "    + 1.2 Objective of the case study\n",
    "    + 1.3 Holdridge's Life zones classification scheme\n",
    "2. Create sample datasets of various sizes through Random Sampling from the initial dataset\n",
    "3. Derive the Statistically Optimal Tree (SOT)\n",
    "4. Derive interactive DT (iDT)\n",
    "    + Manually change the nodes thresholds\n",
    "    + Manually prune nodes\n",
    "5. Evaluation of SOT and iDT perfomance\n",
    "6. References"
   ]
  },
  {
   "cell_type": "markdown",
   "metadata": {},
   "source": [
    "# 1. Introduction:\n",
    "\n",
    "## 1.2 Objective of the case study \n",
    "This case study is an example which shows the usefulness of iDTs for finding meaningful interpretation of the DT outcome in relation to other relevant scientific information. More specifically, in this case study we  want to understand how various recharge classes can be mapped into climatic zones. For this purpose, we derive statistically optimal DT (SOT) and interactive DT (iDT) for 15 different random samples and we look at how the leaves nodes (recharge classes) of each DT are mapped into life zones in Holdridge's chart. We show that iDTs which incorporate scientific knowledge map recharge classes to climatic zones more concisely.\n",
    "\n",
    "## 1.1 Description of the initial dataset:\n",
    "\n",
    "We used the dataset from Sarazin (2018): \n",
    "\n",
    "- The dataset contains 17,000,000 simulations (data points) of a hydrological model and 34 input variables which characterize climate properties and land cover types. \n",
    "- There are 4 classes in the dataset, namely, C1 (<20 mm/yr), C2 (20 – 100 mm/yr), C3 (100 – 300 mm/yr) and C4 (>300 mm/yr) which correspond to different recharge values.\n",
    "- A DT algorithm applied to this dataset shows how the different input factors combine to produce more or less recharge. \n",
    "\n",
    "## 1.3 Holdridge's life zones classification scheme \n",
    "We use a simplified version of the Holdridge life zones classification scheme. It is a triangle chart for classifying land areas based on precipitation and aridity index (ratio between potential evaporation and precipitation) (for more information on the Holdridge chart follow the link https://en.wikipedia.org/wiki/Holdridge_life_zones ). Our simplified Holdridge life zone classification scheme is shown in the following figure: \n",
    "\n",
    "<center><img src=\"Holdridges_chart_modified.png\"></center>\n"
   ]
  },
  {
   "cell_type": "markdown",
   "metadata": {},
   "source": [
    "# 2. Create sample datasets of various sizes through Random Sampling from the initial dataset\n",
    "\n",
    "The 15 sample datasets of various sizes mentioned above were created using the GUI for importing files we developed and it's included in iDTGUIfun module. It contains an implementation for random sampling and splitting in train and test sets. To ease reproducibility, in the rest of this notebook I will use the sample datasets I derived (and which are provided in the folder 'Sample_dataset') to produce the results of the 2nd case study of the paper *Integrating Scientific Knowledge into Machine Learning using Interactive Decision Trees Sarailidis et al. (2021) submitted to EMS.\n",
    "\n",
    "__Note:__ If interested to know how to use the import file GUI please look at the \"How to use the Graphical User Interface\" pdf I provide in the repository and the 1st_case_study Workflow."
   ]
  },
  {
   "cell_type": "markdown",
   "metadata": {},
   "source": [
    "Import necessary Libraries & Modules"
   ]
  },
  {
   "cell_type": "code",
   "execution_count": 1,
   "metadata": {},
   "outputs": [],
   "source": [
    "#Import library for random sampling\n",
    "import random\n",
    "#Import modules for interactive construction and analysis of DT\n",
    "import InteractiveDT\n",
    "from InteractiveDT import iDT\n",
    "from InteractiveDT import iDTGUIfun\n",
    "\n",
    "#Libraries which are useful for many cases\n",
    "import pandas as pd\n",
    "import numpy as np\n",
    "#Libraries necessary for data analysis and ML methods\n",
    "import sklearn\n",
    "from sklearn import preprocessing\n",
    "from sklearn.model_selection import train_test_split\n",
    "from sklearn import tree\n",
    "#Libraries useful for finding the statistiaclly optimal trees\n",
    "from sklearn.model_selection import GridSearchCV, RandomizedSearchCV\n",
    "from sklearn.model_selection import StratifiedKFold\n",
    "from time import time\n",
    "#Libraries useful for measuring the classification accuracy and creating confusion matrices\n",
    "from sklearn.metrics import classification_report, confusion_matrix, accuracy_score\n",
    "from sklearn.metrics import confusion_matrix, plot_confusion_matrix\n",
    "from sklearn.metrics import ConfusionMatrixDisplay\n",
    "#Libraries necessary for producing the plots\n",
    "from plotly.subplots import make_subplots\n",
    "import plotly.graph_objects as go"
   ]
  },
  {
   "cell_type": "markdown",
   "metadata": {},
   "source": [
    "Initialize the GUI:"
   ]
  },
  {
   "cell_type": "code",
   "execution_count": 2,
   "metadata": {},
   "outputs": [],
   "source": [
    "#The next three empty dictionaries we create are required as inputs for the initialization of the GUI\n",
    "Data_dict={}\n",
    "Classes_color_dict={'Classes Labels': {}, 'Classes Colors': {}}\n",
    "Features_color_groups={'Groups & parameters': {}, 'Colors of groups': {}}\n",
    "#Initialize the GUI:\n",
    "GUI = iDTGUIfun.InteractiveDecisionTreesGUI(Data_dict, Classes_color_dict, Features_color_groups)"
   ]
  },
  {
   "cell_type": "markdown",
   "metadata": {},
   "source": [
    "Load the corresponding dataset:"
   ]
  },
  {
   "cell_type": "code",
   "execution_count": 3,
   "metadata": {},
   "outputs": [],
   "source": [
    "#Specify the input files path\n",
    "\n",
    "path_train_inputs = r'Sample_datasets\\4. Random_seed_5562000\\Training_input_1000_rs_5562000'\n",
    "path_train_outputs = r'Sample_datasets\\4. Random_seed_5562000\\Training_output_1000_rs_5562000'\n",
    "path_test_inputs = r'Sample_datasets\\4. Random_seed_5562000\\Test_input_1000_rs_5562000'\n",
    "path_test_outputs = r'Sample_datasets\\4. Random_seed_5562000\\Test_output_1000_rs_5562000'\n",
    "\n",
    "#Train Inputs \n",
    "GUI.Data_dict['x'] = pd.read_pickle(path_train_inputs)\n",
    "#Train Outputs\n",
    "GUI.Data_dict['y'] = pd.read_pickle(path_train_outputs)\n",
    "#Test Inputs\n",
    "GUI.Data_dict['z'] = pd.read_pickle(path_test_inputs)\n",
    "#Test Outputs\n",
    "GUI.Data_dict['w'] = pd.read_pickle(path_test_outputs)\n",
    "\n",
    "#Complete output dataset\n",
    "GUI.Data_dict['outputs_complete_dataset']=pd.concat([GUI.Data_dict['y'], GUI.Data_dict['w']])\n",
    "#Complete inputs dataset\n",
    "GUI.Data_dict['inputs_complete_dataset']=pd.concat([GUI.Data_dict['x'], GUI.Data_dict['z']])\n",
    "#Outputs train dataset\n",
    "GUI.Data_dict['outputs_train']=GUI.Data_dict['y']\n",
    "#List of the available features (variables) in the dataset \n",
    "GUI.Data_dict['features']=list(GUI.Data_dict['x'].columns)"
   ]
  },
  {
   "cell_type": "markdown",
   "metadata": {},
   "source": [
    "Now we need to create the dictionary that will store the classes names and the corresponding colours. We use the DefineClassesGUI for this purpose. \n",
    "\n",
    "In the GUI that will appear:\n",
    "\n",
    "+ Type the name of the class in the correspodning text area widget that will appear.\n",
    "     - The names of the classes should be the same as the ones included in the csv file we imported. For this example the classes names are: C1, C2, C3, C4\n",
    "+ Click the 'Add Class Label' button\n",
    "+ Click on the colored box to open the color picker box. Pick a color and click ok. Or, type the name of the colour in the corresponding text area of the widget. \n",
    "+ Click the 'Assign color to the Class' button"
   ]
  },
  {
   "cell_type": "code",
   "execution_count": 4,
   "metadata": {},
   "outputs": [
    {
     "data": {
      "application/vnd.jupyter.widget-view+json": {
       "model_id": "1ceb9e2f6cc2485d83d4bcc91cfc0827",
       "version_major": 2,
       "version_minor": 0
      },
      "text/plain": [
       "VBox(children=(VBox(children=(HBox(children=(Text(value='', description='Class Name', placeholder='Type the cl…"
      ]
     },
     "metadata": {},
     "output_type": "display_data"
    }
   ],
   "source": [
    "GUI.DefineClassesGUI()\n",
    "GUI.classes_labels_box"
   ]
  },
  {
   "cell_type": "markdown",
   "metadata": {},
   "source": [
    "__Note:__ If someone wants to see the loaded classes and colours then in a new cell type GUI.classes_dict and run the cell. This will output a dictionary which stores key-value pairs of classes labels and classes colours."
   ]
  },
  {
   "cell_type": "markdown",
   "metadata": {},
   "source": [
    "# 3. Derive the Statistically Optimal Tree (SOT)\n",
    "\n",
    "To derive the SOT for each sample dataset we use the Exhaustive Grid Search from sklearn library (for more details: https://scikit-learn.org/0.15/modules/grid_search.html ).\n",
    "\n",
    "1. We set up the parameter space grid with the following parameters (and their ranges):\n",
    "\n",
    "    + Criterion: [gini, entropy]\n",
    "    + Max_leaf_nodes: [15:26 (or 30 in large samples), step=1]\n",
    "    + Min_impurity_decrease: [10^-5, 10^-6, 10^-7]\n",
    "\n",
    "\n",
    "2. We set a 10-fold Cross validation search\n",
    "\n",
    "In Exhaustive Grid Search all the possible combinations of parameter values are evaluated, and the best combination is retained."
   ]
  },
  {
   "cell_type": "code",
   "execution_count": 5,
   "metadata": {},
   "outputs": [
    {
     "name": "stdout",
     "output_type": "stream",
     "text": [
      "Best score: 0.7493333333333332\n",
      "Best parameters: {'criterion': 'entropy', 'max_leaf_nodes': 15, 'min_impurity_decrease': 1e-06}\n"
     ]
    },
    {
     "data": {
      "text/plain": [
       "DecisionTreeClassifier(criterion='entropy', max_leaf_nodes=15,\n",
       "                       min_impurity_decrease=1e-06)"
      ]
     },
     "execution_count": 5,
     "metadata": {},
     "output_type": "execute_result"
    }
   ],
   "source": [
    "#Create a Decision Tree classifier object\n",
    "dtc = sklearn.tree.DecisionTreeClassifier(random_state=None)\n",
    "#Set the parameter range for the maximum leaf nodes parameter\n",
    "max_leaf_nodes_range=list(range(15,25,1))\n",
    "\n",
    "#Set up the parameters grid\n",
    "parameter_grid = {'max_leaf_nodes': max_leaf_nodes_range,\n",
    "                  'criterion': ['gini', 'entropy'],\n",
    "                  'min_impurity_decrease': [0.0000001,0.000001, 0.00001]}\n",
    "# Specify the validation strategy\n",
    "cross_validation = StratifiedKFold(n_splits=10)\n",
    "\n",
    "#Exhaustive GridSearch\n",
    "grid_search = GridSearchCV(dtc, param_grid=parameter_grid, cv=cross_validation, n_jobs=-1, error_score='raise')\n",
    "grid_search.fit(GUI.Data_dict['x'], GUI.Data_dict['y'])\n",
    "print('Best score: {}'.format(grid_search.best_score_))\n",
    "print('Best parameters: {}'.format(grid_search.best_params_))\n",
    "\n",
    "#Store the stat. optimal combination found in a variable\n",
    "dtc_estimator = grid_search.best_estimator_\n",
    "dtc_estimator"
   ]
  },
  {
   "cell_type": "markdown",
   "metadata": {},
   "source": [
    "# "
   ]
  },
  {
   "cell_type": "markdown",
   "metadata": {},
   "source": [
    "__Τo obtain the SOT in the GUI that will appear the user needs to specify the above optimal values for criterion, max_leaf_nodes and min_impurity_decrease (criterion = entropy, max_leaf_nodes = 15, min_impurity_decrease = 10^-6) using the corresponding widgets.__\n",
    "\n",
    "__Note_1:__ Once the user changes the value of one of 'Decision Tree Structure Controlling Parameters and Plot Formatting' widgets the DT plot will be automatically updated.\n",
    "\n",
    "__Note_2:__ The max_depth widget value shoulde be set to a high enough value (e.g. 10) to ensure that the 15 leaf nodes will be plotted. Moreover, the max_features widget value should be set equal to number of features available in the dataset (in this case 34) in order for the algorithm to be able to choose among all of them."
   ]
  },
  {
   "cell_type": "code",
   "execution_count": 12,
   "metadata": {},
   "outputs": [
    {
     "data": {
      "application/vnd.jupyter.widget-view+json": {
       "model_id": "c7e32521716842489b29ac3db23bd0ee",
       "version_major": 2,
       "version_minor": 0
      },
      "text/plain": [
       "interactive(children=(Dropdown(description='criterion', layout=Layout(width='20%'), options=('gini', 'entropy'…"
      ]
     },
     "metadata": {},
     "output_type": "display_data"
    },
    {
     "data": {
      "application/vnd.jupyter.widget-view+json": {
       "model_id": "8ce9ce39cef2408794113244a29bc816",
       "version_major": 2,
       "version_minor": 0
      },
      "text/plain": [
       "VBox(box_style='info', children=(VBox(children=(HBox(children=(Label(value='Creation of New Composite Variable…"
      ]
     },
     "metadata": {},
     "output_type": "display_data"
    }
   ],
   "source": [
    "#Initialize the GUI that contains widgets for interactive construction and analysis of DT\n",
    "GUI.ImportDatasetGUI()\n",
    "GUI.InterConAnalDTGUI()\n",
    "\n",
    "#For the update Features button to work we need to initialize the GUI SelectFeaturesGUI.\n",
    "GUI.SelectFeaturesGUI() \n",
    "\n",
    "#Output the widgets:\n",
    "GUI.Box"
   ]
  },
  {
   "cell_type": "markdown",
   "metadata": {},
   "source": [
    "# 4. Derive interactive DT"
   ]
  },
  {
   "cell_type": "markdown",
   "metadata": {},
   "source": [
    "### 4.1 Manually Change nodes thresholds\n",
    "\n",
    "Our first interaction with the DT is to manually change nodes thresholds. We manually change the Precipitation and Aridity Index thresholds that appear on the SOT according to the Holdridge chart thresholds. We assume that the threshold values of the DT as derived by the algorithm are optimal, but these are not necessarily physically meaningful. On the contrary, the thresholds appearing in the Holdridge chart represent the accumulated, scientific knowledge and are physically meaningful values. For example, a change could be of the form: Node 1: from Pm<=229.815 to Pm<=250. We don't change the thresholds in the root node because otherwise it would be like manually building the DT from scratch\n",
    "\n",
    "How to manually change nodes feaures and threshold to split using the GUI?\n",
    "\n",
    "1. In the widget 'Node_id', specify the id of the node which its threshold needs to be changed. The user can see the nodes IDs by hovering over the nodes in the plot (a window displaying the ID, the impurity and the nodes samples appears).\n",
    "2. Select the variable to split from the dropdown menu of the widget named 'Features'.\n",
    "3. Specify the new threshold value in the widget named 'Split Point'\n",
    "4. Specify the max_leaf_nodes the left subtree should have 'Max_leaf_nodes_right_subtree'\n",
    "5. Specify the max_leaf_nodes the right subtree should have in the widget named 'Max_leaf_nodes_right_subtree'   \n",
    "6. Press the button widget 'Apply Changes'.\n",
    "  \n",
    "__Note_1:__ If we want to make changes to a node which in the original SOT one of its barnches leads to a leaf node e.g. left branch, then for this node for the left_subtree we need to specify max_leaf_nodes_left_subtree = 2, because otherwise the program won't work. Then, we can manually prune that node if we want to force it to have one leaf_node as in the original SOT.\n",
    "\n",
    "We repeat steps 1 to 6 until we are happy. In this case study we make the following changes in the following order:\n",
    "\n",
    "1. Node 1:  From Pm <= 229.815 to Pm <= 250  (Max_leaf_nodes_left_subtree = 4, Max_leaf_nodes_right_subtree = 6)\n",
    "2. Node 10: From Pm <= 527.535 to Pm <= 500  (Max_leaf_nodes_left_subtree = 3, Max_leaf_nodes_right_subtree = 2)\n",
    "3. Node 3:  From Pm <= 79.139  to Pm <= 125  (Max_leaf_nodes_left_subtree = 2, Max_leaf_nodes_right_subtree = 2) \n",
    "4. Node 7:  From Pm <= 1008.85 to Pm <= 1000 (Max_leaf_nodes_left_subtree = 2, Max_leaf_nodes_right_subtree = 2)\n",
    "5. Node 10: From AI <= 1.604   to AI <= 2    (Max_leaf_nodes_left_subtree = 2, Max_leaf_nodes_right_subtree = 2)\n",
    "\n",
    "__Note:__ Everytime we make a change to a node and we press the 'Apply Changes' button the nodes numbering will be updated in the derived tree. So in the above list the node ids refer to the last modified tree.\n",
    "\n",
    "### 4.2 Manual Pruning\n",
    "\n",
    "Then we manually prune nodes that we consider less informative or redundant. For example, sometimes a split might lead to leaves nodes of the same class. This could be a bit confusing. The classes of a leaf node are determined based on majority rule. The leaf node will be assigned with the class that contains the most data points. If we make further splits on such nodes we will get a different class. But the more splits we make the higher the risk of overfitting and then our DT could not genralize well. So, we manually prune these nodes. \n",
    " \n",
    "To manually prune nodes using the GUI we follow the steps:\n",
    "\n",
    "1. Check the 'Tree is Modified' widget because we previously modified the DT by manually changing the threshold values.\n",
    "2. Specify node id to be pruned in the 'Node to prune' widget\n",
    "3. Press the 'Prune' button\n",
    "\n",
    "We repeat steps 2 to 3 until we are happy. In this case study we prune the following nodes in the following order:\n",
    "\n",
    "1. Node: 16 (of the last modified tree)\n",
    "2. Node: 38\n",
    "3. Node: 24\n",
    "4. Node: 30\n",
    "5. Node: 17\n",
    "\n",
    "__Note:__ Everytime we make a change to a node and we press the 'Prune' button the nodes numbering will be updated in the derived tree. In the above list the node ids in steps 2 to 5 refer to the last pruned tree.\n"
   ]
  },
  {
   "cell_type": "code",
   "execution_count": 13,
   "metadata": {},
   "outputs": [
    {
     "data": {
      "application/vnd.jupyter.widget-view+json": {
       "model_id": "8ce9ce39cef2408794113244a29bc816",
       "version_major": 2,
       "version_minor": 0
      },
      "text/plain": [
       "VBox(box_style='info', children=(VBox(children=(HBox(children=(Label(value='Creation of New Composite Variable…"
      ]
     },
     "metadata": {},
     "output_type": "display_data"
    }
   ],
   "source": [
    "#Output the widgets:\n",
    "GUI.Box"
   ]
  },
  {
   "cell_type": "markdown",
   "metadata": {},
   "source": [
    "# 5. Evaluation of SOT and iDTs perfomace"
   ]
  },
  {
   "cell_type": "markdown",
   "metadata": {},
   "source": [
    "The SOT and iDTs derived for the 15 different sample datasets are evaluated based on:\n",
    "\n",
    "1. Their classification accuracy on train and test sets\n",
    "2. Their interpretability. To quantify DT interpretability we measure the number of Holdridge life zones diamonds that each leaf can be mapped to. We assume that mapping each recharge class in fewer land area types is more informative and helpful for the expert.  Therefore, the fewer the diamonds a leaf is mapped to the better.\n",
    "\n",
    "#### Assessment of the classification performance\n",
    "\n",
    "In the GUI that will appear the user should:\n",
    "\n",
    "+ Specify the tree state using the dropdown widget:\n",
    "    - If there were no previous interactions with the DT then the user should select the 'No expert tree interactions'. By selecting this, the accuracies for the SOT will be calculated.\n",
    "    - If the last interaction with the DT was manual changing of variable and/or threshold to split then the user should select the option 'Tree was last modified'\n",
    "    - If the last interaction with the DT was manual pruning then the user needs to select the option 'Tree was last pruned'. By selecting this, the accuracies for the iDT will be calculated.\n",
    "+ Make sure the 'Train_test_splitting' is checked.\n",
    "+ Then click on the 'Calculate accuracy' button (In the case of iDT it will take few minutes)"
   ]
  },
  {
   "cell_type": "code",
   "execution_count": 14,
   "metadata": {},
   "outputs": [
    {
     "data": {
      "application/vnd.jupyter.widget-view+json": {
       "model_id": "b757b12b77f6459e98e350eed8064ef4",
       "version_major": 2,
       "version_minor": 0
      },
      "text/plain": [
       "VBox(box_style='info', children=(VBox(box_style='info', children=(HBox(box_style='info', children=(Dropdown(de…"
      ]
     },
     "metadata": {},
     "output_type": "display_data"
    }
   ],
   "source": [
    "#Output the evaluation widgets\n",
    "GUI.Eval_box"
   ]
  },
  {
   "cell_type": "markdown",
   "metadata": {},
   "source": [
    "#### Assessment of interpretability of DT:\n",
    "\n",
    "For each leaf node (in both trees) we follow the rules and apply them to the Holdridge chart and measure the number of diamonds this node falls into. The fewer the diamonds the better. For example:\n",
    "    \n",
    " + SOT:\n",
    "   + The Node 25 tree rules are Pm<=681.345 and Pm<=229.815 and h_veg <=10.315 and Pm<=527.535 and Wsm <=4.366. For Holdridge chart only Pm and AI splits are relevant. Therefore, this leaf node corresponds to all the diamonds that satisfy the conditions Pm>229.815 and Pm<=527.535. So, this node can fall to either of the 17 diamonds shown in the following figure:\n",
    "\n",
    "        <img style=\"width:50px; height=10px; float: center;\" src=\"Sample_datasets\\4. Random_seed_5562000\\HC_SOT_Pm_229_527.png\">\n",
    "\n",
    "    + The Node 26 tree rules are Pm<=681.345 and Pm<=229.815 and h_veg<=10.315 and Pm<=527.535 and Wsm>4.366. Therefore, this leaf node corresponds to all the diamonds that satisfy the conditions Pm>229.815 and Pm<=527.535. So, this node can fall to either of the 17 diamonds shown in the above figure.\n",
    "   \n",
    " + iDT:\n",
    "     + The Node 28 tree rules are Pm<=681.345 and Pm>250 and r_st<=157.955 and Pm<=500 and AI<=2.00. Therefore, this leaf node corresponds to all the diamonds that satisfy the conditions Pm<=250 and Pm<500 and AI<=2.00. So, this node can fall to either of the 4 diamonds shown in the following figure:\n",
    "     \n",
    "          <img style=\"float: center;\" src=\"Sample_datasets\\4. Random_seed_5562000\\HC_INT_Pm[250,500]_AI[0,2].png\">\n",
    "     \n",
    "     + The Node 30 tree rules are Pm<=681.345 and Pm>250 and r_st<=157.955 and Pm<=500 and AI>2.00 and a<=3.028. Therefore, this leaf node corresponds to all the diamonds that satisfy the conditions Pm>250 and Pm<=500 and AI<=2.00. So, this node can fall to either of the 2 diamonds shown in the following figure:\n",
    "     \n",
    "          <img style=\"float: center;\" src=\"Sample_datasets\\4. Random_seed_5562000\\HC_INT_Pm[250,500]_AI[2,].png\">\n",
    "     \n",
    "     + The Node 31 tree rules are Pm<=681.345 and Pm>250 and r_st<=157.955 and Pm<=500 and AI>2.00 and a>3.028. Therefore, this leaf node corresponds to all the diamonds that satisfy the conditions Pm>500 and AI<=2.00. So, this node can fall to either of the 2 diamonds shown in the above figure.           "
   ]
  },
  {
   "cell_type": "markdown",
   "metadata": {},
   "source": [
    "We specified the number of diamonds for each leaf node of the DT and stored this information in tables (which are provided in https://github.com/Sarailidis/Interactive-Decision-Trees/tree/main/Workflows/2nd_case_study ). Now, it is possible to estimate the average number of diamonds each class of the DT can be mapped to: "
   ]
  },
  {
   "cell_type": "code",
   "execution_count": 15,
   "metadata": {},
   "outputs": [
    {
     "data": {
      "application/vnd.plotly.v1+json": {
       "config": {
        "plotlyServerURL": "https://plot.ly"
       },
       "data": [
        {
         "marker": {
          "color": "royalblue"
         },
         "name": "Interactive DT",
         "text": [
          12,
          15,
          9,
          13,
          12
         ],
         "textfont": {
          "family": "Arial",
          "size": 15
         },
         "textposition": "outside",
         "type": "bar",
         "x": [
          "C1",
          "C2",
          "C3",
          "C4",
          "Total"
         ],
         "y": [
          12,
          15,
          9,
          13,
          12
         ]
        },
        {
         "marker": {
          "color": "firebrick"
         },
         "name": "Stat. Opt. DT",
         "text": [
          10,
          8,
          5,
          13,
          8
         ],
         "textfont": {
          "family": "Arial",
          "size": 15
         },
         "textposition": "outside",
         "type": "bar",
         "x": [
          "C1",
          "C2",
          "C3",
          "C4",
          "Total"
         ],
         "y": [
          10,
          8,
          5,
          13,
          8
         ]
        }
       ],
       "layout": {
        "autosize": false,
        "barmode": "group",
        "height": 600,
        "legend": {
         "font": {
          "family": "Arial",
          "size": 15
         }
        },
        "margin": {
         "b": 50,
         "l": 20,
         "pad": 4,
         "r": 20,
         "t": 50
        },
        "template": {
         "data": {
          "bar": [
           {
            "error_x": {
             "color": "#2a3f5f"
            },
            "error_y": {
             "color": "#2a3f5f"
            },
            "marker": {
             "line": {
              "color": "white",
              "width": 0.5
             }
            },
            "type": "bar"
           }
          ],
          "barpolar": [
           {
            "marker": {
             "line": {
              "color": "white",
              "width": 0.5
             }
            },
            "type": "barpolar"
           }
          ],
          "carpet": [
           {
            "aaxis": {
             "endlinecolor": "#2a3f5f",
             "gridcolor": "#C8D4E3",
             "linecolor": "#C8D4E3",
             "minorgridcolor": "#C8D4E3",
             "startlinecolor": "#2a3f5f"
            },
            "baxis": {
             "endlinecolor": "#2a3f5f",
             "gridcolor": "#C8D4E3",
             "linecolor": "#C8D4E3",
             "minorgridcolor": "#C8D4E3",
             "startlinecolor": "#2a3f5f"
            },
            "type": "carpet"
           }
          ],
          "choropleth": [
           {
            "colorbar": {
             "outlinewidth": 0,
             "ticks": ""
            },
            "type": "choropleth"
           }
          ],
          "contour": [
           {
            "colorbar": {
             "outlinewidth": 0,
             "ticks": ""
            },
            "colorscale": [
             [
              0,
              "#0d0887"
             ],
             [
              0.1111111111111111,
              "#46039f"
             ],
             [
              0.2222222222222222,
              "#7201a8"
             ],
             [
              0.3333333333333333,
              "#9c179e"
             ],
             [
              0.4444444444444444,
              "#bd3786"
             ],
             [
              0.5555555555555556,
              "#d8576b"
             ],
             [
              0.6666666666666666,
              "#ed7953"
             ],
             [
              0.7777777777777778,
              "#fb9f3a"
             ],
             [
              0.8888888888888888,
              "#fdca26"
             ],
             [
              1,
              "#f0f921"
             ]
            ],
            "type": "contour"
           }
          ],
          "contourcarpet": [
           {
            "colorbar": {
             "outlinewidth": 0,
             "ticks": ""
            },
            "type": "contourcarpet"
           }
          ],
          "heatmap": [
           {
            "colorbar": {
             "outlinewidth": 0,
             "ticks": ""
            },
            "colorscale": [
             [
              0,
              "#0d0887"
             ],
             [
              0.1111111111111111,
              "#46039f"
             ],
             [
              0.2222222222222222,
              "#7201a8"
             ],
             [
              0.3333333333333333,
              "#9c179e"
             ],
             [
              0.4444444444444444,
              "#bd3786"
             ],
             [
              0.5555555555555556,
              "#d8576b"
             ],
             [
              0.6666666666666666,
              "#ed7953"
             ],
             [
              0.7777777777777778,
              "#fb9f3a"
             ],
             [
              0.8888888888888888,
              "#fdca26"
             ],
             [
              1,
              "#f0f921"
             ]
            ],
            "type": "heatmap"
           }
          ],
          "heatmapgl": [
           {
            "colorbar": {
             "outlinewidth": 0,
             "ticks": ""
            },
            "colorscale": [
             [
              0,
              "#0d0887"
             ],
             [
              0.1111111111111111,
              "#46039f"
             ],
             [
              0.2222222222222222,
              "#7201a8"
             ],
             [
              0.3333333333333333,
              "#9c179e"
             ],
             [
              0.4444444444444444,
              "#bd3786"
             ],
             [
              0.5555555555555556,
              "#d8576b"
             ],
             [
              0.6666666666666666,
              "#ed7953"
             ],
             [
              0.7777777777777778,
              "#fb9f3a"
             ],
             [
              0.8888888888888888,
              "#fdca26"
             ],
             [
              1,
              "#f0f921"
             ]
            ],
            "type": "heatmapgl"
           }
          ],
          "histogram": [
           {
            "marker": {
             "colorbar": {
              "outlinewidth": 0,
              "ticks": ""
             }
            },
            "type": "histogram"
           }
          ],
          "histogram2d": [
           {
            "colorbar": {
             "outlinewidth": 0,
             "ticks": ""
            },
            "colorscale": [
             [
              0,
              "#0d0887"
             ],
             [
              0.1111111111111111,
              "#46039f"
             ],
             [
              0.2222222222222222,
              "#7201a8"
             ],
             [
              0.3333333333333333,
              "#9c179e"
             ],
             [
              0.4444444444444444,
              "#bd3786"
             ],
             [
              0.5555555555555556,
              "#d8576b"
             ],
             [
              0.6666666666666666,
              "#ed7953"
             ],
             [
              0.7777777777777778,
              "#fb9f3a"
             ],
             [
              0.8888888888888888,
              "#fdca26"
             ],
             [
              1,
              "#f0f921"
             ]
            ],
            "type": "histogram2d"
           }
          ],
          "histogram2dcontour": [
           {
            "colorbar": {
             "outlinewidth": 0,
             "ticks": ""
            },
            "colorscale": [
             [
              0,
              "#0d0887"
             ],
             [
              0.1111111111111111,
              "#46039f"
             ],
             [
              0.2222222222222222,
              "#7201a8"
             ],
             [
              0.3333333333333333,
              "#9c179e"
             ],
             [
              0.4444444444444444,
              "#bd3786"
             ],
             [
              0.5555555555555556,
              "#d8576b"
             ],
             [
              0.6666666666666666,
              "#ed7953"
             ],
             [
              0.7777777777777778,
              "#fb9f3a"
             ],
             [
              0.8888888888888888,
              "#fdca26"
             ],
             [
              1,
              "#f0f921"
             ]
            ],
            "type": "histogram2dcontour"
           }
          ],
          "mesh3d": [
           {
            "colorbar": {
             "outlinewidth": 0,
             "ticks": ""
            },
            "type": "mesh3d"
           }
          ],
          "parcoords": [
           {
            "line": {
             "colorbar": {
              "outlinewidth": 0,
              "ticks": ""
             }
            },
            "type": "parcoords"
           }
          ],
          "pie": [
           {
            "automargin": true,
            "type": "pie"
           }
          ],
          "scatter": [
           {
            "marker": {
             "colorbar": {
              "outlinewidth": 0,
              "ticks": ""
             }
            },
            "type": "scatter"
           }
          ],
          "scatter3d": [
           {
            "line": {
             "colorbar": {
              "outlinewidth": 0,
              "ticks": ""
             }
            },
            "marker": {
             "colorbar": {
              "outlinewidth": 0,
              "ticks": ""
             }
            },
            "type": "scatter3d"
           }
          ],
          "scattercarpet": [
           {
            "marker": {
             "colorbar": {
              "outlinewidth": 0,
              "ticks": ""
             }
            },
            "type": "scattercarpet"
           }
          ],
          "scattergeo": [
           {
            "marker": {
             "colorbar": {
              "outlinewidth": 0,
              "ticks": ""
             }
            },
            "type": "scattergeo"
           }
          ],
          "scattergl": [
           {
            "marker": {
             "colorbar": {
              "outlinewidth": 0,
              "ticks": ""
             }
            },
            "type": "scattergl"
           }
          ],
          "scattermapbox": [
           {
            "marker": {
             "colorbar": {
              "outlinewidth": 0,
              "ticks": ""
             }
            },
            "type": "scattermapbox"
           }
          ],
          "scatterpolar": [
           {
            "marker": {
             "colorbar": {
              "outlinewidth": 0,
              "ticks": ""
             }
            },
            "type": "scatterpolar"
           }
          ],
          "scatterpolargl": [
           {
            "marker": {
             "colorbar": {
              "outlinewidth": 0,
              "ticks": ""
             }
            },
            "type": "scatterpolargl"
           }
          ],
          "scatterternary": [
           {
            "marker": {
             "colorbar": {
              "outlinewidth": 0,
              "ticks": ""
             }
            },
            "type": "scatterternary"
           }
          ],
          "surface": [
           {
            "colorbar": {
             "outlinewidth": 0,
             "ticks": ""
            },
            "colorscale": [
             [
              0,
              "#0d0887"
             ],
             [
              0.1111111111111111,
              "#46039f"
             ],
             [
              0.2222222222222222,
              "#7201a8"
             ],
             [
              0.3333333333333333,
              "#9c179e"
             ],
             [
              0.4444444444444444,
              "#bd3786"
             ],
             [
              0.5555555555555556,
              "#d8576b"
             ],
             [
              0.6666666666666666,
              "#ed7953"
             ],
             [
              0.7777777777777778,
              "#fb9f3a"
             ],
             [
              0.8888888888888888,
              "#fdca26"
             ],
             [
              1,
              "#f0f921"
             ]
            ],
            "type": "surface"
           }
          ],
          "table": [
           {
            "cells": {
             "fill": {
              "color": "#EBF0F8"
             },
             "line": {
              "color": "white"
             }
            },
            "header": {
             "fill": {
              "color": "#C8D4E3"
             },
             "line": {
              "color": "white"
             }
            },
            "type": "table"
           }
          ]
         },
         "layout": {
          "annotationdefaults": {
           "arrowcolor": "#2a3f5f",
           "arrowhead": 0,
           "arrowwidth": 1
          },
          "autotypenumbers": "strict",
          "coloraxis": {
           "colorbar": {
            "outlinewidth": 0,
            "ticks": ""
           }
          },
          "colorscale": {
           "diverging": [
            [
             0,
             "#8e0152"
            ],
            [
             0.1,
             "#c51b7d"
            ],
            [
             0.2,
             "#de77ae"
            ],
            [
             0.3,
             "#f1b6da"
            ],
            [
             0.4,
             "#fde0ef"
            ],
            [
             0.5,
             "#f7f7f7"
            ],
            [
             0.6,
             "#e6f5d0"
            ],
            [
             0.7,
             "#b8e186"
            ],
            [
             0.8,
             "#7fbc41"
            ],
            [
             0.9,
             "#4d9221"
            ],
            [
             1,
             "#276419"
            ]
           ],
           "sequential": [
            [
             0,
             "#0d0887"
            ],
            [
             0.1111111111111111,
             "#46039f"
            ],
            [
             0.2222222222222222,
             "#7201a8"
            ],
            [
             0.3333333333333333,
             "#9c179e"
            ],
            [
             0.4444444444444444,
             "#bd3786"
            ],
            [
             0.5555555555555556,
             "#d8576b"
            ],
            [
             0.6666666666666666,
             "#ed7953"
            ],
            [
             0.7777777777777778,
             "#fb9f3a"
            ],
            [
             0.8888888888888888,
             "#fdca26"
            ],
            [
             1,
             "#f0f921"
            ]
           ],
           "sequentialminus": [
            [
             0,
             "#0d0887"
            ],
            [
             0.1111111111111111,
             "#46039f"
            ],
            [
             0.2222222222222222,
             "#7201a8"
            ],
            [
             0.3333333333333333,
             "#9c179e"
            ],
            [
             0.4444444444444444,
             "#bd3786"
            ],
            [
             0.5555555555555556,
             "#d8576b"
            ],
            [
             0.6666666666666666,
             "#ed7953"
            ],
            [
             0.7777777777777778,
             "#fb9f3a"
            ],
            [
             0.8888888888888888,
             "#fdca26"
            ],
            [
             1,
             "#f0f921"
            ]
           ]
          },
          "colorway": [
           "#636efa",
           "#EF553B",
           "#00cc96",
           "#ab63fa",
           "#FFA15A",
           "#19d3f3",
           "#FF6692",
           "#B6E880",
           "#FF97FF",
           "#FECB52"
          ],
          "font": {
           "color": "#2a3f5f"
          },
          "geo": {
           "bgcolor": "white",
           "lakecolor": "white",
           "landcolor": "white",
           "showlakes": true,
           "showland": true,
           "subunitcolor": "#C8D4E3"
          },
          "hoverlabel": {
           "align": "left"
          },
          "hovermode": "closest",
          "mapbox": {
           "style": "light"
          },
          "paper_bgcolor": "white",
          "plot_bgcolor": "white",
          "polar": {
           "angularaxis": {
            "gridcolor": "#EBF0F8",
            "linecolor": "#EBF0F8",
            "ticks": ""
           },
           "bgcolor": "white",
           "radialaxis": {
            "gridcolor": "#EBF0F8",
            "linecolor": "#EBF0F8",
            "ticks": ""
           }
          },
          "scene": {
           "xaxis": {
            "backgroundcolor": "white",
            "gridcolor": "#DFE8F3",
            "gridwidth": 2,
            "linecolor": "#EBF0F8",
            "showbackground": true,
            "ticks": "",
            "zerolinecolor": "#EBF0F8"
           },
           "yaxis": {
            "backgroundcolor": "white",
            "gridcolor": "#DFE8F3",
            "gridwidth": 2,
            "linecolor": "#EBF0F8",
            "showbackground": true,
            "ticks": "",
            "zerolinecolor": "#EBF0F8"
           },
           "zaxis": {
            "backgroundcolor": "white",
            "gridcolor": "#DFE8F3",
            "gridwidth": 2,
            "linecolor": "#EBF0F8",
            "showbackground": true,
            "ticks": "",
            "zerolinecolor": "#EBF0F8"
           }
          },
          "shapedefaults": {
           "line": {
            "color": "#2a3f5f"
           }
          },
          "ternary": {
           "aaxis": {
            "gridcolor": "#DFE8F3",
            "linecolor": "#A2B1C6",
            "ticks": ""
           },
           "baxis": {
            "gridcolor": "#DFE8F3",
            "linecolor": "#A2B1C6",
            "ticks": ""
           },
           "bgcolor": "white",
           "caxis": {
            "gridcolor": "#DFE8F3",
            "linecolor": "#A2B1C6",
            "ticks": ""
           }
          },
          "title": {
           "x": 0.05
          },
          "xaxis": {
           "automargin": true,
           "gridcolor": "#EBF0F8",
           "linecolor": "#EBF0F8",
           "ticks": "",
           "title": {
            "standoff": 15
           },
           "zerolinecolor": "#EBF0F8",
           "zerolinewidth": 2
          },
          "yaxis": {
           "automargin": true,
           "gridcolor": "#EBF0F8",
           "linecolor": "#EBF0F8",
           "ticks": "",
           "title": {
            "standoff": 15
           },
           "zerolinecolor": "#EBF0F8",
           "zerolinewidth": 2
          }
         }
        },
        "title": {
         "font": {
          "family": "Arial",
          "size": 15
         },
         "text": "Average number of Holdridge Life zones per rechrarge class",
         "x": 0.5,
         "xanchor": "center",
         "y": 1,
         "yanchor": "top"
        },
        "width": 1200,
        "xaxis": {
         "autorange": true,
         "range": [
          -0.5,
          4.5
         ],
         "tickfont": {
          "family": "Arial",
          "size": 15
         },
         "title": {
          "font": {
           "family": "Arial",
           "size": 15
          },
          "text": "Recharge Classes"
         },
         "type": "category"
        },
        "yaxis": {
         "autorange": true,
         "range": [
          0,
          15.789473684210526
         ],
         "tickfont": {
          "family": "Arial",
          "size": 15
         },
         "title": {
          "font": {
           "family": "Arial",
           "size": 15
          },
          "text": "Average No of Holdridge Life Zones"
         },
         "type": "linear"
        }
       }
      },
      "image/png": "[encoded data removed]",
      "text/html": [
       "<div>                            <div id=\"276cc5c0-e7d9-4cd0-9c46-94beaa27760f\" class=\"plotly-graph-div\" style=\"height:600px; width:1200px;\"></div>            <script type=\"text/javascript\">                require([\"plotly\"], function(Plotly) {                    window.PLOTLYENV=window.PLOTLYENV || {};                                    if (document.getElementById(\"276cc5c0-e7d9-4cd0-9c46-94beaa27760f\")) {                    Plotly.newPlot(                        \"276cc5c0-e7d9-4cd0-9c46-94beaa27760f\",                        [{\"marker\": {\"color\": \"royalblue\"}, \"name\": \"Interactive DT\", \"text\": [12.0, 15.0, 9.0, 13.0, 12.0], \"textfont\": {\"family\": \"Arial\", \"size\": 15}, \"textposition\": \"outside\", \"type\": \"bar\", \"x\": [\"C1\", \"C2\", \"C3\", \"C4\", \"Total\"], \"y\": [12.0, 15.0, 9.0, 13.0, 12.0]}, {\"marker\": {\"color\": \"firebrick\"}, \"name\": \"Stat. Opt. DT\", \"text\": [10.0, 8.0, 5.0, 13.0, 8.0], \"textfont\": {\"family\": \"Arial\", \"size\": 15}, \"textposition\": \"outside\", \"type\": \"bar\", \"x\": [\"C1\", \"C2\", \"C3\", \"C4\", \"Total\"], \"y\": [10.0, 8.0, 5.0, 13.0, 8.0]}],                        {\"autosize\": false, \"barmode\": \"group\", \"height\": 600, \"legend\": {\"font\": {\"family\": \"Arial\", \"size\": 15}}, \"margin\": {\"b\": 50, \"l\": 20, \"pad\": 4, \"r\": 20, \"t\": 50}, \"template\": {\"data\": {\"bar\": [{\"error_x\": {\"color\": \"#2a3f5f\"}, \"error_y\": {\"color\": \"#2a3f5f\"}, \"marker\": {\"line\": {\"color\": \"white\", \"width\": 0.5}}, \"type\": \"bar\"}], \"barpolar\": [{\"marker\": {\"line\": {\"color\": \"white\", \"width\": 0.5}}, \"type\": \"barpolar\"}], \"carpet\": [{\"aaxis\": {\"endlinecolor\": \"#2a3f5f\", \"gridcolor\": \"#C8D4E3\", \"linecolor\": \"#C8D4E3\", \"minorgridcolor\": \"#C8D4E3\", \"startlinecolor\": \"#2a3f5f\"}, \"baxis\": {\"endlinecolor\": \"#2a3f5f\", \"gridcolor\": \"#C8D4E3\", \"linecolor\": \"#C8D4E3\", \"minorgridcolor\": \"#C8D4E3\", \"startlinecolor\": \"#2a3f5f\"}, \"type\": \"carpet\"}], \"choropleth\": [{\"colorbar\": {\"outlinewidth\": 0, \"ticks\": \"\"}, \"type\": \"choropleth\"}], \"contour\": [{\"colorbar\": {\"outlinewidth\": 0, \"ticks\": \"\"}, \"colorscale\": [[0.0, \"#0d0887\"], [0.1111111111111111, \"#46039f\"], [0.2222222222222222, \"#7201a8\"], [0.3333333333333333, \"#9c179e\"], [0.4444444444444444, \"#bd3786\"], [0.5555555555555556, \"#d8576b\"], [0.6666666666666666, \"#ed7953\"], [0.7777777777777778, \"#fb9f3a\"], [0.8888888888888888, \"#fdca26\"], [1.0, \"#f0f921\"]], \"type\": \"contour\"}], \"contourcarpet\": [{\"colorbar\": {\"outlinewidth\": 0, \"ticks\": \"\"}, \"type\": \"contourcarpet\"}], \"heatmap\": [{\"colorbar\": {\"outlinewidth\": 0, \"ticks\": \"\"}, \"colorscale\": [[0.0, \"#0d0887\"], [0.1111111111111111, \"#46039f\"], [0.2222222222222222, \"#7201a8\"], [0.3333333333333333, \"#9c179e\"], [0.4444444444444444, \"#bd3786\"], [0.5555555555555556, \"#d8576b\"], [0.6666666666666666, \"#ed7953\"], [0.7777777777777778, \"#fb9f3a\"], [0.8888888888888888, \"#fdca26\"], [1.0, \"#f0f921\"]], \"type\": \"heatmap\"}], \"heatmapgl\": [{\"colorbar\": {\"outlinewidth\": 0, \"ticks\": \"\"}, \"colorscale\": [[0.0, \"#0d0887\"], [0.1111111111111111, \"#46039f\"], [0.2222222222222222, \"#7201a8\"], [0.3333333333333333, \"#9c179e\"], [0.4444444444444444, \"#bd3786\"], [0.5555555555555556, \"#d8576b\"], [0.6666666666666666, \"#ed7953\"], [0.7777777777777778, \"#fb9f3a\"], [0.8888888888888888, \"#fdca26\"], [1.0, \"#f0f921\"]], \"type\": \"heatmapgl\"}], \"histogram\": [{\"marker\": {\"colorbar\": {\"outlinewidth\": 0, \"ticks\": \"\"}}, \"type\": \"histogram\"}], \"histogram2d\": [{\"colorbar\": {\"outlinewidth\": 0, \"ticks\": \"\"}, \"colorscale\": [[0.0, \"#0d0887\"], [0.1111111111111111, \"#46039f\"], [0.2222222222222222, \"#7201a8\"], [0.3333333333333333, \"#9c179e\"], [0.4444444444444444, \"#bd3786\"], [0.5555555555555556, \"#d8576b\"], [0.6666666666666666, \"#ed7953\"], [0.7777777777777778, \"#fb9f3a\"], [0.8888888888888888, \"#fdca26\"], [1.0, \"#f0f921\"]], \"type\": \"histogram2d\"}], \"histogram2dcontour\": [{\"colorbar\": {\"outlinewidth\": 0, \"ticks\": \"\"}, \"colorscale\": [[0.0, \"#0d0887\"], [0.1111111111111111, \"#46039f\"], [0.2222222222222222, \"#7201a8\"], [0.3333333333333333, \"#9c179e\"], [0.4444444444444444, \"#bd3786\"], [0.5555555555555556, \"#d8576b\"], [0.6666666666666666, \"#ed7953\"], [0.7777777777777778, \"#fb9f3a\"], [0.8888888888888888, \"#fdca26\"], [1.0, \"#f0f921\"]], \"type\": \"histogram2dcontour\"}], \"mesh3d\": [{\"colorbar\": {\"outlinewidth\": 0, \"ticks\": \"\"}, \"type\": \"mesh3d\"}], \"parcoords\": [{\"line\": {\"colorbar\": {\"outlinewidth\": 0, \"ticks\": \"\"}}, \"type\": \"parcoords\"}], \"pie\": [{\"automargin\": true, \"type\": \"pie\"}], \"scatter\": [{\"marker\": {\"colorbar\": {\"outlinewidth\": 0, \"ticks\": \"\"}}, \"type\": \"scatter\"}], \"scatter3d\": [{\"line\": {\"colorbar\": {\"outlinewidth\": 0, \"ticks\": \"\"}}, \"marker\": {\"colorbar\": {\"outlinewidth\": 0, \"ticks\": \"\"}}, \"type\": \"scatter3d\"}], \"scattercarpet\": [{\"marker\": {\"colorbar\": {\"outlinewidth\": 0, \"ticks\": \"\"}}, \"type\": \"scattercarpet\"}], \"scattergeo\": [{\"marker\": {\"colorbar\": {\"outlinewidth\": 0, \"ticks\": \"\"}}, \"type\": \"scattergeo\"}], \"scattergl\": [{\"marker\": {\"colorbar\": {\"outlinewidth\": 0, \"ticks\": \"\"}}, \"type\": \"scattergl\"}], \"scattermapbox\": [{\"marker\": {\"colorbar\": {\"outlinewidth\": 0, \"ticks\": \"\"}}, \"type\": \"scattermapbox\"}], \"scatterpolar\": [{\"marker\": {\"colorbar\": {\"outlinewidth\": 0, \"ticks\": \"\"}}, \"type\": \"scatterpolar\"}], \"scatterpolargl\": [{\"marker\": {\"colorbar\": {\"outlinewidth\": 0, \"ticks\": \"\"}}, \"type\": \"scatterpolargl\"}], \"scatterternary\": [{\"marker\": {\"colorbar\": {\"outlinewidth\": 0, \"ticks\": \"\"}}, \"type\": \"scatterternary\"}], \"surface\": [{\"colorbar\": {\"outlinewidth\": 0, \"ticks\": \"\"}, \"colorscale\": [[0.0, \"#0d0887\"], [0.1111111111111111, \"#46039f\"], [0.2222222222222222, \"#7201a8\"], [0.3333333333333333, \"#9c179e\"], [0.4444444444444444, \"#bd3786\"], [0.5555555555555556, \"#d8576b\"], [0.6666666666666666, \"#ed7953\"], [0.7777777777777778, \"#fb9f3a\"], [0.8888888888888888, \"#fdca26\"], [1.0, \"#f0f921\"]], \"type\": \"surface\"}], \"table\": [{\"cells\": {\"fill\": {\"color\": \"#EBF0F8\"}, \"line\": {\"color\": \"white\"}}, \"header\": {\"fill\": {\"color\": \"#C8D4E3\"}, \"line\": {\"color\": \"white\"}}, \"type\": \"table\"}]}, \"layout\": {\"annotationdefaults\": {\"arrowcolor\": \"#2a3f5f\", \"arrowhead\": 0, \"arrowwidth\": 1}, \"autotypenumbers\": \"strict\", \"coloraxis\": {\"colorbar\": {\"outlinewidth\": 0, \"ticks\": \"\"}}, \"colorscale\": {\"diverging\": [[0, \"#8e0152\"], [0.1, \"#c51b7d\"], [0.2, \"#de77ae\"], [0.3, \"#f1b6da\"], [0.4, \"#fde0ef\"], [0.5, \"#f7f7f7\"], [0.6, \"#e6f5d0\"], [0.7, \"#b8e186\"], [0.8, \"#7fbc41\"], [0.9, \"#4d9221\"], [1, \"#276419\"]], \"sequential\": [[0.0, \"#0d0887\"], [0.1111111111111111, \"#46039f\"], [0.2222222222222222, \"#7201a8\"], [0.3333333333333333, \"#9c179e\"], [0.4444444444444444, \"#bd3786\"], [0.5555555555555556, \"#d8576b\"], [0.6666666666666666, \"#ed7953\"], [0.7777777777777778, \"#fb9f3a\"], [0.8888888888888888, \"#fdca26\"], [1.0, \"#f0f921\"]], \"sequentialminus\": [[0.0, \"#0d0887\"], [0.1111111111111111, \"#46039f\"], [0.2222222222222222, \"#7201a8\"], [0.3333333333333333, \"#9c179e\"], [0.4444444444444444, \"#bd3786\"], [0.5555555555555556, \"#d8576b\"], [0.6666666666666666, \"#ed7953\"], [0.7777777777777778, \"#fb9f3a\"], [0.8888888888888888, \"#fdca26\"], [1.0, \"#f0f921\"]]}, \"colorway\": [\"#636efa\", \"#EF553B\", \"#00cc96\", \"#ab63fa\", \"#FFA15A\", \"#19d3f3\", \"#FF6692\", \"#B6E880\", \"#FF97FF\", \"#FECB52\"], \"font\": {\"color\": \"#2a3f5f\"}, \"geo\": {\"bgcolor\": \"white\", \"lakecolor\": \"white\", \"landcolor\": \"white\", \"showlakes\": true, \"showland\": true, \"subunitcolor\": \"#C8D4E3\"}, \"hoverlabel\": {\"align\": \"left\"}, \"hovermode\": \"closest\", \"mapbox\": {\"style\": \"light\"}, \"paper_bgcolor\": \"white\", \"plot_bgcolor\": \"white\", \"polar\": {\"angularaxis\": {\"gridcolor\": \"#EBF0F8\", \"linecolor\": \"#EBF0F8\", \"ticks\": \"\"}, \"bgcolor\": \"white\", \"radialaxis\": {\"gridcolor\": \"#EBF0F8\", \"linecolor\": \"#EBF0F8\", \"ticks\": \"\"}}, \"scene\": {\"xaxis\": {\"backgroundcolor\": \"white\", \"gridcolor\": \"#DFE8F3\", \"gridwidth\": 2, \"linecolor\": \"#EBF0F8\", \"showbackground\": true, \"ticks\": \"\", \"zerolinecolor\": \"#EBF0F8\"}, \"yaxis\": {\"backgroundcolor\": \"white\", \"gridcolor\": \"#DFE8F3\", \"gridwidth\": 2, \"linecolor\": \"#EBF0F8\", \"showbackground\": true, \"ticks\": \"\", \"zerolinecolor\": \"#EBF0F8\"}, \"zaxis\": {\"backgroundcolor\": \"white\", \"gridcolor\": \"#DFE8F3\", \"gridwidth\": 2, \"linecolor\": \"#EBF0F8\", \"showbackground\": true, \"ticks\": \"\", \"zerolinecolor\": \"#EBF0F8\"}}, \"shapedefaults\": {\"line\": {\"color\": \"#2a3f5f\"}}, \"ternary\": {\"aaxis\": {\"gridcolor\": \"#DFE8F3\", \"linecolor\": \"#A2B1C6\", \"ticks\": \"\"}, \"baxis\": {\"gridcolor\": \"#DFE8F3\", \"linecolor\": \"#A2B1C6\", \"ticks\": \"\"}, \"bgcolor\": \"white\", \"caxis\": {\"gridcolor\": \"#DFE8F3\", \"linecolor\": \"#A2B1C6\", \"ticks\": \"\"}}, \"title\": {\"x\": 0.05}, \"xaxis\": {\"automargin\": true, \"gridcolor\": \"#EBF0F8\", \"linecolor\": \"#EBF0F8\", \"ticks\": \"\", \"title\": {\"standoff\": 15}, \"zerolinecolor\": \"#EBF0F8\", \"zerolinewidth\": 2}, \"yaxis\": {\"automargin\": true, \"gridcolor\": \"#EBF0F8\", \"linecolor\": \"#EBF0F8\", \"ticks\": \"\", \"title\": {\"standoff\": 15}, \"zerolinecolor\": \"#EBF0F8\", \"zerolinewidth\": 2}}}, \"title\": {\"font\": {\"family\": \"Arial\", \"size\": 15}, \"text\": \"Average number of Holdridge Life zones per rechrarge class\", \"x\": 0.5, \"xanchor\": \"center\", \"y\": 1, \"yanchor\": \"top\"}, \"width\": 1200, \"xaxis\": {\"tickfont\": {\"family\": \"Arial\", \"size\": 15}, \"title\": {\"font\": {\"family\": \"Arial\", \"size\": 15}, \"text\": \"Recharge Classes\"}}, \"yaxis\": {\"tickfont\": {\"family\": \"Arial\", \"size\": 15}, \"title\": {\"font\": {\"family\": \"Arial\", \"size\": 15}, \"text\": \"Average No of Holdridge Life Zones\"}}},                        {\"responsive\": true}                    ).then(function(){\n",
       "                            \n",
       "var gd = document.getElementById('276cc5c0-e7d9-4cd0-9c46-94beaa27760f');\n",
       "var x = new MutationObserver(function (mutations, observer) {{\n",
       "        var display = window.getComputedStyle(gd).display;\n",
       "        if (!display || display === 'none') {{\n",
       "            console.log([gd, 'removed!']);\n",
       "            Plotly.purge(gd);\n",
       "            observer.disconnect();\n",
       "        }}\n",
       "}});\n",
       "\n",
       "// Listen for the removal of the full notebook cells\n",
       "var notebookContainer = gd.closest('#notebook-container');\n",
       "if (notebookContainer) {{\n",
       "    x.observe(notebookContainer, {childList: true});\n",
       "}}\n",
       "\n",
       "// Listen for the clearing of the current output cell\n",
       "var outputEl = gd.closest('.output');\n",
       "if (outputEl) {{\n",
       "    x.observe(outputEl, {childList: true});\n",
       "}}\n",
       "\n",
       "                        })                };                });            </script>        </div>"
      ]
     },
     "metadata": {},
     "output_type": "display_data"
    }
   ],
   "source": [
    "# Load the corresponding data:\n",
    "SOT_df=pd.read_table(r'Sample_datasets\\4. Random_seed_5562000\\iDT_table.txt')\n",
    "INT_df=pd.read_table(r'Sample_datasets\\4. Random_seed_5562000\\SOT_table.txt')\n",
    "\n",
    "#Estimate the average number of diamonds per class:\n",
    "SOT_Life_zones = {}\n",
    "INT_Life_zones = {}\n",
    "\n",
    "for cl in ['C1', 'C2', 'C3', 'C4']:\n",
    "    SOT_Life_zones[cl]=SOT_df.loc[SOT_df.loc[:,'nodes_classes']==cl,'Holdridge Life Zones'].mean(axis=0) \n",
    "    INT_Life_zones[cl]=INT_df.loc[INT_df.loc[:,'nodes_classes']==cl,'Holdridge Life Zones'].mean(axis=0) \n",
    "\n",
    "Life_zones_per_class=pd.DataFrame(data=[SOT_Life_zones, INT_Life_zones] , index=['Average No of Life Zones - SOT', 'Average No of Life Zones - INT']).round(0)\n",
    "Life_zones_per_class['Total']=[np.round(SOT_df['Holdridge Life Zones'].mean(),0), np.round(INT_df['Holdridge Life Zones'].mean(),0)]\n",
    "\n",
    "#Create the plot:\n",
    "Life_zones_fig=go.Figure()\n",
    "\n",
    "Life_zones_fig.add_trace(go.Bar(x=list(Life_zones_per_class.columns), y=Life_zones_per_class.loc['Average No of Life Zones - INT', :], \n",
    "                                 name='Interactive DT',\n",
    "                                 text=Life_zones_per_class.loc['Average No of Life Zones - INT', :],\n",
    "                                 textposition='outside',\n",
    "                                 textfont={'family':'Arial', 'size': 15},\n",
    "                                 marker=dict(color='royalblue')))\n",
    "\n",
    "Life_zones_fig.add_trace(go.Bar(x=list(Life_zones_per_class.columns), y=Life_zones_per_class.loc['Average No of Life Zones - SOT', :],\n",
    "                                 name='Stat. Opt. DT',\n",
    "                                 text=Life_zones_per_class.loc['Average No of Life Zones - SOT', :],\n",
    "                                 textposition='outside', \n",
    "                                 textfont={'family':'Arial', 'size': 15},\n",
    "                                 marker=dict(color='firebrick')))\n",
    "\n",
    "Life_zones_fig.update_layout(autosize=False, width=1200, height=600,\n",
    "                             title={'text': 'Average number of Holdridge Life zones per rechrarge class', 'y':1, 'x':0.5, 'xanchor': 'center', 'yanchor': 'top', \n",
    "                                    'font_family':'Arial'},\n",
    "                             titlefont = {'size': 15},\n",
    "                             yaxis = dict(title='Average No of Holdridge Life Zones', titlefont={'family':'Arial', 'size': 15}, tickfont={'family':'Arial', 'size': 15}),\n",
    "                             xaxis = dict(title='Recharge Classes', titlefont={'family':'Arial', 'size': 15}, tickfont={'family':'Arial', 'size': 15}),\n",
    "                             legend = dict(font={'family':'Arial', 'size': 15}),\n",
    "                             margin = go.layout.Margin(l=20,r=20,b=50,t=50,pad = 4), template='plotly_white',\n",
    "                             barmode='group')"
   ]
  },
  {
   "cell_type": "markdown",
   "metadata": {},
   "source": [
    "__Comments:__\n",
    "\n",
    "This graph shows that in the case of iDTs we achieved a significant reduction in the numder of diamonds classes C2 and C3 can be mapped to. This increases DT outcome interpretability since someone can map the reacharge classes to climate zones more concisely than in SOT."
   ]
  },
  {
   "cell_type": "markdown",
   "metadata": {},
   "source": [
    "__Note: For the rest of the sample datasets of the paper I applied the same methodology to all the 15 different sample datasets.__"
   ]
  },
  {
   "cell_type": "markdown",
   "metadata": {},
   "source": [
    "Having applied the same methodology for each of the sample datasets and measuring the classification accuracy on train and tests set, a barplot with their accuracies is constructed:"
   ]
  },
  {
   "cell_type": "code",
   "execution_count": 16,
   "metadata": {},
   "outputs": [
    {
     "data": {
      "application/vnd.plotly.v1+json": {
       "config": {
        "plotlyServerURL": "https://plot.ly"
       },
       "data": [
        {
         "marker": {
          "color": "royalblue"
         },
         "name": "Interactive DT",
         "text": [
          "0.772",
          "0.799",
          "0.82",
          "0.78",
          "0.817",
          "0.796",
          "0.762",
          "0.781",
          "0.789",
          "0.832",
          "0.834",
          "0.773",
          "0.809",
          "0.825",
          "0.815"
         ],
         "textfont": {
          "family": "Arial"
         },
         "textposition": "outside",
         "texttemplate": "%{text:.3f}",
         "type": "bar",
         "x": [
          "RS_1650",
          "RS_128",
          "RS_15",
          "RS_5562000",
          "RS_15125000",
          "RS_53",
          "RS_569000",
          "RS_1250000",
          "RS_54150",
          "RS_856",
          "RS_20100",
          "RS_756000",
          "RS_4650000",
          "RS_28150",
          "RS_5222000"
         ],
         "xaxis": "x",
         "y": [
          0.772,
          0.799,
          0.82,
          0.78,
          0.817,
          0.796,
          0.762,
          0.781,
          0.789,
          0.832,
          0.834,
          0.773,
          0.809,
          0.825,
          0.815
         ],
         "yaxis": "y"
        },
        {
         "marker": {
          "color": "firebrick"
         },
         "name": "Statistically Optimal Tree",
         "text": [
          "0.809",
          "0.805",
          "0.84",
          "0.796",
          "0.849",
          "0.82",
          "0.764",
          "0.825",
          "0.801",
          "0.863",
          "0.842",
          "0.823",
          "0.816",
          "0.829",
          "0.845"
         ],
         "textfont": {
          "family": "Arial"
         },
         "textposition": "outside",
         "texttemplate": "%{text:.3f}",
         "type": "bar",
         "x": [
          "RS_1650",
          "RS_128",
          "RS_15",
          "RS_5562000",
          "RS_15125000",
          "RS_53",
          "RS_569000",
          "RS_1250000",
          "RS_54150",
          "RS_856",
          "RS_20100",
          "RS_756000",
          "RS_4650000",
          "RS_28150",
          "RS_5222000"
         ],
         "xaxis": "x",
         "y": [
          0.809,
          0.805,
          0.84,
          0.796,
          0.849,
          0.82,
          0.764,
          0.825,
          0.801,
          0.863,
          0.842,
          0.823,
          0.816,
          0.829,
          0.845
         ],
         "yaxis": "y"
        },
        {
         "marker": {
          "color": "royalblue"
         },
         "name": "Interactive DT - Test set",
         "showlegend": false,
         "text": [
          "0.68",
          "0.66",
          "0.736",
          "0.708",
          "0.712",
          "0.704",
          "0.652",
          "0.728",
          "0.744",
          "0.708",
          "0.672",
          "0.708",
          "0.692",
          "0.7",
          "0.744"
         ],
         "textfont": {
          "family": "Arial"
         },
         "textposition": "outside",
         "texttemplate": "%{text:.3f}",
         "type": "bar",
         "x": [
          "RS_1650",
          "RS_128",
          "RS_15",
          "RS_5562000",
          "RS_15125000",
          "RS_53",
          "RS_569000",
          "RS_1250000",
          "RS_54150",
          "RS_856",
          "RS_20100",
          "RS_756000",
          "RS_4650000",
          "RS_28150",
          "RS_5222000"
         ],
         "xaxis": "x2",
         "y": [
          0.68,
          0.66,
          0.736,
          0.708,
          0.712,
          0.704,
          0.652,
          0.728,
          0.744,
          0.708,
          0.672,
          0.708,
          0.692,
          0.7,
          0.744
         ],
         "yaxis": "y2"
        },
        {
         "marker": {
          "color": "firebrick"
         },
         "name": "Stat. Opt. Tree - Test set",
         "showlegend": false,
         "text": [
          "0.7",
          "0.65",
          "0.74",
          "0.688",
          "0.7",
          "0.712",
          "0.66",
          "0.732",
          "0.716",
          "0.676",
          "0.66",
          "0.716",
          "0.68",
          "0.684",
          "0.728"
         ],
         "textfont": {
          "family": "Arial"
         },
         "textposition": "outside",
         "texttemplate": "%{text:.3f}",
         "type": "bar",
         "x": [
          "RS_1650",
          "RS_128",
          "RS_15",
          "RS_5562000",
          "RS_15125000",
          "RS_53",
          "RS_569000",
          "RS_1250000",
          "RS_54150",
          "RS_856",
          "RS_20100",
          "RS_756000",
          "RS_4650000",
          "RS_28150",
          "RS_5222000"
         ],
         "xaxis": "x2",
         "y": [
          0.7,
          0.65,
          0.74,
          0.688,
          0.7,
          0.712,
          0.66,
          0.732,
          0.716,
          0.676,
          0.66,
          0.716,
          0.68,
          0.684,
          0.728
         ],
         "yaxis": "y2"
        }
       ],
       "layout": {
        "annotations": [
         {
          "font": {
           "size": 16
          },
          "showarrow": false,
          "text": "Classification accuracies on the Training Sets",
          "x": 0.5,
          "xanchor": "center",
          "xref": "paper",
          "y": 1,
          "yanchor": "bottom",
          "yref": "paper"
         },
         {
          "font": {
           "size": 16
          },
          "showarrow": false,
          "text": "Classification accuracies on the Test Sets",
          "x": 0.5,
          "xanchor": "center",
          "xref": "paper",
          "y": 0.375,
          "yanchor": "bottom",
          "yref": "paper"
         }
        ],
        "autosize": false,
        "barmode": "group",
        "font": {
         "family": "Arial"
        },
        "height": 800,
        "legend": {
         "font": {
          "family": "Arial"
         },
         "orientation": "v"
        },
        "margin": {
         "b": 50,
         "l": 20,
         "pad": 4,
         "r": 20,
         "t": 50
        },
        "template": {
         "data": {
          "bar": [
           {
            "error_x": {
             "color": "#2a3f5f"
            },
            "error_y": {
             "color": "#2a3f5f"
            },
            "marker": {
             "line": {
              "color": "white",
              "width": 0.5
             }
            },
            "type": "bar"
           }
          ],
          "barpolar": [
           {
            "marker": {
             "line": {
              "color": "white",
              "width": 0.5
             }
            },
            "type": "barpolar"
           }
          ],
          "carpet": [
           {
            "aaxis": {
             "endlinecolor": "#2a3f5f",
             "gridcolor": "#C8D4E3",
             "linecolor": "#C8D4E3",
             "minorgridcolor": "#C8D4E3",
             "startlinecolor": "#2a3f5f"
            },
            "baxis": {
             "endlinecolor": "#2a3f5f",
             "gridcolor": "#C8D4E3",
             "linecolor": "#C8D4E3",
             "minorgridcolor": "#C8D4E3",
             "startlinecolor": "#2a3f5f"
            },
            "type": "carpet"
           }
          ],
          "choropleth": [
           {
            "colorbar": {
             "outlinewidth": 0,
             "ticks": ""
            },
            "type": "choropleth"
           }
          ],
          "contour": [
           {
            "colorbar": {
             "outlinewidth": 0,
             "ticks": ""
            },
            "colorscale": [
             [
              0,
              "#0d0887"
             ],
             [
              0.1111111111111111,
              "#46039f"
             ],
             [
              0.2222222222222222,
              "#7201a8"
             ],
             [
              0.3333333333333333,
              "#9c179e"
             ],
             [
              0.4444444444444444,
              "#bd3786"
             ],
             [
              0.5555555555555556,
              "#d8576b"
             ],
             [
              0.6666666666666666,
              "#ed7953"
             ],
             [
              0.7777777777777778,
              "#fb9f3a"
             ],
             [
              0.8888888888888888,
              "#fdca26"
             ],
             [
              1,
              "#f0f921"
             ]
            ],
            "type": "contour"
           }
          ],
          "contourcarpet": [
           {
            "colorbar": {
             "outlinewidth": 0,
             "ticks": ""
            },
            "type": "contourcarpet"
           }
          ],
          "heatmap": [
           {
            "colorbar": {
             "outlinewidth": 0,
             "ticks": ""
            },
            "colorscale": [
             [
              0,
              "#0d0887"
             ],
             [
              0.1111111111111111,
              "#46039f"
             ],
             [
              0.2222222222222222,
              "#7201a8"
             ],
             [
              0.3333333333333333,
              "#9c179e"
             ],
             [
              0.4444444444444444,
              "#bd3786"
             ],
             [
              0.5555555555555556,
              "#d8576b"
             ],
             [
              0.6666666666666666,
              "#ed7953"
             ],
             [
              0.7777777777777778,
              "#fb9f3a"
             ],
             [
              0.8888888888888888,
              "#fdca26"
             ],
             [
              1,
              "#f0f921"
             ]
            ],
            "type": "heatmap"
           }
          ],
          "heatmapgl": [
           {
            "colorbar": {
             "outlinewidth": 0,
             "ticks": ""
            },
            "colorscale": [
             [
              0,
              "#0d0887"
             ],
             [
              0.1111111111111111,
              "#46039f"
             ],
             [
              0.2222222222222222,
              "#7201a8"
             ],
             [
              0.3333333333333333,
              "#9c179e"
             ],
             [
              0.4444444444444444,
              "#bd3786"
             ],
             [
              0.5555555555555556,
              "#d8576b"
             ],
             [
              0.6666666666666666,
              "#ed7953"
             ],
             [
              0.7777777777777778,
              "#fb9f3a"
             ],
             [
              0.8888888888888888,
              "#fdca26"
             ],
             [
              1,
              "#f0f921"
             ]
            ],
            "type": "heatmapgl"
           }
          ],
          "histogram": [
           {
            "marker": {
             "colorbar": {
              "outlinewidth": 0,
              "ticks": ""
             }
            },
            "type": "histogram"
           }
          ],
          "histogram2d": [
           {
            "colorbar": {
             "outlinewidth": 0,
             "ticks": ""
            },
            "colorscale": [
             [
              0,
              "#0d0887"
             ],
             [
              0.1111111111111111,
              "#46039f"
             ],
             [
              0.2222222222222222,
              "#7201a8"
             ],
             [
              0.3333333333333333,
              "#9c179e"
             ],
             [
              0.4444444444444444,
              "#bd3786"
             ],
             [
              0.5555555555555556,
              "#d8576b"
             ],
             [
              0.6666666666666666,
              "#ed7953"
             ],
             [
              0.7777777777777778,
              "#fb9f3a"
             ],
             [
              0.8888888888888888,
              "#fdca26"
             ],
             [
              1,
              "#f0f921"
             ]
            ],
            "type": "histogram2d"
           }
          ],
          "histogram2dcontour": [
           {
            "colorbar": {
             "outlinewidth": 0,
             "ticks": ""
            },
            "colorscale": [
             [
              0,
              "#0d0887"
             ],
             [
              0.1111111111111111,
              "#46039f"
             ],
             [
              0.2222222222222222,
              "#7201a8"
             ],
             [
              0.3333333333333333,
              "#9c179e"
             ],
             [
              0.4444444444444444,
              "#bd3786"
             ],
             [
              0.5555555555555556,
              "#d8576b"
             ],
             [
              0.6666666666666666,
              "#ed7953"
             ],
             [
              0.7777777777777778,
              "#fb9f3a"
             ],
             [
              0.8888888888888888,
              "#fdca26"
             ],
             [
              1,
              "#f0f921"
             ]
            ],
            "type": "histogram2dcontour"
           }
          ],
          "mesh3d": [
           {
            "colorbar": {
             "outlinewidth": 0,
             "ticks": ""
            },
            "type": "mesh3d"
           }
          ],
          "parcoords": [
           {
            "line": {
             "colorbar": {
              "outlinewidth": 0,
              "ticks": ""
             }
            },
            "type": "parcoords"
           }
          ],
          "pie": [
           {
            "automargin": true,
            "type": "pie"
           }
          ],
          "scatter": [
           {
            "marker": {
             "colorbar": {
              "outlinewidth": 0,
              "ticks": ""
             }
            },
            "type": "scatter"
           }
          ],
          "scatter3d": [
           {
            "line": {
             "colorbar": {
              "outlinewidth": 0,
              "ticks": ""
             }
            },
            "marker": {
             "colorbar": {
              "outlinewidth": 0,
              "ticks": ""
             }
            },
            "type": "scatter3d"
           }
          ],
          "scattercarpet": [
           {
            "marker": {
             "colorbar": {
              "outlinewidth": 0,
              "ticks": ""
             }
            },
            "type": "scattercarpet"
           }
          ],
          "scattergeo": [
           {
            "marker": {
             "colorbar": {
              "outlinewidth": 0,
              "ticks": ""
             }
            },
            "type": "scattergeo"
           }
          ],
          "scattergl": [
           {
            "marker": {
             "colorbar": {
              "outlinewidth": 0,
              "ticks": ""
             }
            },
            "type": "scattergl"
           }
          ],
          "scattermapbox": [
           {
            "marker": {
             "colorbar": {
              "outlinewidth": 0,
              "ticks": ""
             }
            },
            "type": "scattermapbox"
           }
          ],
          "scatterpolar": [
           {
            "marker": {
             "colorbar": {
              "outlinewidth": 0,
              "ticks": ""
             }
            },
            "type": "scatterpolar"
           }
          ],
          "scatterpolargl": [
           {
            "marker": {
             "colorbar": {
              "outlinewidth": 0,
              "ticks": ""
             }
            },
            "type": "scatterpolargl"
           }
          ],
          "scatterternary": [
           {
            "marker": {
             "colorbar": {
              "outlinewidth": 0,
              "ticks": ""
             }
            },
            "type": "scatterternary"
           }
          ],
          "surface": [
           {
            "colorbar": {
             "outlinewidth": 0,
             "ticks": ""
            },
            "colorscale": [
             [
              0,
              "#0d0887"
             ],
             [
              0.1111111111111111,
              "#46039f"
             ],
             [
              0.2222222222222222,
              "#7201a8"
             ],
             [
              0.3333333333333333,
              "#9c179e"
             ],
             [
              0.4444444444444444,
              "#bd3786"
             ],
             [
              0.5555555555555556,
              "#d8576b"
             ],
             [
              0.6666666666666666,
              "#ed7953"
             ],
             [
              0.7777777777777778,
              "#fb9f3a"
             ],
             [
              0.8888888888888888,
              "#fdca26"
             ],
             [
              1,
              "#f0f921"
             ]
            ],
            "type": "surface"
           }
          ],
          "table": [
           {
            "cells": {
             "fill": {
              "color": "#EBF0F8"
             },
             "line": {
              "color": "white"
             }
            },
            "header": {
             "fill": {
              "color": "#C8D4E3"
             },
             "line": {
              "color": "white"
             }
            },
            "type": "table"
           }
          ]
         },
         "layout": {
          "annotationdefaults": {
           "arrowcolor": "#2a3f5f",
           "arrowhead": 0,
           "arrowwidth": 1
          },
          "autotypenumbers": "strict",
          "coloraxis": {
           "colorbar": {
            "outlinewidth": 0,
            "ticks": ""
           }
          },
          "colorscale": {
           "diverging": [
            [
             0,
             "#8e0152"
            ],
            [
             0.1,
             "#c51b7d"
            ],
            [
             0.2,
             "#de77ae"
            ],
            [
             0.3,
             "#f1b6da"
            ],
            [
             0.4,
             "#fde0ef"
            ],
            [
             0.5,
             "#f7f7f7"
            ],
            [
             0.6,
             "#e6f5d0"
            ],
            [
             0.7,
             "#b8e186"
            ],
            [
             0.8,
             "#7fbc41"
            ],
            [
             0.9,
             "#4d9221"
            ],
            [
             1,
             "#276419"
            ]
           ],
           "sequential": [
            [
             0,
             "#0d0887"
            ],
            [
             0.1111111111111111,
             "#46039f"
            ],
            [
             0.2222222222222222,
             "#7201a8"
            ],
            [
             0.3333333333333333,
             "#9c179e"
            ],
            [
             0.4444444444444444,
             "#bd3786"
            ],
            [
             0.5555555555555556,
             "#d8576b"
            ],
            [
             0.6666666666666666,
             "#ed7953"
            ],
            [
             0.7777777777777778,
             "#fb9f3a"
            ],
            [
             0.8888888888888888,
             "#fdca26"
            ],
            [
             1,
             "#f0f921"
            ]
           ],
           "sequentialminus": [
            [
             0,
             "#0d0887"
            ],
            [
             0.1111111111111111,
             "#46039f"
            ],
            [
             0.2222222222222222,
             "#7201a8"
            ],
            [
             0.3333333333333333,
             "#9c179e"
            ],
            [
             0.4444444444444444,
             "#bd3786"
            ],
            [
             0.5555555555555556,
             "#d8576b"
            ],
            [
             0.6666666666666666,
             "#ed7953"
            ],
            [
             0.7777777777777778,
             "#fb9f3a"
            ],
            [
             0.8888888888888888,
             "#fdca26"
            ],
            [
             1,
             "#f0f921"
            ]
           ]
          },
          "colorway": [
           "#636efa",
           "#EF553B",
           "#00cc96",
           "#ab63fa",
           "#FFA15A",
           "#19d3f3",
           "#FF6692",
           "#B6E880",
           "#FF97FF",
           "#FECB52"
          ],
          "font": {
           "color": "#2a3f5f"
          },
          "geo": {
           "bgcolor": "white",
           "lakecolor": "white",
           "landcolor": "white",
           "showlakes": true,
           "showland": true,
           "subunitcolor": "#C8D4E3"
          },
          "hoverlabel": {
           "align": "left"
          },
          "hovermode": "closest",
          "mapbox": {
           "style": "light"
          },
          "paper_bgcolor": "white",
          "plot_bgcolor": "white",
          "polar": {
           "angularaxis": {
            "gridcolor": "#EBF0F8",
            "linecolor": "#EBF0F8",
            "ticks": ""
           },
           "bgcolor": "white",
           "radialaxis": {
            "gridcolor": "#EBF0F8",
            "linecolor": "#EBF0F8",
            "ticks": ""
           }
          },
          "scene": {
           "xaxis": {
            "backgroundcolor": "white",
            "gridcolor": "#DFE8F3",
            "gridwidth": 2,
            "linecolor": "#EBF0F8",
            "showbackground": true,
            "ticks": "",
            "zerolinecolor": "#EBF0F8"
           },
           "yaxis": {
            "backgroundcolor": "white",
            "gridcolor": "#DFE8F3",
            "gridwidth": 2,
            "linecolor": "#EBF0F8",
            "showbackground": true,
            "ticks": "",
            "zerolinecolor": "#EBF0F8"
           },
           "zaxis": {
            "backgroundcolor": "white",
            "gridcolor": "#DFE8F3",
            "gridwidth": 2,
            "linecolor": "#EBF0F8",
            "showbackground": true,
            "ticks": "",
            "zerolinecolor": "#EBF0F8"
           }
          },
          "shapedefaults": {
           "line": {
            "color": "#2a3f5f"
           }
          },
          "ternary": {
           "aaxis": {
            "gridcolor": "#DFE8F3",
            "linecolor": "#A2B1C6",
            "ticks": ""
           },
           "baxis": {
            "gridcolor": "#DFE8F3",
            "linecolor": "#A2B1C6",
            "ticks": ""
           },
           "bgcolor": "white",
           "caxis": {
            "gridcolor": "#DFE8F3",
            "linecolor": "#A2B1C6",
            "ticks": ""
           }
          },
          "title": {
           "x": 0.05
          },
          "xaxis": {
           "automargin": true,
           "gridcolor": "#EBF0F8",
           "linecolor": "#EBF0F8",
           "ticks": "",
           "title": {
            "standoff": 15
           },
           "zerolinecolor": "#EBF0F8",
           "zerolinewidth": 2
          },
          "yaxis": {
           "automargin": true,
           "gridcolor": "#EBF0F8",
           "linecolor": "#EBF0F8",
           "ticks": "",
           "title": {
            "standoff": 15
           },
           "zerolinecolor": "#EBF0F8",
           "zerolinewidth": 2
          }
         }
        },
        "width": 1400,
        "xaxis": {
         "anchor": "y",
         "autorange": true,
         "domain": [
          0,
          1
         ],
         "range": [
          -0.5,
          14.5
         ],
         "tickfont": {
          "family": "Arial"
         },
         "title": {
          "font": {
           "family": "Arial"
          }
         },
         "type": "category"
        },
        "xaxis2": {
         "anchor": "y2",
         "autorange": true,
         "domain": [
          0,
          1
         ],
         "range": [
          -0.5,
          14.5
         ],
         "tickfont": {
          "family": "Arial"
         },
         "title": {
          "font": {
           "family": "Arial"
          }
         },
         "type": "category"
        },
        "yaxis": {
         "anchor": "x",
         "domain": [
          0.625,
          1
         ],
         "range": [
          0,
          0.95
         ],
         "tickfont": {
          "family": "Arial"
         },
         "title": {
          "font": {
           "family": "Arial"
          },
          "text": "Classification_accuracy"
         },
         "type": "linear"
        },
        "yaxis2": {
         "anchor": "x2",
         "domain": [
          0,
          0.375
         ],
         "range": [
          0,
          0.8
         ],
         "tickfont": {
          "family": "Arial"
         },
         "title": {
          "font": {
           "family": "Arial"
          },
          "text": "Classification_accuracy"
         },
         "type": "linear"
        }
       }
      },
      "image/png": "[encoded data removed]",
      "text/html": [
       "<div>                            <div id=\"2773d0d9-3a1f-4733-9c71-affbc5d2dbfa\" class=\"plotly-graph-div\" style=\"height:800px; width:1400px;\"></div>            <script type=\"text/javascript\">                require([\"plotly\"], function(Plotly) {                    window.PLOTLYENV=window.PLOTLYENV || {};                                    if (document.getElementById(\"2773d0d9-3a1f-4733-9c71-affbc5d2dbfa\")) {                    Plotly.newPlot(                        \"2773d0d9-3a1f-4733-9c71-affbc5d2dbfa\",                        [{\"marker\": {\"color\": \"royalblue\"}, \"name\": \"Interactive DT\", \"text\": [\"0.772\", \"0.799\", \"0.82\", \"0.78\", \"0.817\", \"0.796\", \"0.762\", \"0.781\", \"0.789\", \"0.832\", \"0.834\", \"0.773\", \"0.809\", \"0.825\", \"0.815\"], \"textfont\": {\"family\": \"Arial\"}, \"textposition\": \"outside\", \"texttemplate\": \"%{text:.3f}\", \"type\": \"bar\", \"x\": [\"RS_1650\", \"RS_128\", \"RS_15\", \"RS_5562000\", \"RS_15125000\", \"RS_53\", \"RS_569000\", \"RS_1250000\", \"RS_54150\", \"RS_856\", \"RS_20100\", \"RS_756000\", \"RS_4650000\", \"RS_28150\", \"RS_5222000\"], \"xaxis\": \"x\", \"y\": [0.772, 0.799, 0.82, 0.78, 0.817, 0.796, 0.762, 0.781, 0.789, 0.832, 0.834, 0.773, 0.809, 0.825, 0.815], \"yaxis\": \"y\"}, {\"marker\": {\"color\": \"firebrick\"}, \"name\": \"Statistically Optimal Tree\", \"text\": [\"0.809\", \"0.805\", \"0.84\", \"0.796\", \"0.849\", \"0.82\", \"0.764\", \"0.825\", \"0.801\", \"0.863\", \"0.842\", \"0.823\", \"0.816\", \"0.829\", \"0.845\"], \"textfont\": {\"family\": \"Arial\"}, \"textposition\": \"outside\", \"texttemplate\": \"%{text:.3f}\", \"type\": \"bar\", \"x\": [\"RS_1650\", \"RS_128\", \"RS_15\", \"RS_5562000\", \"RS_15125000\", \"RS_53\", \"RS_569000\", \"RS_1250000\", \"RS_54150\", \"RS_856\", \"RS_20100\", \"RS_756000\", \"RS_4650000\", \"RS_28150\", \"RS_5222000\"], \"xaxis\": \"x\", \"y\": [0.809, 0.805, 0.84, 0.796, 0.849, 0.82, 0.764, 0.825, 0.801, 0.863, 0.842, 0.823, 0.816, 0.829, 0.845], \"yaxis\": \"y\"}, {\"marker\": {\"color\": \"royalblue\"}, \"name\": \"Interactive DT - Test set\", \"showlegend\": false, \"text\": [\"0.68\", \"0.66\", \"0.736\", \"0.708\", \"0.712\", \"0.704\", \"0.652\", \"0.728\", \"0.744\", \"0.708\", \"0.672\", \"0.708\", \"0.692\", \"0.7\", \"0.744\"], \"textfont\": {\"family\": \"Arial\"}, \"textposition\": \"outside\", \"texttemplate\": \"%{text:.3f}\", \"type\": \"bar\", \"x\": [\"RS_1650\", \"RS_128\", \"RS_15\", \"RS_5562000\", \"RS_15125000\", \"RS_53\", \"RS_569000\", \"RS_1250000\", \"RS_54150\", \"RS_856\", \"RS_20100\", \"RS_756000\", \"RS_4650000\", \"RS_28150\", \"RS_5222000\"], \"xaxis\": \"x2\", \"y\": [0.68, 0.66, 0.736, 0.708, 0.712, 0.704, 0.652, 0.728, 0.744, 0.708, 0.672, 0.708, 0.692, 0.7, 0.744], \"yaxis\": \"y2\"}, {\"marker\": {\"color\": \"firebrick\"}, \"name\": \"Stat. Opt. Tree - Test set\", \"showlegend\": false, \"text\": [\"0.7\", \"0.65\", \"0.74\", \"0.688\", \"0.7\", \"0.712\", \"0.66\", \"0.732\", \"0.716\", \"0.676\", \"0.66\", \"0.716\", \"0.68\", \"0.684\", \"0.728\"], \"textfont\": {\"family\": \"Arial\"}, \"textposition\": \"outside\", \"texttemplate\": \"%{text:.3f}\", \"type\": \"bar\", \"x\": [\"RS_1650\", \"RS_128\", \"RS_15\", \"RS_5562000\", \"RS_15125000\", \"RS_53\", \"RS_569000\", \"RS_1250000\", \"RS_54150\", \"RS_856\", \"RS_20100\", \"RS_756000\", \"RS_4650000\", \"RS_28150\", \"RS_5222000\"], \"xaxis\": \"x2\", \"y\": [0.7, 0.65, 0.74, 0.688, 0.7, 0.712, 0.66, 0.732, 0.716, 0.676, 0.66, 0.716, 0.68, 0.684, 0.728], \"yaxis\": \"y2\"}],                        {\"annotations\": [{\"font\": {\"size\": 16}, \"showarrow\": false, \"text\": \"Classification accuracies on the Training Sets\", \"x\": 0.5, \"xanchor\": \"center\", \"xref\": \"paper\", \"y\": 1.0, \"yanchor\": \"bottom\", \"yref\": \"paper\"}, {\"font\": {\"size\": 16}, \"showarrow\": false, \"text\": \"Classification accuracies on the Test Sets\", \"x\": 0.5, \"xanchor\": \"center\", \"xref\": \"paper\", \"y\": 0.375, \"yanchor\": \"bottom\", \"yref\": \"paper\"}], \"autosize\": false, \"barmode\": \"group\", \"font\": {\"family\": \"Arial\"}, \"height\": 800, \"legend\": {\"font\": {\"family\": \"Arial\"}, \"orientation\": \"v\"}, \"margin\": {\"b\": 50, \"l\": 20, \"pad\": 4, \"r\": 20, \"t\": 50}, \"template\": {\"data\": {\"bar\": [{\"error_x\": {\"color\": \"#2a3f5f\"}, \"error_y\": {\"color\": \"#2a3f5f\"}, \"marker\": {\"line\": {\"color\": \"white\", \"width\": 0.5}}, \"type\": \"bar\"}], \"barpolar\": [{\"marker\": {\"line\": {\"color\": \"white\", \"width\": 0.5}}, \"type\": \"barpolar\"}], \"carpet\": [{\"aaxis\": {\"endlinecolor\": \"#2a3f5f\", \"gridcolor\": \"#C8D4E3\", \"linecolor\": \"#C8D4E3\", \"minorgridcolor\": \"#C8D4E3\", \"startlinecolor\": \"#2a3f5f\"}, \"baxis\": {\"endlinecolor\": \"#2a3f5f\", \"gridcolor\": \"#C8D4E3\", \"linecolor\": \"#C8D4E3\", \"minorgridcolor\": \"#C8D4E3\", \"startlinecolor\": \"#2a3f5f\"}, \"type\": \"carpet\"}], \"choropleth\": [{\"colorbar\": {\"outlinewidth\": 0, \"ticks\": \"\"}, \"type\": \"choropleth\"}], \"contour\": [{\"colorbar\": {\"outlinewidth\": 0, \"ticks\": \"\"}, \"colorscale\": [[0.0, \"#0d0887\"], [0.1111111111111111, \"#46039f\"], [0.2222222222222222, \"#7201a8\"], [0.3333333333333333, \"#9c179e\"], [0.4444444444444444, \"#bd3786\"], [0.5555555555555556, \"#d8576b\"], [0.6666666666666666, \"#ed7953\"], [0.7777777777777778, \"#fb9f3a\"], [0.8888888888888888, \"#fdca26\"], [1.0, \"#f0f921\"]], \"type\": \"contour\"}], \"contourcarpet\": [{\"colorbar\": {\"outlinewidth\": 0, \"ticks\": \"\"}, \"type\": \"contourcarpet\"}], \"heatmap\": [{\"colorbar\": {\"outlinewidth\": 0, \"ticks\": \"\"}, \"colorscale\": [[0.0, \"#0d0887\"], [0.1111111111111111, \"#46039f\"], [0.2222222222222222, \"#7201a8\"], [0.3333333333333333, \"#9c179e\"], [0.4444444444444444, \"#bd3786\"], [0.5555555555555556, \"#d8576b\"], [0.6666666666666666, \"#ed7953\"], [0.7777777777777778, \"#fb9f3a\"], [0.8888888888888888, \"#fdca26\"], [1.0, \"#f0f921\"]], \"type\": \"heatmap\"}], \"heatmapgl\": [{\"colorbar\": {\"outlinewidth\": 0, \"ticks\": \"\"}, \"colorscale\": [[0.0, \"#0d0887\"], [0.1111111111111111, \"#46039f\"], [0.2222222222222222, \"#7201a8\"], [0.3333333333333333, \"#9c179e\"], [0.4444444444444444, \"#bd3786\"], [0.5555555555555556, \"#d8576b\"], [0.6666666666666666, \"#ed7953\"], [0.7777777777777778, \"#fb9f3a\"], [0.8888888888888888, \"#fdca26\"], [1.0, \"#f0f921\"]], \"type\": \"heatmapgl\"}], \"histogram\": [{\"marker\": {\"colorbar\": {\"outlinewidth\": 0, \"ticks\": \"\"}}, \"type\": \"histogram\"}], \"histogram2d\": [{\"colorbar\": {\"outlinewidth\": 0, \"ticks\": \"\"}, \"colorscale\": [[0.0, \"#0d0887\"], [0.1111111111111111, \"#46039f\"], [0.2222222222222222, \"#7201a8\"], [0.3333333333333333, \"#9c179e\"], [0.4444444444444444, \"#bd3786\"], [0.5555555555555556, \"#d8576b\"], [0.6666666666666666, \"#ed7953\"], [0.7777777777777778, \"#fb9f3a\"], [0.8888888888888888, \"#fdca26\"], [1.0, \"#f0f921\"]], \"type\": \"histogram2d\"}], \"histogram2dcontour\": [{\"colorbar\": {\"outlinewidth\": 0, \"ticks\": \"\"}, \"colorscale\": [[0.0, \"#0d0887\"], [0.1111111111111111, \"#46039f\"], [0.2222222222222222, \"#7201a8\"], [0.3333333333333333, \"#9c179e\"], [0.4444444444444444, \"#bd3786\"], [0.5555555555555556, \"#d8576b\"], [0.6666666666666666, \"#ed7953\"], [0.7777777777777778, \"#fb9f3a\"], [0.8888888888888888, \"#fdca26\"], [1.0, \"#f0f921\"]], \"type\": \"histogram2dcontour\"}], \"mesh3d\": [{\"colorbar\": {\"outlinewidth\": 0, \"ticks\": \"\"}, \"type\": \"mesh3d\"}], \"parcoords\": [{\"line\": {\"colorbar\": {\"outlinewidth\": 0, \"ticks\": \"\"}}, \"type\": \"parcoords\"}], \"pie\": [{\"automargin\": true, \"type\": \"pie\"}], \"scatter\": [{\"marker\": {\"colorbar\": {\"outlinewidth\": 0, \"ticks\": \"\"}}, \"type\": \"scatter\"}], \"scatter3d\": [{\"line\": {\"colorbar\": {\"outlinewidth\": 0, \"ticks\": \"\"}}, \"marker\": {\"colorbar\": {\"outlinewidth\": 0, \"ticks\": \"\"}}, \"type\": \"scatter3d\"}], \"scattercarpet\": [{\"marker\": {\"colorbar\": {\"outlinewidth\": 0, \"ticks\": \"\"}}, \"type\": \"scattercarpet\"}], \"scattergeo\": [{\"marker\": {\"colorbar\": {\"outlinewidth\": 0, \"ticks\": \"\"}}, \"type\": \"scattergeo\"}], \"scattergl\": [{\"marker\": {\"colorbar\": {\"outlinewidth\": 0, \"ticks\": \"\"}}, \"type\": \"scattergl\"}], \"scattermapbox\": [{\"marker\": {\"colorbar\": {\"outlinewidth\": 0, \"ticks\": \"\"}}, \"type\": \"scattermapbox\"}], \"scatterpolar\": [{\"marker\": {\"colorbar\": {\"outlinewidth\": 0, \"ticks\": \"\"}}, \"type\": \"scatterpolar\"}], \"scatterpolargl\": [{\"marker\": {\"colorbar\": {\"outlinewidth\": 0, \"ticks\": \"\"}}, \"type\": \"scatterpolargl\"}], \"scatterternary\": [{\"marker\": {\"colorbar\": {\"outlinewidth\": 0, \"ticks\": \"\"}}, \"type\": \"scatterternary\"}], \"surface\": [{\"colorbar\": {\"outlinewidth\": 0, \"ticks\": \"\"}, \"colorscale\": [[0.0, \"#0d0887\"], [0.1111111111111111, \"#46039f\"], [0.2222222222222222, \"#7201a8\"], [0.3333333333333333, \"#9c179e\"], [0.4444444444444444, \"#bd3786\"], [0.5555555555555556, \"#d8576b\"], [0.6666666666666666, \"#ed7953\"], [0.7777777777777778, \"#fb9f3a\"], [0.8888888888888888, \"#fdca26\"], [1.0, \"#f0f921\"]], \"type\": \"surface\"}], \"table\": [{\"cells\": {\"fill\": {\"color\": \"#EBF0F8\"}, \"line\": {\"color\": \"white\"}}, \"header\": {\"fill\": {\"color\": \"#C8D4E3\"}, \"line\": {\"color\": \"white\"}}, \"type\": \"table\"}]}, \"layout\": {\"annotationdefaults\": {\"arrowcolor\": \"#2a3f5f\", \"arrowhead\": 0, \"arrowwidth\": 1}, \"autotypenumbers\": \"strict\", \"coloraxis\": {\"colorbar\": {\"outlinewidth\": 0, \"ticks\": \"\"}}, \"colorscale\": {\"diverging\": [[0, \"#8e0152\"], [0.1, \"#c51b7d\"], [0.2, \"#de77ae\"], [0.3, \"#f1b6da\"], [0.4, \"#fde0ef\"], [0.5, \"#f7f7f7\"], [0.6, \"#e6f5d0\"], [0.7, \"#b8e186\"], [0.8, \"#7fbc41\"], [0.9, \"#4d9221\"], [1, \"#276419\"]], \"sequential\": [[0.0, \"#0d0887\"], [0.1111111111111111, \"#46039f\"], [0.2222222222222222, \"#7201a8\"], [0.3333333333333333, \"#9c179e\"], [0.4444444444444444, \"#bd3786\"], [0.5555555555555556, \"#d8576b\"], [0.6666666666666666, \"#ed7953\"], [0.7777777777777778, \"#fb9f3a\"], [0.8888888888888888, \"#fdca26\"], [1.0, \"#f0f921\"]], \"sequentialminus\": [[0.0, \"#0d0887\"], [0.1111111111111111, \"#46039f\"], [0.2222222222222222, \"#7201a8\"], [0.3333333333333333, \"#9c179e\"], [0.4444444444444444, \"#bd3786\"], [0.5555555555555556, \"#d8576b\"], [0.6666666666666666, \"#ed7953\"], [0.7777777777777778, \"#fb9f3a\"], [0.8888888888888888, \"#fdca26\"], [1.0, \"#f0f921\"]]}, \"colorway\": [\"#636efa\", \"#EF553B\", \"#00cc96\", \"#ab63fa\", \"#FFA15A\", \"#19d3f3\", \"#FF6692\", \"#B6E880\", \"#FF97FF\", \"#FECB52\"], \"font\": {\"color\": \"#2a3f5f\"}, \"geo\": {\"bgcolor\": \"white\", \"lakecolor\": \"white\", \"landcolor\": \"white\", \"showlakes\": true, \"showland\": true, \"subunitcolor\": \"#C8D4E3\"}, \"hoverlabel\": {\"align\": \"left\"}, \"hovermode\": \"closest\", \"mapbox\": {\"style\": \"light\"}, \"paper_bgcolor\": \"white\", \"plot_bgcolor\": \"white\", \"polar\": {\"angularaxis\": {\"gridcolor\": \"#EBF0F8\", \"linecolor\": \"#EBF0F8\", \"ticks\": \"\"}, \"bgcolor\": \"white\", \"radialaxis\": {\"gridcolor\": \"#EBF0F8\", \"linecolor\": \"#EBF0F8\", \"ticks\": \"\"}}, \"scene\": {\"xaxis\": {\"backgroundcolor\": \"white\", \"gridcolor\": \"#DFE8F3\", \"gridwidth\": 2, \"linecolor\": \"#EBF0F8\", \"showbackground\": true, \"ticks\": \"\", \"zerolinecolor\": \"#EBF0F8\"}, \"yaxis\": {\"backgroundcolor\": \"white\", \"gridcolor\": \"#DFE8F3\", \"gridwidth\": 2, \"linecolor\": \"#EBF0F8\", \"showbackground\": true, \"ticks\": \"\", \"zerolinecolor\": \"#EBF0F8\"}, \"zaxis\": {\"backgroundcolor\": \"white\", \"gridcolor\": \"#DFE8F3\", \"gridwidth\": 2, \"linecolor\": \"#EBF0F8\", \"showbackground\": true, \"ticks\": \"\", \"zerolinecolor\": \"#EBF0F8\"}}, \"shapedefaults\": {\"line\": {\"color\": \"#2a3f5f\"}}, \"ternary\": {\"aaxis\": {\"gridcolor\": \"#DFE8F3\", \"linecolor\": \"#A2B1C6\", \"ticks\": \"\"}, \"baxis\": {\"gridcolor\": \"#DFE8F3\", \"linecolor\": \"#A2B1C6\", \"ticks\": \"\"}, \"bgcolor\": \"white\", \"caxis\": {\"gridcolor\": \"#DFE8F3\", \"linecolor\": \"#A2B1C6\", \"ticks\": \"\"}}, \"title\": {\"x\": 0.05}, \"xaxis\": {\"automargin\": true, \"gridcolor\": \"#EBF0F8\", \"linecolor\": \"#EBF0F8\", \"ticks\": \"\", \"title\": {\"standoff\": 15}, \"zerolinecolor\": \"#EBF0F8\", \"zerolinewidth\": 2}, \"yaxis\": {\"automargin\": true, \"gridcolor\": \"#EBF0F8\", \"linecolor\": \"#EBF0F8\", \"ticks\": \"\", \"title\": {\"standoff\": 15}, \"zerolinecolor\": \"#EBF0F8\", \"zerolinewidth\": 2}}}, \"width\": 1400, \"xaxis\": {\"anchor\": \"y\", \"domain\": [0.0, 1.0], \"tickfont\": {\"family\": \"Arial\"}, \"title\": {\"font\": {\"family\": \"Arial\"}}}, \"xaxis2\": {\"anchor\": \"y2\", \"domain\": [0.0, 1.0], \"tickfont\": {\"family\": \"Arial\"}, \"title\": {\"font\": {\"family\": \"Arial\"}}}, \"yaxis\": {\"anchor\": \"x\", \"domain\": [0.625, 1.0], \"range\": [0.0, 0.95], \"tickfont\": {\"family\": \"Arial\"}, \"title\": {\"font\": {\"family\": \"Arial\"}, \"text\": \"Classification_accuracy\"}}, \"yaxis2\": {\"anchor\": \"x2\", \"domain\": [0.0, 0.375], \"range\": [0.0, 0.8], \"tickfont\": {\"family\": \"Arial\"}, \"title\": {\"font\": {\"family\": \"Arial\"}, \"text\": \"Classification_accuracy\"}}},                        {\"responsive\": true}                    ).then(function(){\n",
       "                            \n",
       "var gd = document.getElementById('2773d0d9-3a1f-4733-9c71-affbc5d2dbfa');\n",
       "var x = new MutationObserver(function (mutations, observer) {{\n",
       "        var display = window.getComputedStyle(gd).display;\n",
       "        if (!display || display === 'none') {{\n",
       "            console.log([gd, 'removed!']);\n",
       "            Plotly.purge(gd);\n",
       "            observer.disconnect();\n",
       "        }}\n",
       "}});\n",
       "\n",
       "// Listen for the removal of the full notebook cells\n",
       "var notebookContainer = gd.closest('#notebook-container');\n",
       "if (notebookContainer) {{\n",
       "    x.observe(notebookContainer, {childList: true});\n",
       "}}\n",
       "\n",
       "// Listen for the clearing of the current output cell\n",
       "var outputEl = gd.closest('.output');\n",
       "if (outputEl) {{\n",
       "    x.observe(outputEl, {childList: true});\n",
       "}}\n",
       "\n",
       "                        })                };                });            </script>        </div>"
      ]
     },
     "metadata": {},
     "output_type": "display_data"
    }
   ],
   "source": [
    "#Assembling the classification accuracies in one dictionary\n",
    "Trees_Accuracies_sample1000={'SOT - Accuracy on Training set': [0.809, 0.805, 0.840,  0.796,  0.849, 0.820, 0.764,  0.825, 0.801, 0.863, 0.842, 0.823, 0.816, 0.829, 0.845],\n",
    "                             'iDT - Accuracy on Training set': [0.772, 0.799, 0.820,  0.780,  0.817, 0.796, 0.762,  0.781, 0.789, 0.832, 0.834, 0.773, 0.809, 0.825, 0.815],\n",
    "                             'SOT - Accuracy on Test set':     [0.700, 0.650, 0.740,  0.688,  0.700, 0.712, 0.660,  0.732, 0.716, 0.676, 0.660, 0.716, 0.680, 0.684, 0.728],\n",
    "                             'iDT - Accuracy on Test set':     [0.680, 0.660, 0.736,  0.708,  0.712, 0.704, 0.652,  0.728, 0.744, 0.708, 0.672, 0.708, 0.692, 0.700, 0.744],\n",
    "                             'Training_data_size': [1, 2, 3, 4, 5, 6, 7, 8, 9, 10, 11, 12, 13, 14, 15],\n",
    "                             'Tick_labels':['RS_1650', 'RS_128', 'RS_15', 'RS_5562000', 'RS_15125000', 'RS_53', 'RS_569000', 'RS_1250000', 'RS_54150', 'RS_856', 'RS_20100', 'RS_756000', 'RS_4650000', 'RS_28150', 'RS_5222000']}\n",
    "\n",
    "\n",
    "#Derive a barplot with class. acc. for the two DT for train and test sets\n",
    "Trees_s1000_fig = make_subplots(rows=2, cols=1, subplot_titles=('Classification accuracies on the Training Sets', 'Classification accuracies on the Test Sets'))\n",
    "\n",
    "\n",
    "Trees_s1000_fig.append_trace(go.Bar(x=Trees_Accuracies_sample1000['Tick_labels'], y=Trees_Accuracies_sample1000['iDT - Accuracy on Training set'], \n",
    "                                    name='Interactive DT',   #iDT - Training set\n",
    "                                    text=Trees_Accuracies_sample1000['iDT - Accuracy on Training set'],\n",
    "                                    textposition='outside',\n",
    "                                    textfont={'family':'Arial'},\n",
    "                                    texttemplate='%{text:.3f}',\n",
    "                                    marker=dict(color='royalblue')), row=1, col=1)\n",
    "\n",
    "Trees_s1000_fig.append_trace(go.Bar(x=Trees_Accuracies_sample1000['Tick_labels'], y=Trees_Accuracies_sample1000['SOT - Accuracy on Training set'],\n",
    "                                    name='Statistically Optimal Tree', #Stat. Opt. Tree - Training set\n",
    "                                    text=Trees_Accuracies_sample1000['SOT - Accuracy on Training set'],\n",
    "                                    textposition='outside', \n",
    "                                    textfont={'family':'Arial'},\n",
    "                                    texttemplate='%{text:.3f}',\n",
    "                                    marker=dict(color='firebrick')), row=1, col=1)\n",
    "\n",
    "Trees_s1000_fig.append_trace(go.Bar(x=Trees_Accuracies_sample1000['Tick_labels'], y=Trees_Accuracies_sample1000['iDT - Accuracy on Test set'], \n",
    "                                    name='Interactive DT - Test set',\n",
    "                                    text=Trees_Accuracies_sample1000['iDT - Accuracy on Test set'],\n",
    "                                    textposition='outside',\n",
    "                                    textfont={'family':'Arial'},\n",
    "                                    texttemplate='%{text:.3f}',\n",
    "                                    showlegend=False,\n",
    "                                    marker=dict(color='royalblue')), row=2, col=1)\n",
    "\n",
    "Trees_s1000_fig.append_trace(go.Bar(x=Trees_Accuracies_sample1000['Tick_labels'], y=Trees_Accuracies_sample1000['SOT - Accuracy on Test set'],\n",
    "                                    name='Stat. Opt. Tree - Test set',\n",
    "                                    text=Trees_Accuracies_sample1000['SOT - Accuracy on Test set'],\n",
    "                                    textposition='outside', \n",
    "                                    textfont={'family':'Arial'},\n",
    "                                    texttemplate='%{text:.3f}',\n",
    "                                    showlegend=False,\n",
    "                                    marker=dict(color='firebrick')), row=2, col=1)\n",
    "\n",
    "\n",
    "Trees_s1000_fig.update_layout(autosize=False, width=1400, height=800,\n",
    "                              font={'family':'Arial'},\n",
    "                              legend = dict(font={'family':'Arial'}, orientation='v'),\n",
    "                              margin = go.layout.Margin(l=20,r=20,b=50,t=50,pad = 4), template='plotly_white',\n",
    "                              barmode='group')\n",
    "\n",
    "Trees_s1000_fig.update_xaxes(titlefont={'family':'Arial'}, tickfont={'family':'Arial'}, row=1, col=1)\n",
    "Trees_s1000_fig.update_xaxes(titlefont={'family':'Arial'}, tickfont={'family':'Arial'}, row=2, col=1)\n",
    "\n",
    "Trees_s1000_fig.update_yaxes(title_text='Classification_accuracy', titlefont={'family':'Arial'}, tickfont={'family':'Arial'}, range=[0.0,0.95], row=1, col=1)\n",
    "Trees_s1000_fig.update_yaxes(title_text='Classification_accuracy', titlefont={'family':'Arial'}, tickfont={'family':'Arial'}, range=[0.0,0.80], row=2, col=1)"
   ]
  },
  {
   "cell_type": "markdown",
   "metadata": {},
   "source": [
    "# 6. References\n",
    "\n",
    "- Understanding the sensitivity of karst groundwater recharge to climate and land cover changes at a large-scale, Sarrazin, F. (Author). 25 Sep 2018"
   ]
  }
 ],
 "metadata": {
  "kernelspec": {
   "display_name": "Python 3",
   "language": "python",
   "name": "python3"
  },
  "language_info": {
   "codemirror_mode": {
    "name": "ipython",
    "version": 3
   },
   "file_extension": ".py",
   "mimetype": "text/x-python",
   "name": "python",
   "nbconvert_exporter": "python",
   "pygments_lexer": "ipython3",
   "version": "3.9.4"
  }
 },
 "nbformat": 4,
 "nbformat_minor": 4
}
