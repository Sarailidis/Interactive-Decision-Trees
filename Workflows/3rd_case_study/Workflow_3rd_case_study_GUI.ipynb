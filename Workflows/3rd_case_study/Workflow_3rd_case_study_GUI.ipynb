{
 "cells": [
  {
   "cell_type": "markdown",
   "metadata": {},
   "source": [
    "<center><img src=\"logo.png\" alt=\"logo\" style=\"float:center; width:200px;\"/></center>"
   ]
  },
  {
   "cell_type": "markdown",
   "metadata": {},
   "source": [
    "<center><h1 style=\"color:rgb(49,112,223);\"> Interactive Decision Trees</h1><\\center>"
   ]
  },
  {
   "cell_type": "markdown",
   "metadata": {},
   "source": [
    "# "
   ]
  },
  {
   "cell_type": "markdown",
   "metadata": {},
   "source": [
    "# Using Interactive Decision Trees to ensure physical consistency of the DT by manually changing leaves nodes classes and/or variables and thresholds to split in cases of Imbalanced datasets   "
   ]
  },
  {
   "cell_type": "markdown",
   "metadata": {},
   "source": [
    "In this JupyterLab notebook we show how experts can manually change  leaves nodes classes and/or variables and thresholds to split. We demonstrate how this functionality of the iDTs toolbox could be used to icorporate scientific knowledge into DT and ensure physical consistency. The methodology described in this JupyterLab notebook was followed to produce the results of the 3rd case study of the paper *Integrating Scientific Knowledge into Machine Learning using Interactive Decision Trees (Sarailidis et al. 2021, submitted to Computers and Geosciences)*."
   ]
  },
  {
   "cell_type": "markdown",
   "metadata": {},
   "source": [
    "# Notebook Contents:\n",
    "\n",
    "1. Introduction\n",
    "    + 1.1 Objective of the case study\n",
    "    + 1.2 Description of the initial dataset\n",
    "2. Steps followed to create imbalanced datasets of various sizes\n",
    "3. Derive the Statistically Optimal Tree (SOT)\n",
    "4. Interacting with the DT to tackle the problem of missing class C2\n",
    "5. Evaluation of DTs\n",
    "6. References"
   ]
  },
  {
   "cell_type": "markdown",
   "metadata": {},
   "source": [
    "# 1. Introduction:\n",
    "\n",
    "## 1.1 Objective of the case study \n",
    "This case study is an example of application of interactive DT (iDT) in cases where certain classes are under-represented in a dataset (a situation known as imbalanced datasets). Statistically optimal DT in cases like this may miss important classes because classifying data points in other classes may give better results satistically. However, such DT may not generalize well on unseen data where all classes are well represented. The objective here is to show that by interacting with the DT (by manually changing variables and thresholds to split and leaf node classes) the experts can ensure that important classes will appear in the DT even if they are under-represented and iDT can generalize better on unseen data.\n",
    "\n",
    "To do that we create random samples of various sizes with imbalanced representation of classes (Section 2). Then we derive SOT (Section 3) and iDT (Section 4) for each of the imbalanced datasets. Finally, we evaluate the DT (SOT and iDTs) based on their classification performance and physical consistency. \n",
    "\n",
    "## 1.2 Description of the initial dataset:\n",
    "\n",
    "We used the dataset from Sarazin (2018): \n",
    "\n",
    "- The dataset contains 17,000,000 simulations data points of a hydrological model and 34 input variables which characterize climate properties and land cover types. \n",
    "- There are 4 classes in the dataset, namely, C1 (<20 mm/yr), C2 (20 – 100 mm/yr), C3 (100 – 300 mm/yr) and C4 (>300 mm/yr) which correspond to different recharge values.\n",
    "- A DT algorithm applied to this dataset shows how the different input variables combine to produce more or less recharge. "
   ]
  },
  {
   "cell_type": "markdown",
   "metadata": {},
   "source": [
    "# 2. Steps followed to create imbalanced datasets of various sizes\n",
    "\n",
    "1. Create sample datasets of 5 different sizes ([1000,34], [5000,34], [10000,34], [50000,34], [100000,34]) by random sampling from the initial dataset described above and splitting into training and test sets (75% and 25% of the dataset size respectively). \n",
    "        \n",
    "    __Note_1:__ The 5 sample datasets of various sizes were created using the GUI for importing files we developed and it's included in iDTGUIfun module. It contains an implementation for random sampling and splitting in train and test sets. To ease reproducibility, in the rest of this notebook I will use the sample dataset I derived (and which are provided in the folder 'Sample_dataset') to produce the results of the 3rd case study of the paper *Integrating Scientific Knowledge into Machine Learning using Interactive Decision Trees Sarailidis et al. (2021) submitted to Computers and Geosciences*\n",
    "\n",
    "     __Note_2:__ If interested to know how to use the import file GUI please look at the \"How to use the Graphical User Interface\" pdf I provide in the repository and the 1st_case_study Workflow.\n",
    "\n",
    "1. Find and store the indexes of data points that belong to a certain class to variables with corresponding names \n",
    "2. We remove data points that belong to C2 class.\n",
    "3. Remove the class label and the corresponding colour from the classes color dictionary\n",
    "4. From the initial training set we randomly sample data points that belong to C2 class and store it in a variable. The length of that variable is such that when it will be concatenated with the variable that contains the data points without C2 class the resulting training set will contain only few data points of class C2 (<2%).\n",
    "5. We concatenate the variable that contains only data points of C2 class (which however are very few) with the variable that contains no data points of C2 class. The resulting training set will contain only few data points of class C2 (<2%) while the test set has a more balanced representation of the classes.\n",
    "6. Restore the class label and the corresponding colour in classes color dictionary"
   ]
  },
  {
   "cell_type": "code",
   "execution_count": 4,
   "metadata": {},
   "outputs": [],
   "source": [
    "#Import library for random sampling\n",
    "import random\n",
    "#Import modules for interactive construction and analysis of DT\n",
    "import InteractiveDT\n",
    "from InteractiveDT import iDT\n",
    "from InteractiveDT import iDTGUIfun"
   ]
  },
  {
   "cell_type": "code",
   "execution_count": 5,
   "metadata": {},
   "outputs": [],
   "source": [
    "#The next three empty dictionaries we create are required as inputs for the initialization of the GUI\n",
    "Data_dict={}\n",
    "Classes_color_dict={'Classes Labels': {}, 'Classes Colors': {}}\n",
    "Features_color_groups={'Groups & parameters': {}, 'Colors of groups': {}}\n",
    "#Initialize the GUI:\n",
    "GUI = iDTGUIfun.InteractiveDecisionTreesGUI(Data_dict, Classes_color_dict, Features_color_groups)\n",
    "#Initializa the GUI for importing dataset\n",
    "GUI.ImportDatasetGUI()"
   ]
  },
  {
   "cell_type": "markdown",
   "metadata": {},
   "source": [
    "# "
   ]
  },
  {
   "cell_type": "markdown",
   "metadata": {},
   "source": [
    "## *Sample dataset [5000, 34]:*"
   ]
  },
  {
   "cell_type": "markdown",
   "metadata": {},
   "source": [
    "Import necessary libraries & modules"
   ]
  },
  {
   "cell_type": "code",
   "execution_count": 6,
   "metadata": {},
   "outputs": [],
   "source": [
    "#Libraries which are useful for many cases\n",
    "import pandas as pd\n",
    "import numpy as np\n",
    "#Libraries necessary for data analysis and ML methods\n",
    "import sklearn\n",
    "from sklearn import preprocessing\n",
    "from sklearn.model_selection import train_test_split\n",
    "from sklearn import tree\n",
    "#Libraries useful for finding the statistiaclly optimal trees\n",
    "from sklearn.model_selection import GridSearchCV\n",
    "from sklearn.model_selection import StratifiedKFold\n",
    "#Libraries useful for measuring the classification accuracy and creating confusion matrices\n",
    "from sklearn.metrics import classification_report, confusion_matrix, accuracy_score\n",
    "from sklearn.metrics import confusion_matrix, plot_confusion_matrix\n",
    "from sklearn.metrics import ConfusionMatrixDisplay\n",
    "#Libraries necessary for producing the plots\n",
    "from plotly.subplots import make_subplots\n",
    "import plotly.graph_objects as go"
   ]
  },
  {
   "cell_type": "markdown",
   "metadata": {},
   "source": [
    "Load the corresponding dataset:"
   ]
  },
  {
   "cell_type": "code",
   "execution_count": 9,
   "metadata": {},
   "outputs": [],
   "source": [
    "#Store the paths the data live in variables\n",
    "path_train_inputs = 'Sample_datasets/Sample_5000/Inputs_updated_C2_smpl_5000'\n",
    "path_train_outputs = 'Sample_datasets/Sample_5000/Outputs_updated_C2_smpl_5000'\n",
    "path_test_inputs = 'Sample_datasets/Sample_5000/Inputs_test_C2_smpl_5000'\n",
    "path_test_outputs = 'Sample_datasets/Sample_5000/Outputs_test_C2_smpl_5000'\n",
    "\n",
    "\n",
    "#Train set Input features\n",
    "GUI.Data_dict['x']=pd.read_pickle(path_train_inputs)\n",
    "#Train set Outputs (classes)\n",
    "GUI.Data_dict['y']=pd.read_pickle(path_train_outputs)\n",
    "#Test set Input features\n",
    "GUI.Data_dict['z']=pd.read_pickle(path_test_inputs)\n",
    "#Test set Outputs (classes)\n",
    "GUI.Data_dict['w']=pd.read_pickle(path_test_outputs)\n",
    "#Features labels\n",
    "GUI.Data_dict['features']=list(Data_dict['x'].columns)\n",
    "\n",
    "#Complete output dataset\n",
    "GUI.Data_dict['outputs_complete_dataset']=pd.concat([GUI.Data_dict['y'], GUI.Data_dict['w']])\n",
    "#Complete inputs dataset\n",
    "GUI.Data_dict['inputs_complete_dataset']=pd.concat([GUI.Data_dict['x'], GUI.Data_dict['z']])\n",
    "#Outputs training dataset\n",
    "GUI.Data_dict['outputs_train']=GUI.Data_dict['y']\n",
    "#List of available features (variables) in the dataset\n",
    "GUI.Data_dict['features']=list(GUI.Data_dict['x'].columns)"
   ]
  },
  {
   "cell_type": "markdown",
   "metadata": {},
   "source": [
    "Now we need to create the dictionary that will store the classes names and the corresponding colours. We use the DefineClassesGUI for this purpose. In the GUI that will appear:\n",
    "\n",
    "+ Type the name of the class in the correspodning text area widget that will appear.\n",
    "     - The names of the classes should be the same as the ones included in the csv file we imported. For this example the classes names are: C1, C2, C3, C4\n",
    "+ Click the 'Add Class Label' button\n",
    "+ Click on the colored box to open the color picker box. Pick a color and click ok. Or, type the name of the colour in the corresponding text area of the widget. \n",
    "+ Click the 'Assign color to the Class' button"
   ]
  },
  {
   "cell_type": "code",
   "execution_count": 10,
   "metadata": {},
   "outputs": [
    {
     "data": {
      "application/vnd.jupyter.widget-view+json": {
       "model_id": "163c70dc161d42d69651d5522424b1bb",
       "version_major": 2,
       "version_minor": 0
      },
      "text/plain": [
       "VBox(children=(VBox(children=(HBox(children=(Text(value='', description='Class Name', placeholder='Type the cl…"
      ]
     },
     "metadata": {},
     "output_type": "display_data"
    }
   ],
   "source": [
    "GUI.DefineClassesGUI()\n",
    "GUI.classes_labels_box"
   ]
  },
  {
   "cell_type": "markdown",
   "metadata": {},
   "source": [
    "__Note:__ If someone wants to see the loaded classes and colours then in a new cell type GUI.classes_dict and run the cell. This will output a dictionary which stores key-value pairs of classes labels and classes colours."
   ]
  },
  {
   "cell_type": "markdown",
   "metadata": {},
   "source": [
    "### Create the imbalance datasets:\n",
    "### Step 2.2 Store the indexes of data points that belong to a certain class to variables with corresponding names"
   ]
  },
  {
   "cell_type": "code",
   "execution_count": 6,
   "metadata": {},
   "outputs": [],
   "source": [
    "C4_indexes = list(GUI.Data_dict['y'][GUI.Data_dict['y']=='C4'].index)\n",
    "C3_indexes = list(GUI.Data_dict['y'][GUI.Data_dict['y']=='C3'].index)\n",
    "C2_indexes = list(GUI.Data_dict['y'][GUI.Data_dict['y']=='C2'].index)\n",
    "C1_indexes = list(GUI.Data_dict['y'][GUI.Data_dict['y']=='C1'].index)"
   ]
  },
  {
   "cell_type": "markdown",
   "metadata": {},
   "source": [
    "### Step 2.3 Removing data points that belong to C2 class."
   ]
  },
  {
   "cell_type": "code",
   "execution_count": 7,
   "metadata": {},
   "outputs": [],
   "source": [
    "Inputs_C2_missing = GUI.Data_dict['x'].drop(C2_indexes)\n",
    "Outputs_C2_missing = GUI.Data_dict['y'].drop(C2_indexes)"
   ]
  },
  {
   "cell_type": "markdown",
   "metadata": {},
   "source": [
    "### Step 2.4 Remove the class label and the corresponding colour from the dictionary"
   ]
  },
  {
   "cell_type": "code",
   "execution_count": 8,
   "metadata": {},
   "outputs": [],
   "source": [
    "del GUI.classes_dict['Classes Labels'][1]\n",
    "del GUI.classes_dict['Classes Colors'][1]"
   ]
  },
  {
   "cell_type": "markdown",
   "metadata": {},
   "source": [
    "### Step 2.5 Random sampling of C2 data points and store them in a variable"
   ]
  },
  {
   "cell_type": "code",
   "execution_count": 9,
   "metadata": {},
   "outputs": [],
   "source": [
    "sample_C2=GUI.Data_dict['x'].loc[C2_indexes,:].sample(int(0.016*len(Inputs_C2_missing)))"
   ]
  },
  {
   "cell_type": "markdown",
   "metadata": {},
   "source": [
    "### Step 2.6 Concatenate the two variables to create one training imbalanced dataset"
   ]
  },
  {
   "cell_type": "code",
   "execution_count": 10,
   "metadata": {},
   "outputs": [],
   "source": [
    "Inputs_updated_C2=pd.concat([Inputs_C2_missing, sample_C2])\n",
    "Outputs_updated_C2=pd.concat([Outputs_C2_missing, GUI.Data_dict['y'][sample_C2.index]])\n",
    "\n",
    "GUI.Data_dict['x'] = Inputs_updated_C2\n",
    "GUI.Data_dict['y'] = Outputs_updated_C2"
   ]
  },
  {
   "cell_type": "markdown",
   "metadata": {},
   "source": [
    "### Step 2.7 Restore the class label and the corresponding colour in the color classes dictionary"
   ]
  },
  {
   "cell_type": "code",
   "execution_count": 11,
   "metadata": {},
   "outputs": [],
   "source": [
    "GUI.classes_dict['Classes Labels'].insert(1, 'C2')\n",
    "GUI.classes_dict['Classes Colors'].insert(1, '#288638')"
   ]
  },
  {
   "cell_type": "markdown",
   "metadata": {},
   "source": [
    "# 3. Derive the Statistically Optimal Tree (SOT)\n",
    "\n",
    "In this section I describe the methodology followed to derive the Statistically optimal tree (SOT) for each sample dataset.\n",
    "\n",
    "Exhaustive Grid Search from sklearn library (for more details: https://scikit-learn.org/0.15/modules/grid_search.html ) was used to determine the optimal values of certain tree building parameters. Using these optimal values when fitting the tree will give us the SOT.\n",
    "\n",
    "1. We set up the parameter space grid with the following parameters (and their ranges):\n",
    "\n",
    "    + Max_leaf_nodes: [15:26 (or 30 in large samples), step=1]\n",
    "\n",
    "\n",
    "2. We set a 10-fold Cross validation search\n",
    "\n",
    "In Exhaustive Grid Search all the possible combinations of parameter values are evaluated, and the best combination is retained."
   ]
  },
  {
   "cell_type": "code",
   "execution_count": 12,
   "metadata": {},
   "outputs": [
    {
     "name": "stdout",
     "output_type": "stream",
     "text": [
      "Best score: 0.8459387159533074\n",
      "Best parameters: {'max_leaf_nodes': 15}\n"
     ]
    }
   ],
   "source": [
    "#Create a Decision Tree classifier object\n",
    "dtc = sklearn.tree.DecisionTreeClassifier(random_state=None)\n",
    "#Variable range\n",
    "max_leaf_nodes_range=list(range(10,20,1))\n",
    "#Set up the parameter grid\n",
    "parameter_grid = {'max_leaf_nodes': max_leaf_nodes_range}\n",
    "#Set up the evaluation strategy\n",
    "cross_validation = StratifiedKFold(n_splits=10)\n",
    "# n_iter_search=20\n",
    "\n",
    "#Exhaustive GridSearch\n",
    "grid_search = GridSearchCV(dtc, param_grid=parameter_grid, cv=cross_validation, n_jobs=-1, error_score='raise')\n",
    "\n",
    "# grid_search.fit(Inputs_updated_C2, Outputs_updated_C2)\n",
    "grid_search.fit(GUI.Data_dict['x'], GUI.Data_dict['y'])\n",
    "print('Best score: {}'.format(grid_search.best_score_))\n",
    "print('Best parameters: {}'.format(grid_search.best_params_))\n",
    "\n",
    "#Fit a tree with the stat. optimal combination found\n",
    "toy_tree_updated_C2 = grid_search.best_estimator_\n",
    "# toy_tree_updated_C2.fit(Inputs_updated_C2, Outputs_updated_C2);\n",
    "toy_tree_updated_C2.fit(GUI.Data_dict['x'], GUI.Data_dict['y']);"
   ]
  },
  {
   "cell_type": "markdown",
   "metadata": {},
   "source": [
    "# "
   ]
  },
  {
   "cell_type": "markdown",
   "metadata": {},
   "source": [
    "If we specify the optimal pamaeter values as obtained from the exhaustive grid search to the corresponding widgets of the GUI that will appear we will get the SOT tree:\n",
    "\n",
    " + max_leaf_nodes = 15\n",
    " + The max_depth widget value shoulde be set to a high enough value (e.g. 10) to ensure that the 15 leaf node will be plotted. \n",
    " + The max_features widget value should be set equal to number of features available in the dataset (in this case 34) in order for the algorithm to be able to choose among all of them. \n",
    " + The rest of the parameters can be left at their default values. \n",
    " \n",
    "__Note_1:__ Once the user changes the value of one of 'Decision Tree Structure Controlling Parameters and Plot Formatting' widgets the DT plot will be automatically updated.\n",
    "\n",
    "__Note_2:__ The max_depth widget value shoulde be set to a high enough value (e.g. 10) to ensure that the 15 leaf nodes will be plotted. Moreover, the max_features widget value should be set equal to number of features available in the dataset (in this case 34) in order for the algorithm to be able to choose among all of them."
   ]
  },
  {
   "cell_type": "code",
   "execution_count": 13,
   "metadata": {},
   "outputs": [
    {
     "data": {
      "application/vnd.jupyter.widget-view+json": {
       "model_id": "6cb487d46f304bc6ae575b2b8eb318de",
       "version_major": 2,
       "version_minor": 0
      },
      "text/plain": [
       "interactive(children=(Dropdown(description='criterion', layout=Layout(width='20%'), options=('gini', 'entropy'…"
      ]
     },
     "metadata": {},
     "output_type": "display_data"
    },
    {
     "data": {
      "application/vnd.jupyter.widget-view+json": {
       "model_id": "ca2ad1a8b6a041098bb461f94ebc9a0b",
       "version_major": 2,
       "version_minor": 0
      },
      "text/plain": [
       "VBox(box_style='info', children=(VBox(children=(HBox(children=(Label(value='Creation of New Composite Variable…"
      ]
     },
     "metadata": {},
     "output_type": "display_data"
    }
   ],
   "source": [
    "#Initialize the GUI that contains widgets for interactive construction and analysis of DT\n",
    "GUI.InterConAnalDTGUI()\n",
    "\n",
    "#For the update Features button to work we need to initialize the GUI SelectFeaturesGUI.\n",
    "GUI.SelectFeaturesGUI() \n",
    "\n",
    "#Output the widgets:\n",
    "GUI.Box"
   ]
  },
  {
   "cell_type": "markdown",
   "metadata": {},
   "source": [
    "# 4. Derive expert guided DT to tackle the problem of missing class C2\n",
    "\n",
    "The SOT misses the under-represented class C2 because the algorithm finds that classifying the data points of the dataset to the the rest of the classes as more optimal in a statistical sense. But we know that C2 is an important class and should be represented in the DT. Having the SOT as a starting point we interact with the DT in the following ways to fix this problem:\n",
    "\n",
    "1. Manually change nodes threshold and variables to split\n",
    "2. Manually change leaf nodes classes\n",
    "3. Manually prune redudant nodes\n",
    "\n",
    "The above interactions enable the experts to input their expert knowledge and tackle the issue of missing classes. We know based on our experience with this dataset that in the left part of the tree (with reference to the root node) the DT should lead at some leaves of class C2. Therefore, we try to play with the variables and thresholds to split until we manage to get leaves with C2 class. Or, directly change a leaf node class to C2 if we know it makes more sense to be C2.\n",
    "\n",
    "### 4.1 Manually change nodes threshold and variables to split:\n",
    "\n",
    "1. In the widget 'Node_id', specify the id of the node we want to change its threshold. The user can see the nodes IDs by hovering over the nodes in the plot (a window displaying the ID, the impurity and the nodes samples appears).\n",
    "2. Select the variable to split from the dropdown menu of the widget named 'Features'.\n",
    "3. Specify the new threshold value in the widget named 'Split Point'\n",
    "4. Specify the max_leaf_nodes the left subtree should have 'Max_leaf_nodes_right_subtree'\n",
    "5. Specify the max_leaf_nodes the right subtree should have in the widget named 'Max_leaf_nodes_right_subtree'   \n",
    "6. Press the button widget 'Apply Changes'.\n",
    "  \n",
    "__Note_1:__ If we want to make changes to a node which in the original SOT one of its barnches leads to a leaf node e.g. left branch, then for this node for the left_subtree we need to specify max_leaf_nodes_left_subtree = 2, because otherwise the program won't work. Then, we can manually prune that node if we want to force it to have one leaf_node as in the original SOT.\n",
    "\n",
    "We repeat the above steps until we are happy. In this case study we make the following changes in the following order:\n",
    "\n",
    "1. Node 0:  From Pm <= 233.05  to     Pm <= 720    (Max_leaf_nodes_left_subtree = 11, Max_leaf_nodes_right_subtree = 4) -> With this change we essentially make node 2 of the original SOT tree the root node to iDT.\n",
    "    \n",
    "2. Node 1:  From Pm <= 233.05  to     Pm <= 300    (Max_leaf_nodes_left_subtree = 4, Max_leaf_nodes_right_subtree = 8)\n",
    "\n",
    "3. Node 2:  From Pm <= 188.155 to     Pm <= 65     (Max_leaf_nodes_left_subtree = 2, Max_leaf_nodes_right_subtree = 2) -> If we make a split on that node on Pm<65 we are confident that for Pm<=65 some instances are classified as C2. Even if the algorithm won't give us a leaf node with C2 class we can manually change that.\n",
    "\n",
    "4. Node 17: From Pm <= 639.075 to     Pm <= 500    (Max_leaf_nodes_left_subtree = 2, Max_leaf_nodes_right_subtree = 2) \n",
    "\n",
    "5. Node 18: From Dp <= 1.667   to ro_P_E <= -0.4   (Max_leaf_nodes_left_subtree = 2, Max_leaf_nodes_right_subtree = 2) -> We are confident that one of the resulting nodes from that split should contain instances of class C2. Even if the algorithm doesn't dive a leaf node of class C2 we can change that later.\n",
    "\n",
    "6. Node 18: From  a <= 1.889   to     Ip <= 7.00   (Max_leaf_nodes_left_subtree = 2, Max_leaf_nodes_right_subtree = 2)\n",
    "\n",
    "7. Node 29: From  a <= 2.26    to      a <= 1.6    (Max_leaf_nodes_left_subtree = 2, Max_leaf_nodes_right_subtree = 2)\n",
    "\n",
    "\n",
    "__Note:__ Everytime we make a change to a node and we press the 'Apply Changes' button the nodes numbering will be updated in the derived tree. So in the above list the node ids refer to the last modified tree.\n",
    "\n",
    "\n",
    "### 4.2 Manually prune redudant nodes \n",
    "\n",
    "\n",
    "To manually prune nodes using the GUI we follow the steps:\n",
    "\n",
    "1. Check the 'Tree is Modified' widget because we previously modified the DT by manually changing the threshold values.\n",
    "2. Specify node id to be pruned in the 'Node to prune' widget\n",
    "3. Press the 'Prune' button\n",
    "\n",
    "We repeat steps 2 to 3 until we are happy. In this case study we prune the following nodes in the following order:\n",
    "\n",
    "1. Node: 10 (of the last modified tree)\n",
    "2. Node: 3  (of the last pruned tree)\n",
    "3. Node: 29 (of the last pruned tree)\n",
    "4. Node: 15 (of the last pruned tree)\n",
    "5. Node: 16 (of the last pruned tree)\n",
    "6. Node: 9 (of the last pruned tree)\n",
    "\n",
    "\n",
    "__Note:__ Everytime we make a change to a node and we press the 'Prune' button the nodes numbering will be updated in the derived tree.\n",
    "\n",
    "\n",
    "### 4.3 Manually change leaf nodes classes\n",
    "\n",
    "To manually change the leaves nodes classes using the GUI we follow the steps:\n",
    "\n",
    "1. Select whether the tree was last modified (e.g. variable or threshold to split was changed) or pruned from the dropdown menu widget named 'Tree State'. In this example, select 'Last pruned'.\n",
    "2. Specify the node id (numbering of nodes is based on the last modified or pruned) using the text area widget named 'Leaf Node ID'.\n",
    "3. Specify the new class of the leaf node using the text area widget named 'Class'\n",
    "4. Press the 'Change Class' button.\n",
    "\n",
    "We repeat the above steps untial we are happy. In this case study we make the following nodes in the following order:\n",
    "\n",
    "1. Leaf node 9:  From C1 to C2\n",
    "2. Leaf node 14: From C3 to C2\n",
    "3. Leaf node 23: From C3 to C2"
   ]
  },
  {
   "cell_type": "code",
   "execution_count": 14,
   "metadata": {},
   "outputs": [
    {
     "data": {
      "application/vnd.jupyter.widget-view+json": {
       "model_id": "ca2ad1a8b6a041098bb461f94ebc9a0b",
       "version_major": 2,
       "version_minor": 0
      },
      "text/plain": [
       "VBox(box_style='info', children=(VBox(children=(HBox(children=(Label(value='Creation of New Composite Variable…"
      ]
     },
     "metadata": {},
     "output_type": "display_data"
    }
   ],
   "source": [
    "#Output the widgets:\n",
    "GUI.Box"
   ]
  },
  {
   "cell_type": "markdown",
   "metadata": {},
   "source": [
    "# 5. Evaluating the DTs\n",
    "\n",
    "The evaluation of SOT and iDT is based on the following criteria:\n",
    "\n",
    "1. Classification accuracy on the training and test sets\n",
    "2. Missing or not class C2\n",
    "\n",
    "### Assessment of the classification performance\n",
    "\n",
    "In the GUI that will appear the user should:\n",
    "\n",
    "+ Specify the tree state using the dropdown widget:\n",
    "    - If there were no previous interactions with the DT then the user should select the 'No expert tree interactions'. In this example, by selecting this, the accuracies for the SOT will be calculated.\n",
    "    - If the last interaction with the DT was manual changing of variable and/or threshold to split then the user should select the option 'Tree was last modified'\n",
    "    - If the last interaction with the DT was manual pruning then the user needs to select the option 'Tree was last pruned'. In this example, by selecting this, the accuracies for the iDT will be calculated.\n",
    "+ Make sure the 'Train_test_splitting' is checked.\n",
    "+ Then click on the 'Calculate accuracy' button (In the case of iDT it will take few minutes)"
   ]
  },
  {
   "cell_type": "code",
   "execution_count": 15,
   "metadata": {},
   "outputs": [
    {
     "data": {
      "application/vnd.jupyter.widget-view+json": {
       "model_id": "b9da7379fb6043c29fecfd4e678ac046",
       "version_major": 2,
       "version_minor": 0
      },
      "text/plain": [
       "VBox(box_style='info', children=(VBox(box_style='info', children=(HBox(box_style='info', children=(Dropdown(de…"
      ]
     },
     "metadata": {},
     "output_type": "display_data"
    }
   ],
   "source": [
    "#Output the evaluation widgets\n",
    "GUI.Eval_box"
   ]
  },
  {
   "cell_type": "markdown",
   "metadata": {},
   "source": [
    "__Note: For the rest of the sample datasets of the paper I applied the same methodology to all the 5 different sample datasets.__"
   ]
  },
  {
   "cell_type": "markdown",
   "metadata": {},
   "source": [
    "Having applied the same methodology for each of the sample datasets and measuring the classification accuracy on train and tests set, we can plot them into as lines:"
   ]
  },
  {
   "cell_type": "code",
   "execution_count": 16,
   "metadata": {},
   "outputs": [],
   "source": [
    "data_acc={'Stat_Optimal_Trees_train':    [0.894, 0.867, 0.872, 0.866, 0.866],\n",
    "          'Stat_Optimal_Trees_test':     [0.584, 0.578, 0.576, 0.594, 0.596],\n",
    "          'iDT_train': [0.743, 0.693, 0.774, 0.841, 0.816],\n",
    "          'iDT_test':  [0.652, 0.706, 0.642, 0.625, 0.620],\n",
    "          'Tick_labels': [1, 2, 3, 4, 5]}\n",
    "acc_df=pd.DataFrame(data_acc)"
   ]
  },
  {
   "cell_type": "markdown",
   "metadata": {},
   "source": [
    "We use the the Scatter Plot from plotly python Graphic Libraries to create the line charts"
   ]
  },
  {
   "cell_type": "code",
   "execution_count": 17,
   "metadata": {},
   "outputs": [
    {
     "data": {
      "application/vnd.plotly.v1+json": {
       "config": {
        "plotlyServerURL": "https://plot.ly"
       },
       "data": [
        {
         "line": {
          "color": "royalblue",
          "dash": "dash",
          "width": 2
         },
         "marker": {
          "color": "royalblue",
          "size": 15,
          "symbol": "diamond-open-dot"
         },
         "mode": "lines+markers+text",
         "name": "Interactive DT",
         "text": [
          "0.743",
          "0.693",
          "0.774",
          "0.841",
          "0.816"
         ],
         "textfont": {
          "family": "Arial",
          "size": 15
         },
         "textposition": "bottom center",
         "texttemplate": "%{text:.3f}",
         "type": "scatter",
         "x": [
          1,
          2,
          3,
          4,
          5
         ],
         "xaxis": "x",
         "y": [
          0.743,
          0.693,
          0.774,
          0.841,
          0.816
         ],
         "yaxis": "y"
        },
        {
         "line": {
          "color": "firebrick",
          "dash": "dash",
          "width": 2
         },
         "marker": {
          "color": "firebrick",
          "size": 15,
          "symbol": "diamond-open-dot"
         },
         "mode": "lines+markers+text",
         "name": "Statistically Optimal Tree",
         "text": [
          "0.894",
          "0.867",
          "0.872",
          "0.866",
          "0.866"
         ],
         "textfont": {
          "family": "Arial",
          "size": 15
         },
         "textposition": "top center",
         "texttemplate": "%{text:.3f}",
         "type": "scatter",
         "x": [
          1,
          2,
          3,
          4,
          5
         ],
         "xaxis": "x",
         "y": [
          0.894,
          0.867,
          0.872,
          0.866,
          0.866
         ],
         "yaxis": "y"
        },
        {
         "line": {
          "color": "royalblue",
          "dash": "dash",
          "width": 2
         },
         "marker": {
          "color": "royalblue",
          "size": 15,
          "symbol": "diamond-open-dot"
         },
         "mode": "lines+markers+text",
         "name": "Interactive DT - Test set",
         "showlegend": false,
         "text": [
          "0.652",
          "0.706",
          "0.642",
          "0.625",
          "0.62"
         ],
         "textfont": {
          "family": "Arial",
          "size": 15
         },
         "textposition": "top center",
         "texttemplate": "%{text:.3f}",
         "type": "scatter",
         "x": [
          1,
          2,
          3,
          4,
          5
         ],
         "xaxis": "x2",
         "y": [
          0.652,
          0.706,
          0.642,
          0.625,
          0.62
         ],
         "yaxis": "y2"
        },
        {
         "line": {
          "color": "firebrick",
          "dash": "dash",
          "width": 2
         },
         "marker": {
          "color": "firebrick",
          "size": 15,
          "symbol": "diamond-open-dot"
         },
         "mode": "lines+markers+text",
         "name": "Stat. Opt. Tree - Test set",
         "showlegend": false,
         "text": [
          "0.584",
          "0.578",
          "0.576",
          "0.594",
          "0.596"
         ],
         "textfont": {
          "family": "Arial",
          "size": 15
         },
         "textposition": "bottom center",
         "texttemplate": "%{text:.3f}",
         "type": "scatter",
         "x": [
          1,
          2,
          3,
          4,
          5
         ],
         "xaxis": "x2",
         "y": [
          0.584,
          0.578,
          0.576,
          0.594,
          0.596
         ],
         "yaxis": "y2"
        }
       ],
       "layout": {
        "autosize": false,
        "height": 600,
        "legend": {
         "font": {
          "family": "Arial",
          "size": 15
         },
         "orientation": "v"
        },
        "margin": {
         "b": 20,
         "l": 20,
         "pad": 4,
         "r": 20,
         "t": 20
        },
        "template": {
         "data": {
          "bar": [
           {
            "error_x": {
             "color": "#2a3f5f"
            },
            "error_y": {
             "color": "#2a3f5f"
            },
            "marker": {
             "line": {
              "color": "white",
              "width": 0.5
             }
            },
            "type": "bar"
           }
          ],
          "barpolar": [
           {
            "marker": {
             "line": {
              "color": "white",
              "width": 0.5
             }
            },
            "type": "barpolar"
           }
          ],
          "carpet": [
           {
            "aaxis": {
             "endlinecolor": "#2a3f5f",
             "gridcolor": "#C8D4E3",
             "linecolor": "#C8D4E3",
             "minorgridcolor": "#C8D4E3",
             "startlinecolor": "#2a3f5f"
            },
            "baxis": {
             "endlinecolor": "#2a3f5f",
             "gridcolor": "#C8D4E3",
             "linecolor": "#C8D4E3",
             "minorgridcolor": "#C8D4E3",
             "startlinecolor": "#2a3f5f"
            },
            "type": "carpet"
           }
          ],
          "choropleth": [
           {
            "colorbar": {
             "outlinewidth": 0,
             "ticks": ""
            },
            "type": "choropleth"
           }
          ],
          "contour": [
           {
            "colorbar": {
             "outlinewidth": 0,
             "ticks": ""
            },
            "colorscale": [
             [
              0,
              "#0d0887"
             ],
             [
              0.1111111111111111,
              "#46039f"
             ],
             [
              0.2222222222222222,
              "#7201a8"
             ],
             [
              0.3333333333333333,
              "#9c179e"
             ],
             [
              0.4444444444444444,
              "#bd3786"
             ],
             [
              0.5555555555555556,
              "#d8576b"
             ],
             [
              0.6666666666666666,
              "#ed7953"
             ],
             [
              0.7777777777777778,
              "#fb9f3a"
             ],
             [
              0.8888888888888888,
              "#fdca26"
             ],
             [
              1,
              "#f0f921"
             ]
            ],
            "type": "contour"
           }
          ],
          "contourcarpet": [
           {
            "colorbar": {
             "outlinewidth": 0,
             "ticks": ""
            },
            "type": "contourcarpet"
           }
          ],
          "heatmap": [
           {
            "colorbar": {
             "outlinewidth": 0,
             "ticks": ""
            },
            "colorscale": [
             [
              0,
              "#0d0887"
             ],
             [
              0.1111111111111111,
              "#46039f"
             ],
             [
              0.2222222222222222,
              "#7201a8"
             ],
             [
              0.3333333333333333,
              "#9c179e"
             ],
             [
              0.4444444444444444,
              "#bd3786"
             ],
             [
              0.5555555555555556,
              "#d8576b"
             ],
             [
              0.6666666666666666,
              "#ed7953"
             ],
             [
              0.7777777777777778,
              "#fb9f3a"
             ],
             [
              0.8888888888888888,
              "#fdca26"
             ],
             [
              1,
              "#f0f921"
             ]
            ],
            "type": "heatmap"
           }
          ],
          "heatmapgl": [
           {
            "colorbar": {
             "outlinewidth": 0,
             "ticks": ""
            },
            "colorscale": [
             [
              0,
              "#0d0887"
             ],
             [
              0.1111111111111111,
              "#46039f"
             ],
             [
              0.2222222222222222,
              "#7201a8"
             ],
             [
              0.3333333333333333,
              "#9c179e"
             ],
             [
              0.4444444444444444,
              "#bd3786"
             ],
             [
              0.5555555555555556,
              "#d8576b"
             ],
             [
              0.6666666666666666,
              "#ed7953"
             ],
             [
              0.7777777777777778,
              "#fb9f3a"
             ],
             [
              0.8888888888888888,
              "#fdca26"
             ],
             [
              1,
              "#f0f921"
             ]
            ],
            "type": "heatmapgl"
           }
          ],
          "histogram": [
           {
            "marker": {
             "colorbar": {
              "outlinewidth": 0,
              "ticks": ""
             }
            },
            "type": "histogram"
           }
          ],
          "histogram2d": [
           {
            "colorbar": {
             "outlinewidth": 0,
             "ticks": ""
            },
            "colorscale": [
             [
              0,
              "#0d0887"
             ],
             [
              0.1111111111111111,
              "#46039f"
             ],
             [
              0.2222222222222222,
              "#7201a8"
             ],
             [
              0.3333333333333333,
              "#9c179e"
             ],
             [
              0.4444444444444444,
              "#bd3786"
             ],
             [
              0.5555555555555556,
              "#d8576b"
             ],
             [
              0.6666666666666666,
              "#ed7953"
             ],
             [
              0.7777777777777778,
              "#fb9f3a"
             ],
             [
              0.8888888888888888,
              "#fdca26"
             ],
             [
              1,
              "#f0f921"
             ]
            ],
            "type": "histogram2d"
           }
          ],
          "histogram2dcontour": [
           {
            "colorbar": {
             "outlinewidth": 0,
             "ticks": ""
            },
            "colorscale": [
             [
              0,
              "#0d0887"
             ],
             [
              0.1111111111111111,
              "#46039f"
             ],
             [
              0.2222222222222222,
              "#7201a8"
             ],
             [
              0.3333333333333333,
              "#9c179e"
             ],
             [
              0.4444444444444444,
              "#bd3786"
             ],
             [
              0.5555555555555556,
              "#d8576b"
             ],
             [
              0.6666666666666666,
              "#ed7953"
             ],
             [
              0.7777777777777778,
              "#fb9f3a"
             ],
             [
              0.8888888888888888,
              "#fdca26"
             ],
             [
              1,
              "#f0f921"
             ]
            ],
            "type": "histogram2dcontour"
           }
          ],
          "mesh3d": [
           {
            "colorbar": {
             "outlinewidth": 0,
             "ticks": ""
            },
            "type": "mesh3d"
           }
          ],
          "parcoords": [
           {
            "line": {
             "colorbar": {
              "outlinewidth": 0,
              "ticks": ""
             }
            },
            "type": "parcoords"
           }
          ],
          "pie": [
           {
            "automargin": true,
            "type": "pie"
           }
          ],
          "scatter": [
           {
            "marker": {
             "colorbar": {
              "outlinewidth": 0,
              "ticks": ""
             }
            },
            "type": "scatter"
           }
          ],
          "scatter3d": [
           {
            "line": {
             "colorbar": {
              "outlinewidth": 0,
              "ticks": ""
             }
            },
            "marker": {
             "colorbar": {
              "outlinewidth": 0,
              "ticks": ""
             }
            },
            "type": "scatter3d"
           }
          ],
          "scattercarpet": [
           {
            "marker": {
             "colorbar": {
              "outlinewidth": 0,
              "ticks": ""
             }
            },
            "type": "scattercarpet"
           }
          ],
          "scattergeo": [
           {
            "marker": {
             "colorbar": {
              "outlinewidth": 0,
              "ticks": ""
             }
            },
            "type": "scattergeo"
           }
          ],
          "scattergl": [
           {
            "marker": {
             "colorbar": {
              "outlinewidth": 0,
              "ticks": ""
             }
            },
            "type": "scattergl"
           }
          ],
          "scattermapbox": [
           {
            "marker": {
             "colorbar": {
              "outlinewidth": 0,
              "ticks": ""
             }
            },
            "type": "scattermapbox"
           }
          ],
          "scatterpolar": [
           {
            "marker": {
             "colorbar": {
              "outlinewidth": 0,
              "ticks": ""
             }
            },
            "type": "scatterpolar"
           }
          ],
          "scatterpolargl": [
           {
            "marker": {
             "colorbar": {
              "outlinewidth": 0,
              "ticks": ""
             }
            },
            "type": "scatterpolargl"
           }
          ],
          "scatterternary": [
           {
            "marker": {
             "colorbar": {
              "outlinewidth": 0,
              "ticks": ""
             }
            },
            "type": "scatterternary"
           }
          ],
          "surface": [
           {
            "colorbar": {
             "outlinewidth": 0,
             "ticks": ""
            },
            "colorscale": [
             [
              0,
              "#0d0887"
             ],
             [
              0.1111111111111111,
              "#46039f"
             ],
             [
              0.2222222222222222,
              "#7201a8"
             ],
             [
              0.3333333333333333,
              "#9c179e"
             ],
             [
              0.4444444444444444,
              "#bd3786"
             ],
             [
              0.5555555555555556,
              "#d8576b"
             ],
             [
              0.6666666666666666,
              "#ed7953"
             ],
             [
              0.7777777777777778,
              "#fb9f3a"
             ],
             [
              0.8888888888888888,
              "#fdca26"
             ],
             [
              1,
              "#f0f921"
             ]
            ],
            "type": "surface"
           }
          ],
          "table": [
           {
            "cells": {
             "fill": {
              "color": "#EBF0F8"
             },
             "line": {
              "color": "white"
             }
            },
            "header": {
             "fill": {
              "color": "#C8D4E3"
             },
             "line": {
              "color": "white"
             }
            },
            "type": "table"
           }
          ]
         },
         "layout": {
          "annotationdefaults": {
           "arrowcolor": "#2a3f5f",
           "arrowhead": 0,
           "arrowwidth": 1
          },
          "autotypenumbers": "strict",
          "coloraxis": {
           "colorbar": {
            "outlinewidth": 0,
            "ticks": ""
           }
          },
          "colorscale": {
           "diverging": [
            [
             0,
             "#8e0152"
            ],
            [
             0.1,
             "#c51b7d"
            ],
            [
             0.2,
             "#de77ae"
            ],
            [
             0.3,
             "#f1b6da"
            ],
            [
             0.4,
             "#fde0ef"
            ],
            [
             0.5,
             "#f7f7f7"
            ],
            [
             0.6,
             "#e6f5d0"
            ],
            [
             0.7,
             "#b8e186"
            ],
            [
             0.8,
             "#7fbc41"
            ],
            [
             0.9,
             "#4d9221"
            ],
            [
             1,
             "#276419"
            ]
           ],
           "sequential": [
            [
             0,
             "#0d0887"
            ],
            [
             0.1111111111111111,
             "#46039f"
            ],
            [
             0.2222222222222222,
             "#7201a8"
            ],
            [
             0.3333333333333333,
             "#9c179e"
            ],
            [
             0.4444444444444444,
             "#bd3786"
            ],
            [
             0.5555555555555556,
             "#d8576b"
            ],
            [
             0.6666666666666666,
             "#ed7953"
            ],
            [
             0.7777777777777778,
             "#fb9f3a"
            ],
            [
             0.8888888888888888,
             "#fdca26"
            ],
            [
             1,
             "#f0f921"
            ]
           ],
           "sequentialminus": [
            [
             0,
             "#0d0887"
            ],
            [
             0.1111111111111111,
             "#46039f"
            ],
            [
             0.2222222222222222,
             "#7201a8"
            ],
            [
             0.3333333333333333,
             "#9c179e"
            ],
            [
             0.4444444444444444,
             "#bd3786"
            ],
            [
             0.5555555555555556,
             "#d8576b"
            ],
            [
             0.6666666666666666,
             "#ed7953"
            ],
            [
             0.7777777777777778,
             "#fb9f3a"
            ],
            [
             0.8888888888888888,
             "#fdca26"
            ],
            [
             1,
             "#f0f921"
            ]
           ]
          },
          "colorway": [
           "#636efa",
           "#EF553B",
           "#00cc96",
           "#ab63fa",
           "#FFA15A",
           "#19d3f3",
           "#FF6692",
           "#B6E880",
           "#FF97FF",
           "#FECB52"
          ],
          "font": {
           "color": "#2a3f5f"
          },
          "geo": {
           "bgcolor": "white",
           "lakecolor": "white",
           "landcolor": "white",
           "showlakes": true,
           "showland": true,
           "subunitcolor": "#C8D4E3"
          },
          "hoverlabel": {
           "align": "left"
          },
          "hovermode": "closest",
          "mapbox": {
           "style": "light"
          },
          "paper_bgcolor": "white",
          "plot_bgcolor": "white",
          "polar": {
           "angularaxis": {
            "gridcolor": "#EBF0F8",
            "linecolor": "#EBF0F8",
            "ticks": ""
           },
           "bgcolor": "white",
           "radialaxis": {
            "gridcolor": "#EBF0F8",
            "linecolor": "#EBF0F8",
            "ticks": ""
           }
          },
          "scene": {
           "xaxis": {
            "backgroundcolor": "white",
            "gridcolor": "#DFE8F3",
            "gridwidth": 2,
            "linecolor": "#EBF0F8",
            "showbackground": true,
            "ticks": "",
            "zerolinecolor": "#EBF0F8"
           },
           "yaxis": {
            "backgroundcolor": "white",
            "gridcolor": "#DFE8F3",
            "gridwidth": 2,
            "linecolor": "#EBF0F8",
            "showbackground": true,
            "ticks": "",
            "zerolinecolor": "#EBF0F8"
           },
           "zaxis": {
            "backgroundcolor": "white",
            "gridcolor": "#DFE8F3",
            "gridwidth": 2,
            "linecolor": "#EBF0F8",
            "showbackground": true,
            "ticks": "",
            "zerolinecolor": "#EBF0F8"
           }
          },
          "shapedefaults": {
           "line": {
            "color": "#2a3f5f"
           }
          },
          "ternary": {
           "aaxis": {
            "gridcolor": "#DFE8F3",
            "linecolor": "#A2B1C6",
            "ticks": ""
           },
           "baxis": {
            "gridcolor": "#DFE8F3",
            "linecolor": "#A2B1C6",
            "ticks": ""
           },
           "bgcolor": "white",
           "caxis": {
            "gridcolor": "#DFE8F3",
            "linecolor": "#A2B1C6",
            "ticks": ""
           }
          },
          "title": {
           "x": 0.05
          },
          "xaxis": {
           "automargin": true,
           "gridcolor": "#EBF0F8",
           "linecolor": "#EBF0F8",
           "ticks": "",
           "title": {
            "standoff": 15
           },
           "zerolinecolor": "#EBF0F8",
           "zerolinewidth": 2
          },
          "yaxis": {
           "automargin": true,
           "gridcolor": "#EBF0F8",
           "linecolor": "#EBF0F8",
           "ticks": "",
           "title": {
            "standoff": 15
           },
           "zerolinecolor": "#EBF0F8",
           "zerolinewidth": 2
          }
         }
        },
        "width": 1200,
        "xaxis": {
         "anchor": "y",
         "autorange": true,
         "domain": [
          0,
          0.45
         ],
         "range": [
          0.6564138413142258,
          5.343586158685774
         ],
         "tickfont": {
          "family": "Arial",
          "size": 15
         },
         "tickmode": "array",
         "ticktext": [
          "530",
          "2564",
          "5196",
          "25957",
          "51925"
         ],
         "tickvals": [
          1,
          2,
          3,
          4,
          5
         ],
         "title": {
          "font": {
           "family": "Arial",
           "size": 15
          },
          "text": "Training_dataset_size"
         },
         "type": "linear"
        },
        "xaxis2": {
         "anchor": "y2",
         "autorange": true,
         "domain": [
          0.55,
          1
         ],
         "range": [
          0.6564138413142258,
          5.343586158685774
         ],
         "tickfont": {
          "family": "Arial",
          "size": 15
         },
         "tickmode": "array",
         "ticktext": [
          "250",
          "1250",
          "2500",
          "12500",
          "25000"
         ],
         "tickvals": [
          1,
          2,
          3,
          4,
          5
         ],
         "title": {
          "font": {
           "family": "Arial",
           "size": 15
          },
          "text": "Test_dataset_size"
         },
         "type": "linear"
        },
        "yaxis": {
         "anchor": "x",
         "domain": [
          0,
          1
         ],
         "range": [
          0.4,
          1
         ],
         "tickfont": {
          "family": "Arial",
          "size": 15
         },
         "title": {
          "font": {
           "family": "Arial",
           "size": 15
          },
          "text": "Classification_accuracy"
         },
         "type": "linear"
        },
        "yaxis2": {
         "anchor": "x2",
         "domain": [
          0,
          1
         ],
         "matches": "y",
         "showticklabels": false,
         "type": "linear"
        }
       }
      },
      "image/png": "[encoded data removed]",
      "text/html": [
       "<div>                            <div id=\"a7a54323-3a89-41e3-b87c-8eacff8fb9a7\" class=\"plotly-graph-div\" style=\"height:600px; width:1200px;\"></div>            <script type=\"text/javascript\">                require([\"plotly\"], function(Plotly) {                    window.PLOTLYENV=window.PLOTLYENV || {};                                    if (document.getElementById(\"a7a54323-3a89-41e3-b87c-8eacff8fb9a7\")) {                    Plotly.newPlot(                        \"a7a54323-3a89-41e3-b87c-8eacff8fb9a7\",                        [{\"line\": {\"color\": \"royalblue\", \"dash\": \"dash\", \"width\": 2}, \"marker\": {\"color\": \"royalblue\", \"size\": 15, \"symbol\": \"diamond-open-dot\"}, \"mode\": \"lines+markers+text\", \"name\": \"Interactive DT\", \"text\": [\"0.743\", \"0.693\", \"0.774\", \"0.841\", \"0.816\"], \"textfont\": {\"family\": \"Arial\", \"size\": 15}, \"textposition\": \"bottom center\", \"texttemplate\": \"%{text:.3f}\", \"type\": \"scatter\", \"x\": [1, 2, 3, 4, 5], \"xaxis\": \"x\", \"y\": [0.743, 0.693, 0.774, 0.841, 0.816], \"yaxis\": \"y\"}, {\"line\": {\"color\": \"firebrick\", \"dash\": \"dash\", \"width\": 2}, \"marker\": {\"color\": \"firebrick\", \"size\": 15, \"symbol\": \"diamond-open-dot\"}, \"mode\": \"lines+markers+text\", \"name\": \"Statistically Optimal Tree\", \"text\": [\"0.894\", \"0.867\", \"0.872\", \"0.866\", \"0.866\"], \"textfont\": {\"family\": \"Arial\", \"size\": 15}, \"textposition\": \"top center\", \"texttemplate\": \"%{text:.3f}\", \"type\": \"scatter\", \"x\": [1, 2, 3, 4, 5], \"xaxis\": \"x\", \"y\": [0.894, 0.867, 0.872, 0.866, 0.866], \"yaxis\": \"y\"}, {\"line\": {\"color\": \"royalblue\", \"dash\": \"dash\", \"width\": 2}, \"marker\": {\"color\": \"royalblue\", \"size\": 15, \"symbol\": \"diamond-open-dot\"}, \"mode\": \"lines+markers+text\", \"name\": \"Interactive DT - Test set\", \"showlegend\": false, \"text\": [\"0.652\", \"0.706\", \"0.642\", \"0.625\", \"0.62\"], \"textfont\": {\"family\": \"Arial\", \"size\": 15}, \"textposition\": \"top center\", \"texttemplate\": \"%{text:.3f}\", \"type\": \"scatter\", \"x\": [1, 2, 3, 4, 5], \"xaxis\": \"x2\", \"y\": [0.652, 0.706, 0.642, 0.625, 0.62], \"yaxis\": \"y2\"}, {\"line\": {\"color\": \"firebrick\", \"dash\": \"dash\", \"width\": 2}, \"marker\": {\"color\": \"firebrick\", \"size\": 15, \"symbol\": \"diamond-open-dot\"}, \"mode\": \"lines+markers+text\", \"name\": \"Stat. Opt. Tree - Test set\", \"showlegend\": false, \"text\": [\"0.584\", \"0.578\", \"0.576\", \"0.594\", \"0.596\"], \"textfont\": {\"family\": \"Arial\", \"size\": 15}, \"textposition\": \"bottom center\", \"texttemplate\": \"%{text:.3f}\", \"type\": \"scatter\", \"x\": [1, 2, 3, 4, 5], \"xaxis\": \"x2\", \"y\": [0.584, 0.578, 0.576, 0.594, 0.596], \"yaxis\": \"y2\"}],                        {\"autosize\": false, \"height\": 600, \"legend\": {\"font\": {\"family\": \"Arial\", \"size\": 15}, \"orientation\": \"v\"}, \"margin\": {\"b\": 20, \"l\": 20, \"pad\": 4, \"r\": 20, \"t\": 20}, \"template\": {\"data\": {\"bar\": [{\"error_x\": {\"color\": \"#2a3f5f\"}, \"error_y\": {\"color\": \"#2a3f5f\"}, \"marker\": {\"line\": {\"color\": \"white\", \"width\": 0.5}}, \"type\": \"bar\"}], \"barpolar\": [{\"marker\": {\"line\": {\"color\": \"white\", \"width\": 0.5}}, \"type\": \"barpolar\"}], \"carpet\": [{\"aaxis\": {\"endlinecolor\": \"#2a3f5f\", \"gridcolor\": \"#C8D4E3\", \"linecolor\": \"#C8D4E3\", \"minorgridcolor\": \"#C8D4E3\", \"startlinecolor\": \"#2a3f5f\"}, \"baxis\": {\"endlinecolor\": \"#2a3f5f\", \"gridcolor\": \"#C8D4E3\", \"linecolor\": \"#C8D4E3\", \"minorgridcolor\": \"#C8D4E3\", \"startlinecolor\": \"#2a3f5f\"}, \"type\": \"carpet\"}], \"choropleth\": [{\"colorbar\": {\"outlinewidth\": 0, \"ticks\": \"\"}, \"type\": \"choropleth\"}], \"contour\": [{\"colorbar\": {\"outlinewidth\": 0, \"ticks\": \"\"}, \"colorscale\": [[0.0, \"#0d0887\"], [0.1111111111111111, \"#46039f\"], [0.2222222222222222, \"#7201a8\"], [0.3333333333333333, \"#9c179e\"], [0.4444444444444444, \"#bd3786\"], [0.5555555555555556, \"#d8576b\"], [0.6666666666666666, \"#ed7953\"], [0.7777777777777778, \"#fb9f3a\"], [0.8888888888888888, \"#fdca26\"], [1.0, \"#f0f921\"]], \"type\": \"contour\"}], \"contourcarpet\": [{\"colorbar\": {\"outlinewidth\": 0, \"ticks\": \"\"}, \"type\": \"contourcarpet\"}], \"heatmap\": [{\"colorbar\": {\"outlinewidth\": 0, \"ticks\": \"\"}, \"colorscale\": [[0.0, \"#0d0887\"], [0.1111111111111111, \"#46039f\"], [0.2222222222222222, \"#7201a8\"], [0.3333333333333333, \"#9c179e\"], [0.4444444444444444, \"#bd3786\"], [0.5555555555555556, \"#d8576b\"], [0.6666666666666666, \"#ed7953\"], [0.7777777777777778, \"#fb9f3a\"], [0.8888888888888888, \"#fdca26\"], [1.0, \"#f0f921\"]], \"type\": \"heatmap\"}], \"heatmapgl\": [{\"colorbar\": {\"outlinewidth\": 0, \"ticks\": \"\"}, \"colorscale\": [[0.0, \"#0d0887\"], [0.1111111111111111, \"#46039f\"], [0.2222222222222222, \"#7201a8\"], [0.3333333333333333, \"#9c179e\"], [0.4444444444444444, \"#bd3786\"], [0.5555555555555556, \"#d8576b\"], [0.6666666666666666, \"#ed7953\"], [0.7777777777777778, \"#fb9f3a\"], [0.8888888888888888, \"#fdca26\"], [1.0, \"#f0f921\"]], \"type\": \"heatmapgl\"}], \"histogram\": [{\"marker\": {\"colorbar\": {\"outlinewidth\": 0, \"ticks\": \"\"}}, \"type\": \"histogram\"}], \"histogram2d\": [{\"colorbar\": {\"outlinewidth\": 0, \"ticks\": \"\"}, \"colorscale\": [[0.0, \"#0d0887\"], [0.1111111111111111, \"#46039f\"], [0.2222222222222222, \"#7201a8\"], [0.3333333333333333, \"#9c179e\"], [0.4444444444444444, \"#bd3786\"], [0.5555555555555556, \"#d8576b\"], [0.6666666666666666, \"#ed7953\"], [0.7777777777777778, \"#fb9f3a\"], [0.8888888888888888, \"#fdca26\"], [1.0, \"#f0f921\"]], \"type\": \"histogram2d\"}], \"histogram2dcontour\": [{\"colorbar\": {\"outlinewidth\": 0, \"ticks\": \"\"}, \"colorscale\": [[0.0, \"#0d0887\"], [0.1111111111111111, \"#46039f\"], [0.2222222222222222, \"#7201a8\"], [0.3333333333333333, \"#9c179e\"], [0.4444444444444444, \"#bd3786\"], [0.5555555555555556, \"#d8576b\"], [0.6666666666666666, \"#ed7953\"], [0.7777777777777778, \"#fb9f3a\"], [0.8888888888888888, \"#fdca26\"], [1.0, \"#f0f921\"]], \"type\": \"histogram2dcontour\"}], \"mesh3d\": [{\"colorbar\": {\"outlinewidth\": 0, \"ticks\": \"\"}, \"type\": \"mesh3d\"}], \"parcoords\": [{\"line\": {\"colorbar\": {\"outlinewidth\": 0, \"ticks\": \"\"}}, \"type\": \"parcoords\"}], \"pie\": [{\"automargin\": true, \"type\": \"pie\"}], \"scatter\": [{\"marker\": {\"colorbar\": {\"outlinewidth\": 0, \"ticks\": \"\"}}, \"type\": \"scatter\"}], \"scatter3d\": [{\"line\": {\"colorbar\": {\"outlinewidth\": 0, \"ticks\": \"\"}}, \"marker\": {\"colorbar\": {\"outlinewidth\": 0, \"ticks\": \"\"}}, \"type\": \"scatter3d\"}], \"scattercarpet\": [{\"marker\": {\"colorbar\": {\"outlinewidth\": 0, \"ticks\": \"\"}}, \"type\": \"scattercarpet\"}], \"scattergeo\": [{\"marker\": {\"colorbar\": {\"outlinewidth\": 0, \"ticks\": \"\"}}, \"type\": \"scattergeo\"}], \"scattergl\": [{\"marker\": {\"colorbar\": {\"outlinewidth\": 0, \"ticks\": \"\"}}, \"type\": \"scattergl\"}], \"scattermapbox\": [{\"marker\": {\"colorbar\": {\"outlinewidth\": 0, \"ticks\": \"\"}}, \"type\": \"scattermapbox\"}], \"scatterpolar\": [{\"marker\": {\"colorbar\": {\"outlinewidth\": 0, \"ticks\": \"\"}}, \"type\": \"scatterpolar\"}], \"scatterpolargl\": [{\"marker\": {\"colorbar\": {\"outlinewidth\": 0, \"ticks\": \"\"}}, \"type\": \"scatterpolargl\"}], \"scatterternary\": [{\"marker\": {\"colorbar\": {\"outlinewidth\": 0, \"ticks\": \"\"}}, \"type\": \"scatterternary\"}], \"surface\": [{\"colorbar\": {\"outlinewidth\": 0, \"ticks\": \"\"}, \"colorscale\": [[0.0, \"#0d0887\"], [0.1111111111111111, \"#46039f\"], [0.2222222222222222, \"#7201a8\"], [0.3333333333333333, \"#9c179e\"], [0.4444444444444444, \"#bd3786\"], [0.5555555555555556, \"#d8576b\"], [0.6666666666666666, \"#ed7953\"], [0.7777777777777778, \"#fb9f3a\"], [0.8888888888888888, \"#fdca26\"], [1.0, \"#f0f921\"]], \"type\": \"surface\"}], \"table\": [{\"cells\": {\"fill\": {\"color\": \"#EBF0F8\"}, \"line\": {\"color\": \"white\"}}, \"header\": {\"fill\": {\"color\": \"#C8D4E3\"}, \"line\": {\"color\": \"white\"}}, \"type\": \"table\"}]}, \"layout\": {\"annotationdefaults\": {\"arrowcolor\": \"#2a3f5f\", \"arrowhead\": 0, \"arrowwidth\": 1}, \"autotypenumbers\": \"strict\", \"coloraxis\": {\"colorbar\": {\"outlinewidth\": 0, \"ticks\": \"\"}}, \"colorscale\": {\"diverging\": [[0, \"#8e0152\"], [0.1, \"#c51b7d\"], [0.2, \"#de77ae\"], [0.3, \"#f1b6da\"], [0.4, \"#fde0ef\"], [0.5, \"#f7f7f7\"], [0.6, \"#e6f5d0\"], [0.7, \"#b8e186\"], [0.8, \"#7fbc41\"], [0.9, \"#4d9221\"], [1, \"#276419\"]], \"sequential\": [[0.0, \"#0d0887\"], [0.1111111111111111, \"#46039f\"], [0.2222222222222222, \"#7201a8\"], [0.3333333333333333, \"#9c179e\"], [0.4444444444444444, \"#bd3786\"], [0.5555555555555556, \"#d8576b\"], [0.6666666666666666, \"#ed7953\"], [0.7777777777777778, \"#fb9f3a\"], [0.8888888888888888, \"#fdca26\"], [1.0, \"#f0f921\"]], \"sequentialminus\": [[0.0, \"#0d0887\"], [0.1111111111111111, \"#46039f\"], [0.2222222222222222, \"#7201a8\"], [0.3333333333333333, \"#9c179e\"], [0.4444444444444444, \"#bd3786\"], [0.5555555555555556, \"#d8576b\"], [0.6666666666666666, \"#ed7953\"], [0.7777777777777778, \"#fb9f3a\"], [0.8888888888888888, \"#fdca26\"], [1.0, \"#f0f921\"]]}, \"colorway\": [\"#636efa\", \"#EF553B\", \"#00cc96\", \"#ab63fa\", \"#FFA15A\", \"#19d3f3\", \"#FF6692\", \"#B6E880\", \"#FF97FF\", \"#FECB52\"], \"font\": {\"color\": \"#2a3f5f\"}, \"geo\": {\"bgcolor\": \"white\", \"lakecolor\": \"white\", \"landcolor\": \"white\", \"showlakes\": true, \"showland\": true, \"subunitcolor\": \"#C8D4E3\"}, \"hoverlabel\": {\"align\": \"left\"}, \"hovermode\": \"closest\", \"mapbox\": {\"style\": \"light\"}, \"paper_bgcolor\": \"white\", \"plot_bgcolor\": \"white\", \"polar\": {\"angularaxis\": {\"gridcolor\": \"#EBF0F8\", \"linecolor\": \"#EBF0F8\", \"ticks\": \"\"}, \"bgcolor\": \"white\", \"radialaxis\": {\"gridcolor\": \"#EBF0F8\", \"linecolor\": \"#EBF0F8\", \"ticks\": \"\"}}, \"scene\": {\"xaxis\": {\"backgroundcolor\": \"white\", \"gridcolor\": \"#DFE8F3\", \"gridwidth\": 2, \"linecolor\": \"#EBF0F8\", \"showbackground\": true, \"ticks\": \"\", \"zerolinecolor\": \"#EBF0F8\"}, \"yaxis\": {\"backgroundcolor\": \"white\", \"gridcolor\": \"#DFE8F3\", \"gridwidth\": 2, \"linecolor\": \"#EBF0F8\", \"showbackground\": true, \"ticks\": \"\", \"zerolinecolor\": \"#EBF0F8\"}, \"zaxis\": {\"backgroundcolor\": \"white\", \"gridcolor\": \"#DFE8F3\", \"gridwidth\": 2, \"linecolor\": \"#EBF0F8\", \"showbackground\": true, \"ticks\": \"\", \"zerolinecolor\": \"#EBF0F8\"}}, \"shapedefaults\": {\"line\": {\"color\": \"#2a3f5f\"}}, \"ternary\": {\"aaxis\": {\"gridcolor\": \"#DFE8F3\", \"linecolor\": \"#A2B1C6\", \"ticks\": \"\"}, \"baxis\": {\"gridcolor\": \"#DFE8F3\", \"linecolor\": \"#A2B1C6\", \"ticks\": \"\"}, \"bgcolor\": \"white\", \"caxis\": {\"gridcolor\": \"#DFE8F3\", \"linecolor\": \"#A2B1C6\", \"ticks\": \"\"}}, \"title\": {\"x\": 0.05}, \"xaxis\": {\"automargin\": true, \"gridcolor\": \"#EBF0F8\", \"linecolor\": \"#EBF0F8\", \"ticks\": \"\", \"title\": {\"standoff\": 15}, \"zerolinecolor\": \"#EBF0F8\", \"zerolinewidth\": 2}, \"yaxis\": {\"automargin\": true, \"gridcolor\": \"#EBF0F8\", \"linecolor\": \"#EBF0F8\", \"ticks\": \"\", \"title\": {\"standoff\": 15}, \"zerolinecolor\": \"#EBF0F8\", \"zerolinewidth\": 2}}}, \"width\": 1200, \"xaxis\": {\"anchor\": \"y\", \"domain\": [0.0, 0.45], \"tickfont\": {\"family\": \"Arial\", \"size\": 15}, \"tickmode\": \"array\", \"ticktext\": [\"530\", \"2564\", \"5196\", \"25957\", \"51925\"], \"tickvals\": [1, 2, 3, 4, 5], \"title\": {\"font\": {\"family\": \"Arial\", \"size\": 15}, \"text\": \"Training_dataset_size\"}}, \"xaxis2\": {\"anchor\": \"y2\", \"domain\": [0.55, 1.0], \"tickfont\": {\"family\": \"Arial\", \"size\": 15}, \"tickmode\": \"array\", \"ticktext\": [\"250\", \"1250\", \"2500\", \"12500\", \"25000\"], \"tickvals\": [1, 2, 3, 4, 5], \"title\": {\"font\": {\"family\": \"Arial\", \"size\": 15}, \"text\": \"Test_dataset_size\"}}, \"yaxis\": {\"anchor\": \"x\", \"domain\": [0.0, 1.0], \"range\": [0.4, 1], \"tickfont\": {\"family\": \"Arial\", \"size\": 15}, \"title\": {\"font\": {\"family\": \"Arial\", \"size\": 15}, \"text\": \"Classification_accuracy\"}}, \"yaxis2\": {\"anchor\": \"x2\", \"domain\": [0.0, 1.0], \"matches\": \"y\", \"showticklabels\": false}},                        {\"responsive\": true}                    ).then(function(){\n",
       "                            \n",
       "var gd = document.getElementById('a7a54323-3a89-41e3-b87c-8eacff8fb9a7');\n",
       "var x = new MutationObserver(function (mutations, observer) {{\n",
       "        var display = window.getComputedStyle(gd).display;\n",
       "        if (!display || display === 'none') {{\n",
       "            console.log([gd, 'removed!']);\n",
       "            Plotly.purge(gd);\n",
       "            observer.disconnect();\n",
       "        }}\n",
       "}});\n",
       "\n",
       "// Listen for the removal of the full notebook cells\n",
       "var notebookContainer = gd.closest('#notebook-container');\n",
       "if (notebookContainer) {{\n",
       "    x.observe(notebookContainer, {childList: true});\n",
       "}}\n",
       "\n",
       "// Listen for the clearing of the current output cell\n",
       "var outputEl = gd.closest('.output');\n",
       "if (outputEl) {{\n",
       "    x.observe(outputEl, {childList: true});\n",
       "}}\n",
       "\n",
       "                        })                };                });            </script>        </div>"
      ]
     },
     "metadata": {},
     "output_type": "display_data"
    }
   ],
   "source": [
    "#Create a figure with one row and 2 columns to plot the line charts for the train and test set\n",
    "Acc_fig = make_subplots(rows=1, cols=2, shared_yaxes=True)\n",
    "\n",
    "#Store some info about the formatting of the graphs in variables\n",
    "line_width = 2\n",
    "textfont_size = 15\n",
    "marker_size = 15\n",
    "plot_width = 1200 \n",
    "plot_height = 600\n",
    "legend_fontsize = 15\n",
    "axis_font_and_tick_size = 15\n",
    "\n",
    "Acc_fig.append_trace(go.Scatter(x=data_acc['Tick_labels'], y=data_acc['iDT_train'], \n",
    "                                mode='lines+markers+text',\n",
    "                                line = dict(color='royalblue', width=line_width, dash='dash'),\n",
    "                                marker_symbol='diamond-open-dot',\n",
    "                                name='Interactive DT',   \n",
    "                                text=data_acc['iDT_train'],\n",
    "                                textposition='bottom center',\n",
    "                                textfont={'family':'Arial', 'size':textfont_size},\n",
    "                                texttemplate='%{text:.3f}',\n",
    "                                marker=dict(color='royalblue', size=marker_size)), row=1, col=1)\n",
    "\n",
    "Acc_fig.append_trace(go.Scatter(x=data_acc['Tick_labels'], y=data_acc['Stat_Optimal_Trees_train'],\n",
    "                                mode='lines+markers+text',\n",
    "                                line = dict(color='firebrick', width=line_width, dash='dash'),\n",
    "                                marker_symbol='diamond-open-dot',\n",
    "                                name='Statistically Optimal Tree', \n",
    "                                text=data_acc['Stat_Optimal_Trees_train'],\n",
    "                                textposition='top center', \n",
    "                                textfont={'family':'Arial', 'size':textfont_size},\n",
    "                                texttemplate='%{text:.3f}',\n",
    "                                marker=dict(color='firebrick', size=marker_size)), row=1, col=1)\n",
    "\n",
    "Acc_fig.append_trace(go.Scatter(x=data_acc['Tick_labels'], y=data_acc['iDT_test'],\n",
    "                                mode='lines+markers+text',\n",
    "                                line = dict(color='royalblue', width=line_width, dash='dash'),\n",
    "                                marker_symbol='diamond-open-dot',\n",
    "                                name='Interactive DT - Test set',\n",
    "                                text=data_acc['iDT_test'],\n",
    "                                textposition='top center',\n",
    "                                textfont={'family':'Arial', 'size':textfont_size},\n",
    "                                texttemplate='%{text:.3f}',\n",
    "                                showlegend=False,\n",
    "                                marker=dict(color='royalblue', size=marker_size)), row=1, col=2)\n",
    "\n",
    "Acc_fig.append_trace(go.Scatter(x=data_acc['Tick_labels'], y=data_acc['Stat_Optimal_Trees_test'],\n",
    "                                mode='lines+markers+text',\n",
    "                                line = dict(color='firebrick', width=line_width, dash='dash'),\n",
    "                                marker_symbol='diamond-open-dot',\n",
    "                                name='Stat. Opt. Tree - Test set',\n",
    "                                text=data_acc['Stat_Optimal_Trees_test'],\n",
    "                                textposition='bottom center', \n",
    "                                textfont={'family':'Arial', 'size':textfont_size},\n",
    "                                texttemplate='%{text:.3f}',\n",
    "                                showlegend=False,\n",
    "                                marker=dict(color='firebrick', size=marker_size)), row=1, col=2)\n",
    "\n",
    "\n",
    "Acc_fig.update_layout(autosize=False, width=plot_width, height=plot_height,\n",
    "                      legend = dict(font={'family':'Arial', 'size':legend_fontsize}, orientation='v'),\n",
    "                      margin = go.layout.Margin(l=20,r=20,b=20,t=20,pad = 4), template='plotly_white')\n",
    "\n",
    "Acc_fig.update_xaxes(title_text='Training_dataset_size', tickmode = 'array', tickvals=[1,2,3,4,5], ticktext=['530', '2564', '5196', '25957', '51925'],\n",
    "                     titlefont={'family':'Arial','size':axis_font_and_tick_size}, tickfont={'family':'Arial', 'size':axis_font_and_tick_size}, row=1, col=1),\n",
    "Acc_fig.update_xaxes(title_text='Test_dataset_size', tickmode = 'array', tickvals=[1,2,3,4,5], ticktext=['250', '1250', '2500', '12500', '25000'],\n",
    "                     titlefont={'family':'Arial','size':axis_font_and_tick_size}, tickfont={'family':'Arial','size':axis_font_and_tick_size}, row=1, col=2)\n",
    "\n",
    "Acc_fig.update_yaxes(title_text='Classification_accuracy', titlefont={'family':'Arial', 'size':axis_font_and_tick_size}, tickfont={'family':'Arial', 'size':axis_font_and_tick_size}, range=[0.4, 1], row=1, col=1)"
   ]
  },
  {
   "cell_type": "markdown",
   "metadata": {},
   "source": [
    "We can show how the 4 classes are represented in each dataset (training and test for the various samples) in a colored bar and by assigning what percentage each class corresponds to the overall dataset"
   ]
  },
  {
   "cell_type": "markdown",
   "metadata": {},
   "source": [
    "- Classes Representation - Training Set:"
   ]
  },
  {
   "cell_type": "code",
   "execution_count": 18,
   "metadata": {},
   "outputs": [
    {
     "data": {
      "application/vnd.plotly.v1+json": {
       "config": {
        "plotlyServerURL": "https://plot.ly"
       },
       "data": [
        {
         "marker": {
          "color": "blue"
         },
         "name": "C1",
         "opacity": 1,
         "text": "22.0%",
         "textfont": {
          "family": "Arial",
          "size": 20
         },
         "textposition": "auto",
         "type": "bar",
         "x": [
          1
         ],
         "y": [
          561
         ]
        },
        {
         "marker": {
          "color": "#288638"
         },
         "name": "C2",
         "opacity": 1,
         "text": "2.0%",
         "textfont": {
          "family": "Arial",
          "size": 20
         },
         "textposition": "auto",
         "type": "bar",
         "x": [
          1
         ],
         "y": [
          40
         ]
        },
        {
         "marker": {
          "color": "#ffff80"
         },
         "name": "C3",
         "opacity": 1,
         "text": "41.0%",
         "textfont": {
          "family": "Arial",
          "size": 20
         },
         "textposition": "auto",
         "type": "bar",
         "x": [
          1
         ],
         "y": [
          1055
         ]
        },
        {
         "marker": {
          "color": "#ae5700"
         },
         "name": "C4",
         "opacity": 1,
         "text": "35.0%",
         "textfont": {
          "family": "Arial",
          "size": 20
         },
         "textposition": "auto",
         "type": "bar",
         "x": [
          1
         ],
         "y": [
          908
         ]
        }
       ],
       "layout": {
        "autosize": false,
        "barmode": "stack",
        "height": 800,
        "legend": {
         "font": {
          "family": "Arial",
          "size": 20
         },
         "orientation": "v"
        },
        "margin": {
         "b": 20,
         "l": 20,
         "pad": 4,
         "r": 20,
         "t": 20
        },
        "template": {
         "data": {
          "bar": [
           {
            "error_x": {
             "color": "#2a3f5f"
            },
            "error_y": {
             "color": "#2a3f5f"
            },
            "marker": {
             "line": {
              "color": "white",
              "width": 0.5
             }
            },
            "type": "bar"
           }
          ],
          "barpolar": [
           {
            "marker": {
             "line": {
              "color": "white",
              "width": 0.5
             }
            },
            "type": "barpolar"
           }
          ],
          "carpet": [
           {
            "aaxis": {
             "endlinecolor": "#2a3f5f",
             "gridcolor": "#C8D4E3",
             "linecolor": "#C8D4E3",
             "minorgridcolor": "#C8D4E3",
             "startlinecolor": "#2a3f5f"
            },
            "baxis": {
             "endlinecolor": "#2a3f5f",
             "gridcolor": "#C8D4E3",
             "linecolor": "#C8D4E3",
             "minorgridcolor": "#C8D4E3",
             "startlinecolor": "#2a3f5f"
            },
            "type": "carpet"
           }
          ],
          "choropleth": [
           {
            "colorbar": {
             "outlinewidth": 0,
             "ticks": ""
            },
            "type": "choropleth"
           }
          ],
          "contour": [
           {
            "colorbar": {
             "outlinewidth": 0,
             "ticks": ""
            },
            "colorscale": [
             [
              0,
              "#0d0887"
             ],
             [
              0.1111111111111111,
              "#46039f"
             ],
             [
              0.2222222222222222,
              "#7201a8"
             ],
             [
              0.3333333333333333,
              "#9c179e"
             ],
             [
              0.4444444444444444,
              "#bd3786"
             ],
             [
              0.5555555555555556,
              "#d8576b"
             ],
             [
              0.6666666666666666,
              "#ed7953"
             ],
             [
              0.7777777777777778,
              "#fb9f3a"
             ],
             [
              0.8888888888888888,
              "#fdca26"
             ],
             [
              1,
              "#f0f921"
             ]
            ],
            "type": "contour"
           }
          ],
          "contourcarpet": [
           {
            "colorbar": {
             "outlinewidth": 0,
             "ticks": ""
            },
            "type": "contourcarpet"
           }
          ],
          "heatmap": [
           {
            "colorbar": {
             "outlinewidth": 0,
             "ticks": ""
            },
            "colorscale": [
             [
              0,
              "#0d0887"
             ],
             [
              0.1111111111111111,
              "#46039f"
             ],
             [
              0.2222222222222222,
              "#7201a8"
             ],
             [
              0.3333333333333333,
              "#9c179e"
             ],
             [
              0.4444444444444444,
              "#bd3786"
             ],
             [
              0.5555555555555556,
              "#d8576b"
             ],
             [
              0.6666666666666666,
              "#ed7953"
             ],
             [
              0.7777777777777778,
              "#fb9f3a"
             ],
             [
              0.8888888888888888,
              "#fdca26"
             ],
             [
              1,
              "#f0f921"
             ]
            ],
            "type": "heatmap"
           }
          ],
          "heatmapgl": [
           {
            "colorbar": {
             "outlinewidth": 0,
             "ticks": ""
            },
            "colorscale": [
             [
              0,
              "#0d0887"
             ],
             [
              0.1111111111111111,
              "#46039f"
             ],
             [
              0.2222222222222222,
              "#7201a8"
             ],
             [
              0.3333333333333333,
              "#9c179e"
             ],
             [
              0.4444444444444444,
              "#bd3786"
             ],
             [
              0.5555555555555556,
              "#d8576b"
             ],
             [
              0.6666666666666666,
              "#ed7953"
             ],
             [
              0.7777777777777778,
              "#fb9f3a"
             ],
             [
              0.8888888888888888,
              "#fdca26"
             ],
             [
              1,
              "#f0f921"
             ]
            ],
            "type": "heatmapgl"
           }
          ],
          "histogram": [
           {
            "marker": {
             "colorbar": {
              "outlinewidth": 0,
              "ticks": ""
             }
            },
            "type": "histogram"
           }
          ],
          "histogram2d": [
           {
            "colorbar": {
             "outlinewidth": 0,
             "ticks": ""
            },
            "colorscale": [
             [
              0,
              "#0d0887"
             ],
             [
              0.1111111111111111,
              "#46039f"
             ],
             [
              0.2222222222222222,
              "#7201a8"
             ],
             [
              0.3333333333333333,
              "#9c179e"
             ],
             [
              0.4444444444444444,
              "#bd3786"
             ],
             [
              0.5555555555555556,
              "#d8576b"
             ],
             [
              0.6666666666666666,
              "#ed7953"
             ],
             [
              0.7777777777777778,
              "#fb9f3a"
             ],
             [
              0.8888888888888888,
              "#fdca26"
             ],
             [
              1,
              "#f0f921"
             ]
            ],
            "type": "histogram2d"
           }
          ],
          "histogram2dcontour": [
           {
            "colorbar": {
             "outlinewidth": 0,
             "ticks": ""
            },
            "colorscale": [
             [
              0,
              "#0d0887"
             ],
             [
              0.1111111111111111,
              "#46039f"
             ],
             [
              0.2222222222222222,
              "#7201a8"
             ],
             [
              0.3333333333333333,
              "#9c179e"
             ],
             [
              0.4444444444444444,
              "#bd3786"
             ],
             [
              0.5555555555555556,
              "#d8576b"
             ],
             [
              0.6666666666666666,
              "#ed7953"
             ],
             [
              0.7777777777777778,
              "#fb9f3a"
             ],
             [
              0.8888888888888888,
              "#fdca26"
             ],
             [
              1,
              "#f0f921"
             ]
            ],
            "type": "histogram2dcontour"
           }
          ],
          "mesh3d": [
           {
            "colorbar": {
             "outlinewidth": 0,
             "ticks": ""
            },
            "type": "mesh3d"
           }
          ],
          "parcoords": [
           {
            "line": {
             "colorbar": {
              "outlinewidth": 0,
              "ticks": ""
             }
            },
            "type": "parcoords"
           }
          ],
          "pie": [
           {
            "automargin": true,
            "type": "pie"
           }
          ],
          "scatter": [
           {
            "marker": {
             "colorbar": {
              "outlinewidth": 0,
              "ticks": ""
             }
            },
            "type": "scatter"
           }
          ],
          "scatter3d": [
           {
            "line": {
             "colorbar": {
              "outlinewidth": 0,
              "ticks": ""
             }
            },
            "marker": {
             "colorbar": {
              "outlinewidth": 0,
              "ticks": ""
             }
            },
            "type": "scatter3d"
           }
          ],
          "scattercarpet": [
           {
            "marker": {
             "colorbar": {
              "outlinewidth": 0,
              "ticks": ""
             }
            },
            "type": "scattercarpet"
           }
          ],
          "scattergeo": [
           {
            "marker": {
             "colorbar": {
              "outlinewidth": 0,
              "ticks": ""
             }
            },
            "type": "scattergeo"
           }
          ],
          "scattergl": [
           {
            "marker": {
             "colorbar": {
              "outlinewidth": 0,
              "ticks": ""
             }
            },
            "type": "scattergl"
           }
          ],
          "scattermapbox": [
           {
            "marker": {
             "colorbar": {
              "outlinewidth": 0,
              "ticks": ""
             }
            },
            "type": "scattermapbox"
           }
          ],
          "scatterpolar": [
           {
            "marker": {
             "colorbar": {
              "outlinewidth": 0,
              "ticks": ""
             }
            },
            "type": "scatterpolar"
           }
          ],
          "scatterpolargl": [
           {
            "marker": {
             "colorbar": {
              "outlinewidth": 0,
              "ticks": ""
             }
            },
            "type": "scatterpolargl"
           }
          ],
          "scatterternary": [
           {
            "marker": {
             "colorbar": {
              "outlinewidth": 0,
              "ticks": ""
             }
            },
            "type": "scatterternary"
           }
          ],
          "surface": [
           {
            "colorbar": {
             "outlinewidth": 0,
             "ticks": ""
            },
            "colorscale": [
             [
              0,
              "#0d0887"
             ],
             [
              0.1111111111111111,
              "#46039f"
             ],
             [
              0.2222222222222222,
              "#7201a8"
             ],
             [
              0.3333333333333333,
              "#9c179e"
             ],
             [
              0.4444444444444444,
              "#bd3786"
             ],
             [
              0.5555555555555556,
              "#d8576b"
             ],
             [
              0.6666666666666666,
              "#ed7953"
             ],
             [
              0.7777777777777778,
              "#fb9f3a"
             ],
             [
              0.8888888888888888,
              "#fdca26"
             ],
             [
              1,
              "#f0f921"
             ]
            ],
            "type": "surface"
           }
          ],
          "table": [
           {
            "cells": {
             "fill": {
              "color": "#EBF0F8"
             },
             "line": {
              "color": "white"
             }
            },
            "header": {
             "fill": {
              "color": "#C8D4E3"
             },
             "line": {
              "color": "white"
             }
            },
            "type": "table"
           }
          ]
         },
         "layout": {
          "annotationdefaults": {
           "arrowcolor": "#2a3f5f",
           "arrowhead": 0,
           "arrowwidth": 1
          },
          "autotypenumbers": "strict",
          "coloraxis": {
           "colorbar": {
            "outlinewidth": 0,
            "ticks": ""
           }
          },
          "colorscale": {
           "diverging": [
            [
             0,
             "#8e0152"
            ],
            [
             0.1,
             "#c51b7d"
            ],
            [
             0.2,
             "#de77ae"
            ],
            [
             0.3,
             "#f1b6da"
            ],
            [
             0.4,
             "#fde0ef"
            ],
            [
             0.5,
             "#f7f7f7"
            ],
            [
             0.6,
             "#e6f5d0"
            ],
            [
             0.7,
             "#b8e186"
            ],
            [
             0.8,
             "#7fbc41"
            ],
            [
             0.9,
             "#4d9221"
            ],
            [
             1,
             "#276419"
            ]
           ],
           "sequential": [
            [
             0,
             "#0d0887"
            ],
            [
             0.1111111111111111,
             "#46039f"
            ],
            [
             0.2222222222222222,
             "#7201a8"
            ],
            [
             0.3333333333333333,
             "#9c179e"
            ],
            [
             0.4444444444444444,
             "#bd3786"
            ],
            [
             0.5555555555555556,
             "#d8576b"
            ],
            [
             0.6666666666666666,
             "#ed7953"
            ],
            [
             0.7777777777777778,
             "#fb9f3a"
            ],
            [
             0.8888888888888888,
             "#fdca26"
            ],
            [
             1,
             "#f0f921"
            ]
           ],
           "sequentialminus": [
            [
             0,
             "#0d0887"
            ],
            [
             0.1111111111111111,
             "#46039f"
            ],
            [
             0.2222222222222222,
             "#7201a8"
            ],
            [
             0.3333333333333333,
             "#9c179e"
            ],
            [
             0.4444444444444444,
             "#bd3786"
            ],
            [
             0.5555555555555556,
             "#d8576b"
            ],
            [
             0.6666666666666666,
             "#ed7953"
            ],
            [
             0.7777777777777778,
             "#fb9f3a"
            ],
            [
             0.8888888888888888,
             "#fdca26"
            ],
            [
             1,
             "#f0f921"
            ]
           ]
          },
          "colorway": [
           "#636efa",
           "#EF553B",
           "#00cc96",
           "#ab63fa",
           "#FFA15A",
           "#19d3f3",
           "#FF6692",
           "#B6E880",
           "#FF97FF",
           "#FECB52"
          ],
          "font": {
           "color": "#2a3f5f"
          },
          "geo": {
           "bgcolor": "white",
           "lakecolor": "white",
           "landcolor": "white",
           "showlakes": true,
           "showland": true,
           "subunitcolor": "#C8D4E3"
          },
          "hoverlabel": {
           "align": "left"
          },
          "hovermode": "closest",
          "mapbox": {
           "style": "light"
          },
          "paper_bgcolor": "white",
          "plot_bgcolor": "white",
          "polar": {
           "angularaxis": {
            "gridcolor": "#EBF0F8",
            "linecolor": "#EBF0F8",
            "ticks": ""
           },
           "bgcolor": "white",
           "radialaxis": {
            "gridcolor": "#EBF0F8",
            "linecolor": "#EBF0F8",
            "ticks": ""
           }
          },
          "scene": {
           "xaxis": {
            "backgroundcolor": "white",
            "gridcolor": "#DFE8F3",
            "gridwidth": 2,
            "linecolor": "#EBF0F8",
            "showbackground": true,
            "ticks": "",
            "zerolinecolor": "#EBF0F8"
           },
           "yaxis": {
            "backgroundcolor": "white",
            "gridcolor": "#DFE8F3",
            "gridwidth": 2,
            "linecolor": "#EBF0F8",
            "showbackground": true,
            "ticks": "",
            "zerolinecolor": "#EBF0F8"
           },
           "zaxis": {
            "backgroundcolor": "white",
            "gridcolor": "#DFE8F3",
            "gridwidth": 2,
            "linecolor": "#EBF0F8",
            "showbackground": true,
            "ticks": "",
            "zerolinecolor": "#EBF0F8"
           }
          },
          "shapedefaults": {
           "line": {
            "color": "#2a3f5f"
           }
          },
          "ternary": {
           "aaxis": {
            "gridcolor": "#DFE8F3",
            "linecolor": "#A2B1C6",
            "ticks": ""
           },
           "baxis": {
            "gridcolor": "#DFE8F3",
            "linecolor": "#A2B1C6",
            "ticks": ""
           },
           "bgcolor": "white",
           "caxis": {
            "gridcolor": "#DFE8F3",
            "linecolor": "#A2B1C6",
            "ticks": ""
           }
          },
          "title": {
           "x": 0.05
          },
          "xaxis": {
           "automargin": true,
           "gridcolor": "#EBF0F8",
           "linecolor": "#EBF0F8",
           "ticks": "",
           "title": {
            "standoff": 15
           },
           "zerolinecolor": "#EBF0F8",
           "zerolinewidth": 2
          },
          "yaxis": {
           "automargin": true,
           "gridcolor": "#EBF0F8",
           "linecolor": "#EBF0F8",
           "ticks": "",
           "title": {
            "standoff": 15
           },
           "zerolinecolor": "#EBF0F8",
           "zerolinewidth": 2
          }
         }
        },
        "width": 400,
        "xaxis": {
         "autorange": true,
         "range": [
          0.5,
          1.5
         ],
         "type": "linear"
        },
        "yaxis": {
         "autorange": true,
         "range": [
          0,
          2698.9473684210525
         ],
         "type": "linear"
        }
       }
      },
      "image/png": "[encoded data removed]",
      "text/html": [
       "<div>                            <div id=\"79ba679d-9a66-4ded-a557-1a3df9ebfd24\" class=\"plotly-graph-div\" style=\"height:800px; width:400px;\"></div>            <script type=\"text/javascript\">                require([\"plotly\"], function(Plotly) {                    window.PLOTLYENV=window.PLOTLYENV || {};                                    if (document.getElementById(\"79ba679d-9a66-4ded-a557-1a3df9ebfd24\")) {                    Plotly.newPlot(                        \"79ba679d-9a66-4ded-a557-1a3df9ebfd24\",                        [{\"marker\": {\"color\": \"blue\"}, \"name\": \"C1\", \"opacity\": 1, \"text\": \"22.0%\", \"textfont\": {\"family\": \"Arial\", \"size\": 20}, \"textposition\": \"auto\", \"type\": \"bar\", \"x\": [1], \"y\": [561]}, {\"marker\": {\"color\": \"#288638\"}, \"name\": \"C2\", \"opacity\": 1, \"text\": \"2.0%\", \"textfont\": {\"family\": \"Arial\", \"size\": 20}, \"textposition\": \"auto\", \"type\": \"bar\", \"x\": [1], \"y\": [40]}, {\"marker\": {\"color\": \"#ffff80\"}, \"name\": \"C3\", \"opacity\": 1, \"text\": \"41.0%\", \"textfont\": {\"family\": \"Arial\", \"size\": 20}, \"textposition\": \"auto\", \"type\": \"bar\", \"x\": [1], \"y\": [1055]}, {\"marker\": {\"color\": \"#ae5700\"}, \"name\": \"C4\", \"opacity\": 1, \"text\": \"35.0%\", \"textfont\": {\"family\": \"Arial\", \"size\": 20}, \"textposition\": \"auto\", \"type\": \"bar\", \"x\": [1], \"y\": [908]}],                        {\"autosize\": false, \"barmode\": \"stack\", \"height\": 800, \"legend\": {\"font\": {\"family\": \"Arial\", \"size\": 20}, \"orientation\": \"v\"}, \"margin\": {\"b\": 20, \"l\": 20, \"pad\": 4, \"r\": 20, \"t\": 20}, \"template\": {\"data\": {\"bar\": [{\"error_x\": {\"color\": \"#2a3f5f\"}, \"error_y\": {\"color\": \"#2a3f5f\"}, \"marker\": {\"line\": {\"color\": \"white\", \"width\": 0.5}}, \"type\": \"bar\"}], \"barpolar\": [{\"marker\": {\"line\": {\"color\": \"white\", \"width\": 0.5}}, \"type\": \"barpolar\"}], \"carpet\": [{\"aaxis\": {\"endlinecolor\": \"#2a3f5f\", \"gridcolor\": \"#C8D4E3\", \"linecolor\": \"#C8D4E3\", \"minorgridcolor\": \"#C8D4E3\", \"startlinecolor\": \"#2a3f5f\"}, \"baxis\": {\"endlinecolor\": \"#2a3f5f\", \"gridcolor\": \"#C8D4E3\", \"linecolor\": \"#C8D4E3\", \"minorgridcolor\": \"#C8D4E3\", \"startlinecolor\": \"#2a3f5f\"}, \"type\": \"carpet\"}], \"choropleth\": [{\"colorbar\": {\"outlinewidth\": 0, \"ticks\": \"\"}, \"type\": \"choropleth\"}], \"contour\": [{\"colorbar\": {\"outlinewidth\": 0, \"ticks\": \"\"}, \"colorscale\": [[0.0, \"#0d0887\"], [0.1111111111111111, \"#46039f\"], [0.2222222222222222, \"#7201a8\"], [0.3333333333333333, \"#9c179e\"], [0.4444444444444444, \"#bd3786\"], [0.5555555555555556, \"#d8576b\"], [0.6666666666666666, \"#ed7953\"], [0.7777777777777778, \"#fb9f3a\"], [0.8888888888888888, \"#fdca26\"], [1.0, \"#f0f921\"]], \"type\": \"contour\"}], \"contourcarpet\": [{\"colorbar\": {\"outlinewidth\": 0, \"ticks\": \"\"}, \"type\": \"contourcarpet\"}], \"heatmap\": [{\"colorbar\": {\"outlinewidth\": 0, \"ticks\": \"\"}, \"colorscale\": [[0.0, \"#0d0887\"], [0.1111111111111111, \"#46039f\"], [0.2222222222222222, \"#7201a8\"], [0.3333333333333333, \"#9c179e\"], [0.4444444444444444, \"#bd3786\"], [0.5555555555555556, \"#d8576b\"], [0.6666666666666666, \"#ed7953\"], [0.7777777777777778, \"#fb9f3a\"], [0.8888888888888888, \"#fdca26\"], [1.0, \"#f0f921\"]], \"type\": \"heatmap\"}], \"heatmapgl\": [{\"colorbar\": {\"outlinewidth\": 0, \"ticks\": \"\"}, \"colorscale\": [[0.0, \"#0d0887\"], [0.1111111111111111, \"#46039f\"], [0.2222222222222222, \"#7201a8\"], [0.3333333333333333, \"#9c179e\"], [0.4444444444444444, \"#bd3786\"], [0.5555555555555556, \"#d8576b\"], [0.6666666666666666, \"#ed7953\"], [0.7777777777777778, \"#fb9f3a\"], [0.8888888888888888, \"#fdca26\"], [1.0, \"#f0f921\"]], \"type\": \"heatmapgl\"}], \"histogram\": [{\"marker\": {\"colorbar\": {\"outlinewidth\": 0, \"ticks\": \"\"}}, \"type\": \"histogram\"}], \"histogram2d\": [{\"colorbar\": {\"outlinewidth\": 0, \"ticks\": \"\"}, \"colorscale\": [[0.0, \"#0d0887\"], [0.1111111111111111, \"#46039f\"], [0.2222222222222222, \"#7201a8\"], [0.3333333333333333, \"#9c179e\"], [0.4444444444444444, \"#bd3786\"], [0.5555555555555556, \"#d8576b\"], [0.6666666666666666, \"#ed7953\"], [0.7777777777777778, \"#fb9f3a\"], [0.8888888888888888, \"#fdca26\"], [1.0, \"#f0f921\"]], \"type\": \"histogram2d\"}], \"histogram2dcontour\": [{\"colorbar\": {\"outlinewidth\": 0, \"ticks\": \"\"}, \"colorscale\": [[0.0, \"#0d0887\"], [0.1111111111111111, \"#46039f\"], [0.2222222222222222, \"#7201a8\"], [0.3333333333333333, \"#9c179e\"], [0.4444444444444444, \"#bd3786\"], [0.5555555555555556, \"#d8576b\"], [0.6666666666666666, \"#ed7953\"], [0.7777777777777778, \"#fb9f3a\"], [0.8888888888888888, \"#fdca26\"], [1.0, \"#f0f921\"]], \"type\": \"histogram2dcontour\"}], \"mesh3d\": [{\"colorbar\": {\"outlinewidth\": 0, \"ticks\": \"\"}, \"type\": \"mesh3d\"}], \"parcoords\": [{\"line\": {\"colorbar\": {\"outlinewidth\": 0, \"ticks\": \"\"}}, \"type\": \"parcoords\"}], \"pie\": [{\"automargin\": true, \"type\": \"pie\"}], \"scatter\": [{\"marker\": {\"colorbar\": {\"outlinewidth\": 0, \"ticks\": \"\"}}, \"type\": \"scatter\"}], \"scatter3d\": [{\"line\": {\"colorbar\": {\"outlinewidth\": 0, \"ticks\": \"\"}}, \"marker\": {\"colorbar\": {\"outlinewidth\": 0, \"ticks\": \"\"}}, \"type\": \"scatter3d\"}], \"scattercarpet\": [{\"marker\": {\"colorbar\": {\"outlinewidth\": 0, \"ticks\": \"\"}}, \"type\": \"scattercarpet\"}], \"scattergeo\": [{\"marker\": {\"colorbar\": {\"outlinewidth\": 0, \"ticks\": \"\"}}, \"type\": \"scattergeo\"}], \"scattergl\": [{\"marker\": {\"colorbar\": {\"outlinewidth\": 0, \"ticks\": \"\"}}, \"type\": \"scattergl\"}], \"scattermapbox\": [{\"marker\": {\"colorbar\": {\"outlinewidth\": 0, \"ticks\": \"\"}}, \"type\": \"scattermapbox\"}], \"scatterpolar\": [{\"marker\": {\"colorbar\": {\"outlinewidth\": 0, \"ticks\": \"\"}}, \"type\": \"scatterpolar\"}], \"scatterpolargl\": [{\"marker\": {\"colorbar\": {\"outlinewidth\": 0, \"ticks\": \"\"}}, \"type\": \"scatterpolargl\"}], \"scatterternary\": [{\"marker\": {\"colorbar\": {\"outlinewidth\": 0, \"ticks\": \"\"}}, \"type\": \"scatterternary\"}], \"surface\": [{\"colorbar\": {\"outlinewidth\": 0, \"ticks\": \"\"}, \"colorscale\": [[0.0, \"#0d0887\"], [0.1111111111111111, \"#46039f\"], [0.2222222222222222, \"#7201a8\"], [0.3333333333333333, \"#9c179e\"], [0.4444444444444444, \"#bd3786\"], [0.5555555555555556, \"#d8576b\"], [0.6666666666666666, \"#ed7953\"], [0.7777777777777778, \"#fb9f3a\"], [0.8888888888888888, \"#fdca26\"], [1.0, \"#f0f921\"]], \"type\": \"surface\"}], \"table\": [{\"cells\": {\"fill\": {\"color\": \"#EBF0F8\"}, \"line\": {\"color\": \"white\"}}, \"header\": {\"fill\": {\"color\": \"#C8D4E3\"}, \"line\": {\"color\": \"white\"}}, \"type\": \"table\"}]}, \"layout\": {\"annotationdefaults\": {\"arrowcolor\": \"#2a3f5f\", \"arrowhead\": 0, \"arrowwidth\": 1}, \"autotypenumbers\": \"strict\", \"coloraxis\": {\"colorbar\": {\"outlinewidth\": 0, \"ticks\": \"\"}}, \"colorscale\": {\"diverging\": [[0, \"#8e0152\"], [0.1, \"#c51b7d\"], [0.2, \"#de77ae\"], [0.3, \"#f1b6da\"], [0.4, \"#fde0ef\"], [0.5, \"#f7f7f7\"], [0.6, \"#e6f5d0\"], [0.7, \"#b8e186\"], [0.8, \"#7fbc41\"], [0.9, \"#4d9221\"], [1, \"#276419\"]], \"sequential\": [[0.0, \"#0d0887\"], [0.1111111111111111, \"#46039f\"], [0.2222222222222222, \"#7201a8\"], [0.3333333333333333, \"#9c179e\"], [0.4444444444444444, \"#bd3786\"], [0.5555555555555556, \"#d8576b\"], [0.6666666666666666, \"#ed7953\"], [0.7777777777777778, \"#fb9f3a\"], [0.8888888888888888, \"#fdca26\"], [1.0, \"#f0f921\"]], \"sequentialminus\": [[0.0, \"#0d0887\"], [0.1111111111111111, \"#46039f\"], [0.2222222222222222, \"#7201a8\"], [0.3333333333333333, \"#9c179e\"], [0.4444444444444444, \"#bd3786\"], [0.5555555555555556, \"#d8576b\"], [0.6666666666666666, \"#ed7953\"], [0.7777777777777778, \"#fb9f3a\"], [0.8888888888888888, \"#fdca26\"], [1.0, \"#f0f921\"]]}, \"colorway\": [\"#636efa\", \"#EF553B\", \"#00cc96\", \"#ab63fa\", \"#FFA15A\", \"#19d3f3\", \"#FF6692\", \"#B6E880\", \"#FF97FF\", \"#FECB52\"], \"font\": {\"color\": \"#2a3f5f\"}, \"geo\": {\"bgcolor\": \"white\", \"lakecolor\": \"white\", \"landcolor\": \"white\", \"showlakes\": true, \"showland\": true, \"subunitcolor\": \"#C8D4E3\"}, \"hoverlabel\": {\"align\": \"left\"}, \"hovermode\": \"closest\", \"mapbox\": {\"style\": \"light\"}, \"paper_bgcolor\": \"white\", \"plot_bgcolor\": \"white\", \"polar\": {\"angularaxis\": {\"gridcolor\": \"#EBF0F8\", \"linecolor\": \"#EBF0F8\", \"ticks\": \"\"}, \"bgcolor\": \"white\", \"radialaxis\": {\"gridcolor\": \"#EBF0F8\", \"linecolor\": \"#EBF0F8\", \"ticks\": \"\"}}, \"scene\": {\"xaxis\": {\"backgroundcolor\": \"white\", \"gridcolor\": \"#DFE8F3\", \"gridwidth\": 2, \"linecolor\": \"#EBF0F8\", \"showbackground\": true, \"ticks\": \"\", \"zerolinecolor\": \"#EBF0F8\"}, \"yaxis\": {\"backgroundcolor\": \"white\", \"gridcolor\": \"#DFE8F3\", \"gridwidth\": 2, \"linecolor\": \"#EBF0F8\", \"showbackground\": true, \"ticks\": \"\", \"zerolinecolor\": \"#EBF0F8\"}, \"zaxis\": {\"backgroundcolor\": \"white\", \"gridcolor\": \"#DFE8F3\", \"gridwidth\": 2, \"linecolor\": \"#EBF0F8\", \"showbackground\": true, \"ticks\": \"\", \"zerolinecolor\": \"#EBF0F8\"}}, \"shapedefaults\": {\"line\": {\"color\": \"#2a3f5f\"}}, \"ternary\": {\"aaxis\": {\"gridcolor\": \"#DFE8F3\", \"linecolor\": \"#A2B1C6\", \"ticks\": \"\"}, \"baxis\": {\"gridcolor\": \"#DFE8F3\", \"linecolor\": \"#A2B1C6\", \"ticks\": \"\"}, \"bgcolor\": \"white\", \"caxis\": {\"gridcolor\": \"#DFE8F3\", \"linecolor\": \"#A2B1C6\", \"ticks\": \"\"}}, \"title\": {\"x\": 0.05}, \"xaxis\": {\"automargin\": true, \"gridcolor\": \"#EBF0F8\", \"linecolor\": \"#EBF0F8\", \"ticks\": \"\", \"title\": {\"standoff\": 15}, \"zerolinecolor\": \"#EBF0F8\", \"zerolinewidth\": 2}, \"yaxis\": {\"automargin\": true, \"gridcolor\": \"#EBF0F8\", \"linecolor\": \"#EBF0F8\", \"ticks\": \"\", \"title\": {\"standoff\": 15}, \"zerolinecolor\": \"#EBF0F8\", \"zerolinewidth\": 2}}}, \"width\": 400},                        {\"responsive\": true}                    ).then(function(){\n",
       "                            \n",
       "var gd = document.getElementById('79ba679d-9a66-4ded-a557-1a3df9ebfd24');\n",
       "var x = new MutationObserver(function (mutations, observer) {{\n",
       "        var display = window.getComputedStyle(gd).display;\n",
       "        if (!display || display === 'none') {{\n",
       "            console.log([gd, 'removed!']);\n",
       "            Plotly.purge(gd);\n",
       "            observer.disconnect();\n",
       "        }}\n",
       "}});\n",
       "\n",
       "// Listen for the removal of the full notebook cells\n",
       "var notebookContainer = gd.closest('#notebook-container');\n",
       "if (notebookContainer) {{\n",
       "    x.observe(notebookContainer, {childList: true});\n",
       "}}\n",
       "\n",
       "// Listen for the clearing of the current output cell\n",
       "var outputEl = gd.closest('.output');\n",
       "if (outputEl) {{\n",
       "    x.observe(outputEl, {childList: true});\n",
       "}}\n",
       "\n",
       "                        })                };                });            </script>        </div>"
      ]
     },
     "metadata": {},
     "output_type": "display_data"
    }
   ],
   "source": [
    "import plotly.graph_objects as go\n",
    "class_dist_train = go.Figure()\n",
    "class_dist_train.add_trace(go.Bar(x=[1], y=np.array(len(GUI.Data_dict['y'][GUI.Data_dict['y'] == 'C1'])), text=\"{}%\".format(round((len(GUI.Data_dict['y'][GUI.Data_dict['y'] == 'C1'])/len(GUI.Data_dict['y']))*100,0)), \n",
    "                     textposition='auto', textfont={'family':'Arial', 'size':20}, marker_color='blue', name='C1' )) #, text='C1', ,\n",
    "class_dist_train.add_trace(go.Bar(x=[1], y=np.array(len(GUI.Data_dict['y'][GUI.Data_dict['y'] == 'C2'])), text=\"{}%\".format(round((len(GUI.Data_dict['y'][GUI.Data_dict['y'] == 'C2'])/len(GUI.Data_dict['y']))*100,0)), \n",
    "                     textposition='auto', textfont={'family':'Arial', 'size':20}, marker_color='#288638', name='C2')) #name='C2', text='C2', textposition='auto'\n",
    "class_dist_train.add_trace(go.Bar(x=[1], y=np.array(len(GUI.Data_dict['y'][GUI.Data_dict['y'] == 'C3'])), text=\"{}%\".format(round((len(GUI.Data_dict['y'][GUI.Data_dict['y'] == 'C3'])/len(GUI.Data_dict['y']))*100,0)), \n",
    "                     textposition='auto', textfont={'family':'Arial', 'size':20}, marker_color='#ffff80', name='C3')) #name='C3', text='C3', textposition='auto'\n",
    "class_dist_train.add_trace(go.Bar(x=[1], y=np.array(len(GUI.Data_dict['y'][GUI.Data_dict['y'] == 'C4'])), text=\"{}%\".format(round((len(GUI.Data_dict['y'][GUI.Data_dict['y'] == 'C4'])/len(GUI.Data_dict['y']))*100,0)), \n",
    "                     textposition='auto', textfont={'family':'Arial', 'size':20}, marker_color='#ae5700', name='C4' )) #name='C4', text='C4', textposition='auto'\n",
    "class_dist_train.update_layout(barmode='stack', autosize=False, width=400, height=800,\n",
    "                      legend = dict(font={'family':'Arial', 'size':20}, orientation='v'),\n",
    "                      margin = go.layout.Margin(l=20,r=20,b=20,t=20,pad = 4), template='plotly_white')\n",
    "\n",
    "class_dist_train.update_traces(opacity=1)\n",
    "class_dist_train.show()"
   ]
  },
  {
   "cell_type": "markdown",
   "metadata": {},
   "source": [
    "- Classes distribution - Test Set"
   ]
  },
  {
   "cell_type": "code",
   "execution_count": 19,
   "metadata": {},
   "outputs": [
    {
     "data": {
      "application/vnd.plotly.v1+json": {
       "config": {
        "plotlyServerURL": "https://plot.ly"
       },
       "data": [
        {
         "marker": {
          "color": "blue"
         },
         "name": "C1",
         "opacity": 1,
         "text": "13.0%",
         "textfont": {
          "family": "Arial",
          "size": 20
         },
         "textposition": "auto",
         "type": "bar",
         "x": [
          1
         ],
         "y": [
          168
         ]
        },
        {
         "marker": {
          "color": "#288638"
         },
         "name": "C2",
         "opacity": 1,
         "text": "33.0%",
         "textfont": {
          "family": "Arial",
          "size": 20
         },
         "textposition": "auto",
         "type": "bar",
         "x": [
          1
         ],
         "y": [
          416
         ]
        },
        {
         "marker": {
          "color": "#ffff80"
         },
         "name": "C3",
         "opacity": 1,
         "text": "30.0%",
         "textfont": {
          "family": "Arial",
          "size": 20
         },
         "textposition": "auto",
         "type": "bar",
         "x": [
          1
         ],
         "y": [
          380
         ]
        },
        {
         "marker": {
          "color": "#ae5700"
         },
         "name": "C4",
         "opacity": 1,
         "text": "23.0%",
         "textfont": {
          "family": "Arial",
          "size": 20
         },
         "textposition": "auto",
         "type": "bar",
         "x": [
          1
         ],
         "y": [
          286
         ]
        }
       ],
       "layout": {
        "autosize": false,
        "barmode": "stack",
        "height": 800,
        "legend": {
         "font": {
          "family": "Arial",
          "size": 20
         },
         "orientation": "v"
        },
        "margin": {
         "b": 20,
         "l": 20,
         "pad": 4,
         "r": 20,
         "t": 20
        },
        "template": {
         "data": {
          "bar": [
           {
            "error_x": {
             "color": "#2a3f5f"
            },
            "error_y": {
             "color": "#2a3f5f"
            },
            "marker": {
             "line": {
              "color": "white",
              "width": 0.5
             }
            },
            "type": "bar"
           }
          ],
          "barpolar": [
           {
            "marker": {
             "line": {
              "color": "white",
              "width": 0.5
             }
            },
            "type": "barpolar"
           }
          ],
          "carpet": [
           {
            "aaxis": {
             "endlinecolor": "#2a3f5f",
             "gridcolor": "#C8D4E3",
             "linecolor": "#C8D4E3",
             "minorgridcolor": "#C8D4E3",
             "startlinecolor": "#2a3f5f"
            },
            "baxis": {
             "endlinecolor": "#2a3f5f",
             "gridcolor": "#C8D4E3",
             "linecolor": "#C8D4E3",
             "minorgridcolor": "#C8D4E3",
             "startlinecolor": "#2a3f5f"
            },
            "type": "carpet"
           }
          ],
          "choropleth": [
           {
            "colorbar": {
             "outlinewidth": 0,
             "ticks": ""
            },
            "type": "choropleth"
           }
          ],
          "contour": [
           {
            "colorbar": {
             "outlinewidth": 0,
             "ticks": ""
            },
            "colorscale": [
             [
              0,
              "#0d0887"
             ],
             [
              0.1111111111111111,
              "#46039f"
             ],
             [
              0.2222222222222222,
              "#7201a8"
             ],
             [
              0.3333333333333333,
              "#9c179e"
             ],
             [
              0.4444444444444444,
              "#bd3786"
             ],
             [
              0.5555555555555556,
              "#d8576b"
             ],
             [
              0.6666666666666666,
              "#ed7953"
             ],
             [
              0.7777777777777778,
              "#fb9f3a"
             ],
             [
              0.8888888888888888,
              "#fdca26"
             ],
             [
              1,
              "#f0f921"
             ]
            ],
            "type": "contour"
           }
          ],
          "contourcarpet": [
           {
            "colorbar": {
             "outlinewidth": 0,
             "ticks": ""
            },
            "type": "contourcarpet"
           }
          ],
          "heatmap": [
           {
            "colorbar": {
             "outlinewidth": 0,
             "ticks": ""
            },
            "colorscale": [
             [
              0,
              "#0d0887"
             ],
             [
              0.1111111111111111,
              "#46039f"
             ],
             [
              0.2222222222222222,
              "#7201a8"
             ],
             [
              0.3333333333333333,
              "#9c179e"
             ],
             [
              0.4444444444444444,
              "#bd3786"
             ],
             [
              0.5555555555555556,
              "#d8576b"
             ],
             [
              0.6666666666666666,
              "#ed7953"
             ],
             [
              0.7777777777777778,
              "#fb9f3a"
             ],
             [
              0.8888888888888888,
              "#fdca26"
             ],
             [
              1,
              "#f0f921"
             ]
            ],
            "type": "heatmap"
           }
          ],
          "heatmapgl": [
           {
            "colorbar": {
             "outlinewidth": 0,
             "ticks": ""
            },
            "colorscale": [
             [
              0,
              "#0d0887"
             ],
             [
              0.1111111111111111,
              "#46039f"
             ],
             [
              0.2222222222222222,
              "#7201a8"
             ],
             [
              0.3333333333333333,
              "#9c179e"
             ],
             [
              0.4444444444444444,
              "#bd3786"
             ],
             [
              0.5555555555555556,
              "#d8576b"
             ],
             [
              0.6666666666666666,
              "#ed7953"
             ],
             [
              0.7777777777777778,
              "#fb9f3a"
             ],
             [
              0.8888888888888888,
              "#fdca26"
             ],
             [
              1,
              "#f0f921"
             ]
            ],
            "type": "heatmapgl"
           }
          ],
          "histogram": [
           {
            "marker": {
             "colorbar": {
              "outlinewidth": 0,
              "ticks": ""
             }
            },
            "type": "histogram"
           }
          ],
          "histogram2d": [
           {
            "colorbar": {
             "outlinewidth": 0,
             "ticks": ""
            },
            "colorscale": [
             [
              0,
              "#0d0887"
             ],
             [
              0.1111111111111111,
              "#46039f"
             ],
             [
              0.2222222222222222,
              "#7201a8"
             ],
             [
              0.3333333333333333,
              "#9c179e"
             ],
             [
              0.4444444444444444,
              "#bd3786"
             ],
             [
              0.5555555555555556,
              "#d8576b"
             ],
             [
              0.6666666666666666,
              "#ed7953"
             ],
             [
              0.7777777777777778,
              "#fb9f3a"
             ],
             [
              0.8888888888888888,
              "#fdca26"
             ],
             [
              1,
              "#f0f921"
             ]
            ],
            "type": "histogram2d"
           }
          ],
          "histogram2dcontour": [
           {
            "colorbar": {
             "outlinewidth": 0,
             "ticks": ""
            },
            "colorscale": [
             [
              0,
              "#0d0887"
             ],
             [
              0.1111111111111111,
              "#46039f"
             ],
             [
              0.2222222222222222,
              "#7201a8"
             ],
             [
              0.3333333333333333,
              "#9c179e"
             ],
             [
              0.4444444444444444,
              "#bd3786"
             ],
             [
              0.5555555555555556,
              "#d8576b"
             ],
             [
              0.6666666666666666,
              "#ed7953"
             ],
             [
              0.7777777777777778,
              "#fb9f3a"
             ],
             [
              0.8888888888888888,
              "#fdca26"
             ],
             [
              1,
              "#f0f921"
             ]
            ],
            "type": "histogram2dcontour"
           }
          ],
          "mesh3d": [
           {
            "colorbar": {
             "outlinewidth": 0,
             "ticks": ""
            },
            "type": "mesh3d"
           }
          ],
          "parcoords": [
           {
            "line": {
             "colorbar": {
              "outlinewidth": 0,
              "ticks": ""
             }
            },
            "type": "parcoords"
           }
          ],
          "pie": [
           {
            "automargin": true,
            "type": "pie"
           }
          ],
          "scatter": [
           {
            "marker": {
             "colorbar": {
              "outlinewidth": 0,
              "ticks": ""
             }
            },
            "type": "scatter"
           }
          ],
          "scatter3d": [
           {
            "line": {
             "colorbar": {
              "outlinewidth": 0,
              "ticks": ""
             }
            },
            "marker": {
             "colorbar": {
              "outlinewidth": 0,
              "ticks": ""
             }
            },
            "type": "scatter3d"
           }
          ],
          "scattercarpet": [
           {
            "marker": {
             "colorbar": {
              "outlinewidth": 0,
              "ticks": ""
             }
            },
            "type": "scattercarpet"
           }
          ],
          "scattergeo": [
           {
            "marker": {
             "colorbar": {
              "outlinewidth": 0,
              "ticks": ""
             }
            },
            "type": "scattergeo"
           }
          ],
          "scattergl": [
           {
            "marker": {
             "colorbar": {
              "outlinewidth": 0,
              "ticks": ""
             }
            },
            "type": "scattergl"
           }
          ],
          "scattermapbox": [
           {
            "marker": {
             "colorbar": {
              "outlinewidth": 0,
              "ticks": ""
             }
            },
            "type": "scattermapbox"
           }
          ],
          "scatterpolar": [
           {
            "marker": {
             "colorbar": {
              "outlinewidth": 0,
              "ticks": ""
             }
            },
            "type": "scatterpolar"
           }
          ],
          "scatterpolargl": [
           {
            "marker": {
             "colorbar": {
              "outlinewidth": 0,
              "ticks": ""
             }
            },
            "type": "scatterpolargl"
           }
          ],
          "scatterternary": [
           {
            "marker": {
             "colorbar": {
              "outlinewidth": 0,
              "ticks": ""
             }
            },
            "type": "scatterternary"
           }
          ],
          "surface": [
           {
            "colorbar": {
             "outlinewidth": 0,
             "ticks": ""
            },
            "colorscale": [
             [
              0,
              "#0d0887"
             ],
             [
              0.1111111111111111,
              "#46039f"
             ],
             [
              0.2222222222222222,
              "#7201a8"
             ],
             [
              0.3333333333333333,
              "#9c179e"
             ],
             [
              0.4444444444444444,
              "#bd3786"
             ],
             [
              0.5555555555555556,
              "#d8576b"
             ],
             [
              0.6666666666666666,
              "#ed7953"
             ],
             [
              0.7777777777777778,
              "#fb9f3a"
             ],
             [
              0.8888888888888888,
              "#fdca26"
             ],
             [
              1,
              "#f0f921"
             ]
            ],
            "type": "surface"
           }
          ],
          "table": [
           {
            "cells": {
             "fill": {
              "color": "#EBF0F8"
             },
             "line": {
              "color": "white"
             }
            },
            "header": {
             "fill": {
              "color": "#C8D4E3"
             },
             "line": {
              "color": "white"
             }
            },
            "type": "table"
           }
          ]
         },
         "layout": {
          "annotationdefaults": {
           "arrowcolor": "#2a3f5f",
           "arrowhead": 0,
           "arrowwidth": 1
          },
          "autotypenumbers": "strict",
          "coloraxis": {
           "colorbar": {
            "outlinewidth": 0,
            "ticks": ""
           }
          },
          "colorscale": {
           "diverging": [
            [
             0,
             "#8e0152"
            ],
            [
             0.1,
             "#c51b7d"
            ],
            [
             0.2,
             "#de77ae"
            ],
            [
             0.3,
             "#f1b6da"
            ],
            [
             0.4,
             "#fde0ef"
            ],
            [
             0.5,
             "#f7f7f7"
            ],
            [
             0.6,
             "#e6f5d0"
            ],
            [
             0.7,
             "#b8e186"
            ],
            [
             0.8,
             "#7fbc41"
            ],
            [
             0.9,
             "#4d9221"
            ],
            [
             1,
             "#276419"
            ]
           ],
           "sequential": [
            [
             0,
             "#0d0887"
            ],
            [
             0.1111111111111111,
             "#46039f"
            ],
            [
             0.2222222222222222,
             "#7201a8"
            ],
            [
             0.3333333333333333,
             "#9c179e"
            ],
            [
             0.4444444444444444,
             "#bd3786"
            ],
            [
             0.5555555555555556,
             "#d8576b"
            ],
            [
             0.6666666666666666,
             "#ed7953"
            ],
            [
             0.7777777777777778,
             "#fb9f3a"
            ],
            [
             0.8888888888888888,
             "#fdca26"
            ],
            [
             1,
             "#f0f921"
            ]
           ],
           "sequentialminus": [
            [
             0,
             "#0d0887"
            ],
            [
             0.1111111111111111,
             "#46039f"
            ],
            [
             0.2222222222222222,
             "#7201a8"
            ],
            [
             0.3333333333333333,
             "#9c179e"
            ],
            [
             0.4444444444444444,
             "#bd3786"
            ],
            [
             0.5555555555555556,
             "#d8576b"
            ],
            [
             0.6666666666666666,
             "#ed7953"
            ],
            [
             0.7777777777777778,
             "#fb9f3a"
            ],
            [
             0.8888888888888888,
             "#fdca26"
            ],
            [
             1,
             "#f0f921"
            ]
           ]
          },
          "colorway": [
           "#636efa",
           "#EF553B",
           "#00cc96",
           "#ab63fa",
           "#FFA15A",
           "#19d3f3",
           "#FF6692",
           "#B6E880",
           "#FF97FF",
           "#FECB52"
          ],
          "font": {
           "color": "#2a3f5f"
          },
          "geo": {
           "bgcolor": "white",
           "lakecolor": "white",
           "landcolor": "white",
           "showlakes": true,
           "showland": true,
           "subunitcolor": "#C8D4E3"
          },
          "hoverlabel": {
           "align": "left"
          },
          "hovermode": "closest",
          "mapbox": {
           "style": "light"
          },
          "paper_bgcolor": "white",
          "plot_bgcolor": "white",
          "polar": {
           "angularaxis": {
            "gridcolor": "#EBF0F8",
            "linecolor": "#EBF0F8",
            "ticks": ""
           },
           "bgcolor": "white",
           "radialaxis": {
            "gridcolor": "#EBF0F8",
            "linecolor": "#EBF0F8",
            "ticks": ""
           }
          },
          "scene": {
           "xaxis": {
            "backgroundcolor": "white",
            "gridcolor": "#DFE8F3",
            "gridwidth": 2,
            "linecolor": "#EBF0F8",
            "showbackground": true,
            "ticks": "",
            "zerolinecolor": "#EBF0F8"
           },
           "yaxis": {
            "backgroundcolor": "white",
            "gridcolor": "#DFE8F3",
            "gridwidth": 2,
            "linecolor": "#EBF0F8",
            "showbackground": true,
            "ticks": "",
            "zerolinecolor": "#EBF0F8"
           },
           "zaxis": {
            "backgroundcolor": "white",
            "gridcolor": "#DFE8F3",
            "gridwidth": 2,
            "linecolor": "#EBF0F8",
            "showbackground": true,
            "ticks": "",
            "zerolinecolor": "#EBF0F8"
           }
          },
          "shapedefaults": {
           "line": {
            "color": "#2a3f5f"
           }
          },
          "ternary": {
           "aaxis": {
            "gridcolor": "#DFE8F3",
            "linecolor": "#A2B1C6",
            "ticks": ""
           },
           "baxis": {
            "gridcolor": "#DFE8F3",
            "linecolor": "#A2B1C6",
            "ticks": ""
           },
           "bgcolor": "white",
           "caxis": {
            "gridcolor": "#DFE8F3",
            "linecolor": "#A2B1C6",
            "ticks": ""
           }
          },
          "title": {
           "x": 0.05
          },
          "xaxis": {
           "automargin": true,
           "gridcolor": "#EBF0F8",
           "linecolor": "#EBF0F8",
           "ticks": "",
           "title": {
            "standoff": 15
           },
           "zerolinecolor": "#EBF0F8",
           "zerolinewidth": 2
          },
          "yaxis": {
           "automargin": true,
           "gridcolor": "#EBF0F8",
           "linecolor": "#EBF0F8",
           "ticks": "",
           "title": {
            "standoff": 15
           },
           "zerolinecolor": "#EBF0F8",
           "zerolinewidth": 2
          }
         }
        },
        "width": 400,
        "xaxis": {
         "autorange": true,
         "range": [
          0.5,
          1.5
         ],
         "type": "linear"
        },
        "yaxis": {
         "autorange": true,
         "range": [
          0,
          1315.7894736842106
         ],
         "type": "linear"
        }
       }
      },
      "image/png": "[encoded data removed]",
      "text/html": [
       "<div>                            <div id=\"468bb2e5-a340-445e-a35f-b348a92eda69\" class=\"plotly-graph-div\" style=\"height:800px; width:400px;\"></div>            <script type=\"text/javascript\">                require([\"plotly\"], function(Plotly) {                    window.PLOTLYENV=window.PLOTLYENV || {};                                    if (document.getElementById(\"468bb2e5-a340-445e-a35f-b348a92eda69\")) {                    Plotly.newPlot(                        \"468bb2e5-a340-445e-a35f-b348a92eda69\",                        [{\"marker\": {\"color\": \"blue\"}, \"name\": \"C1\", \"opacity\": 1, \"text\": \"13.0%\", \"textfont\": {\"family\": \"Arial\", \"size\": 20}, \"textposition\": \"auto\", \"type\": \"bar\", \"x\": [1], \"y\": [168]}, {\"marker\": {\"color\": \"#288638\"}, \"name\": \"C2\", \"opacity\": 1, \"text\": \"33.0%\", \"textfont\": {\"family\": \"Arial\", \"size\": 20}, \"textposition\": \"auto\", \"type\": \"bar\", \"x\": [1], \"y\": [416]}, {\"marker\": {\"color\": \"#ffff80\"}, \"name\": \"C3\", \"opacity\": 1, \"text\": \"30.0%\", \"textfont\": {\"family\": \"Arial\", \"size\": 20}, \"textposition\": \"auto\", \"type\": \"bar\", \"x\": [1], \"y\": [380]}, {\"marker\": {\"color\": \"#ae5700\"}, \"name\": \"C4\", \"opacity\": 1, \"text\": \"23.0%\", \"textfont\": {\"family\": \"Arial\", \"size\": 20}, \"textposition\": \"auto\", \"type\": \"bar\", \"x\": [1], \"y\": [286]}],                        {\"autosize\": false, \"barmode\": \"stack\", \"height\": 800, \"legend\": {\"font\": {\"family\": \"Arial\", \"size\": 20}, \"orientation\": \"v\"}, \"margin\": {\"b\": 20, \"l\": 20, \"pad\": 4, \"r\": 20, \"t\": 20}, \"template\": {\"data\": {\"bar\": [{\"error_x\": {\"color\": \"#2a3f5f\"}, \"error_y\": {\"color\": \"#2a3f5f\"}, \"marker\": {\"line\": {\"color\": \"white\", \"width\": 0.5}}, \"type\": \"bar\"}], \"barpolar\": [{\"marker\": {\"line\": {\"color\": \"white\", \"width\": 0.5}}, \"type\": \"barpolar\"}], \"carpet\": [{\"aaxis\": {\"endlinecolor\": \"#2a3f5f\", \"gridcolor\": \"#C8D4E3\", \"linecolor\": \"#C8D4E3\", \"minorgridcolor\": \"#C8D4E3\", \"startlinecolor\": \"#2a3f5f\"}, \"baxis\": {\"endlinecolor\": \"#2a3f5f\", \"gridcolor\": \"#C8D4E3\", \"linecolor\": \"#C8D4E3\", \"minorgridcolor\": \"#C8D4E3\", \"startlinecolor\": \"#2a3f5f\"}, \"type\": \"carpet\"}], \"choropleth\": [{\"colorbar\": {\"outlinewidth\": 0, \"ticks\": \"\"}, \"type\": \"choropleth\"}], \"contour\": [{\"colorbar\": {\"outlinewidth\": 0, \"ticks\": \"\"}, \"colorscale\": [[0.0, \"#0d0887\"], [0.1111111111111111, \"#46039f\"], [0.2222222222222222, \"#7201a8\"], [0.3333333333333333, \"#9c179e\"], [0.4444444444444444, \"#bd3786\"], [0.5555555555555556, \"#d8576b\"], [0.6666666666666666, \"#ed7953\"], [0.7777777777777778, \"#fb9f3a\"], [0.8888888888888888, \"#fdca26\"], [1.0, \"#f0f921\"]], \"type\": \"contour\"}], \"contourcarpet\": [{\"colorbar\": {\"outlinewidth\": 0, \"ticks\": \"\"}, \"type\": \"contourcarpet\"}], \"heatmap\": [{\"colorbar\": {\"outlinewidth\": 0, \"ticks\": \"\"}, \"colorscale\": [[0.0, \"#0d0887\"], [0.1111111111111111, \"#46039f\"], [0.2222222222222222, \"#7201a8\"], [0.3333333333333333, \"#9c179e\"], [0.4444444444444444, \"#bd3786\"], [0.5555555555555556, \"#d8576b\"], [0.6666666666666666, \"#ed7953\"], [0.7777777777777778, \"#fb9f3a\"], [0.8888888888888888, \"#fdca26\"], [1.0, \"#f0f921\"]], \"type\": \"heatmap\"}], \"heatmapgl\": [{\"colorbar\": {\"outlinewidth\": 0, \"ticks\": \"\"}, \"colorscale\": [[0.0, \"#0d0887\"], [0.1111111111111111, \"#46039f\"], [0.2222222222222222, \"#7201a8\"], [0.3333333333333333, \"#9c179e\"], [0.4444444444444444, \"#bd3786\"], [0.5555555555555556, \"#d8576b\"], [0.6666666666666666, \"#ed7953\"], [0.7777777777777778, \"#fb9f3a\"], [0.8888888888888888, \"#fdca26\"], [1.0, \"#f0f921\"]], \"type\": \"heatmapgl\"}], \"histogram\": [{\"marker\": {\"colorbar\": {\"outlinewidth\": 0, \"ticks\": \"\"}}, \"type\": \"histogram\"}], \"histogram2d\": [{\"colorbar\": {\"outlinewidth\": 0, \"ticks\": \"\"}, \"colorscale\": [[0.0, \"#0d0887\"], [0.1111111111111111, \"#46039f\"], [0.2222222222222222, \"#7201a8\"], [0.3333333333333333, \"#9c179e\"], [0.4444444444444444, \"#bd3786\"], [0.5555555555555556, \"#d8576b\"], [0.6666666666666666, \"#ed7953\"], [0.7777777777777778, \"#fb9f3a\"], [0.8888888888888888, \"#fdca26\"], [1.0, \"#f0f921\"]], \"type\": \"histogram2d\"}], \"histogram2dcontour\": [{\"colorbar\": {\"outlinewidth\": 0, \"ticks\": \"\"}, \"colorscale\": [[0.0, \"#0d0887\"], [0.1111111111111111, \"#46039f\"], [0.2222222222222222, \"#7201a8\"], [0.3333333333333333, \"#9c179e\"], [0.4444444444444444, \"#bd3786\"], [0.5555555555555556, \"#d8576b\"], [0.6666666666666666, \"#ed7953\"], [0.7777777777777778, \"#fb9f3a\"], [0.8888888888888888, \"#fdca26\"], [1.0, \"#f0f921\"]], \"type\": \"histogram2dcontour\"}], \"mesh3d\": [{\"colorbar\": {\"outlinewidth\": 0, \"ticks\": \"\"}, \"type\": \"mesh3d\"}], \"parcoords\": [{\"line\": {\"colorbar\": {\"outlinewidth\": 0, \"ticks\": \"\"}}, \"type\": \"parcoords\"}], \"pie\": [{\"automargin\": true, \"type\": \"pie\"}], \"scatter\": [{\"marker\": {\"colorbar\": {\"outlinewidth\": 0, \"ticks\": \"\"}}, \"type\": \"scatter\"}], \"scatter3d\": [{\"line\": {\"colorbar\": {\"outlinewidth\": 0, \"ticks\": \"\"}}, \"marker\": {\"colorbar\": {\"outlinewidth\": 0, \"ticks\": \"\"}}, \"type\": \"scatter3d\"}], \"scattercarpet\": [{\"marker\": {\"colorbar\": {\"outlinewidth\": 0, \"ticks\": \"\"}}, \"type\": \"scattercarpet\"}], \"scattergeo\": [{\"marker\": {\"colorbar\": {\"outlinewidth\": 0, \"ticks\": \"\"}}, \"type\": \"scattergeo\"}], \"scattergl\": [{\"marker\": {\"colorbar\": {\"outlinewidth\": 0, \"ticks\": \"\"}}, \"type\": \"scattergl\"}], \"scattermapbox\": [{\"marker\": {\"colorbar\": {\"outlinewidth\": 0, \"ticks\": \"\"}}, \"type\": \"scattermapbox\"}], \"scatterpolar\": [{\"marker\": {\"colorbar\": {\"outlinewidth\": 0, \"ticks\": \"\"}}, \"type\": \"scatterpolar\"}], \"scatterpolargl\": [{\"marker\": {\"colorbar\": {\"outlinewidth\": 0, \"ticks\": \"\"}}, \"type\": \"scatterpolargl\"}], \"scatterternary\": [{\"marker\": {\"colorbar\": {\"outlinewidth\": 0, \"ticks\": \"\"}}, \"type\": \"scatterternary\"}], \"surface\": [{\"colorbar\": {\"outlinewidth\": 0, \"ticks\": \"\"}, \"colorscale\": [[0.0, \"#0d0887\"], [0.1111111111111111, \"#46039f\"], [0.2222222222222222, \"#7201a8\"], [0.3333333333333333, \"#9c179e\"], [0.4444444444444444, \"#bd3786\"], [0.5555555555555556, \"#d8576b\"], [0.6666666666666666, \"#ed7953\"], [0.7777777777777778, \"#fb9f3a\"], [0.8888888888888888, \"#fdca26\"], [1.0, \"#f0f921\"]], \"type\": \"surface\"}], \"table\": [{\"cells\": {\"fill\": {\"color\": \"#EBF0F8\"}, \"line\": {\"color\": \"white\"}}, \"header\": {\"fill\": {\"color\": \"#C8D4E3\"}, \"line\": {\"color\": \"white\"}}, \"type\": \"table\"}]}, \"layout\": {\"annotationdefaults\": {\"arrowcolor\": \"#2a3f5f\", \"arrowhead\": 0, \"arrowwidth\": 1}, \"autotypenumbers\": \"strict\", \"coloraxis\": {\"colorbar\": {\"outlinewidth\": 0, \"ticks\": \"\"}}, \"colorscale\": {\"diverging\": [[0, \"#8e0152\"], [0.1, \"#c51b7d\"], [0.2, \"#de77ae\"], [0.3, \"#f1b6da\"], [0.4, \"#fde0ef\"], [0.5, \"#f7f7f7\"], [0.6, \"#e6f5d0\"], [0.7, \"#b8e186\"], [0.8, \"#7fbc41\"], [0.9, \"#4d9221\"], [1, \"#276419\"]], \"sequential\": [[0.0, \"#0d0887\"], [0.1111111111111111, \"#46039f\"], [0.2222222222222222, \"#7201a8\"], [0.3333333333333333, \"#9c179e\"], [0.4444444444444444, \"#bd3786\"], [0.5555555555555556, \"#d8576b\"], [0.6666666666666666, \"#ed7953\"], [0.7777777777777778, \"#fb9f3a\"], [0.8888888888888888, \"#fdca26\"], [1.0, \"#f0f921\"]], \"sequentialminus\": [[0.0, \"#0d0887\"], [0.1111111111111111, \"#46039f\"], [0.2222222222222222, \"#7201a8\"], [0.3333333333333333, \"#9c179e\"], [0.4444444444444444, \"#bd3786\"], [0.5555555555555556, \"#d8576b\"], [0.6666666666666666, \"#ed7953\"], [0.7777777777777778, \"#fb9f3a\"], [0.8888888888888888, \"#fdca26\"], [1.0, \"#f0f921\"]]}, \"colorway\": [\"#636efa\", \"#EF553B\", \"#00cc96\", \"#ab63fa\", \"#FFA15A\", \"#19d3f3\", \"#FF6692\", \"#B6E880\", \"#FF97FF\", \"#FECB52\"], \"font\": {\"color\": \"#2a3f5f\"}, \"geo\": {\"bgcolor\": \"white\", \"lakecolor\": \"white\", \"landcolor\": \"white\", \"showlakes\": true, \"showland\": true, \"subunitcolor\": \"#C8D4E3\"}, \"hoverlabel\": {\"align\": \"left\"}, \"hovermode\": \"closest\", \"mapbox\": {\"style\": \"light\"}, \"paper_bgcolor\": \"white\", \"plot_bgcolor\": \"white\", \"polar\": {\"angularaxis\": {\"gridcolor\": \"#EBF0F8\", \"linecolor\": \"#EBF0F8\", \"ticks\": \"\"}, \"bgcolor\": \"white\", \"radialaxis\": {\"gridcolor\": \"#EBF0F8\", \"linecolor\": \"#EBF0F8\", \"ticks\": \"\"}}, \"scene\": {\"xaxis\": {\"backgroundcolor\": \"white\", \"gridcolor\": \"#DFE8F3\", \"gridwidth\": 2, \"linecolor\": \"#EBF0F8\", \"showbackground\": true, \"ticks\": \"\", \"zerolinecolor\": \"#EBF0F8\"}, \"yaxis\": {\"backgroundcolor\": \"white\", \"gridcolor\": \"#DFE8F3\", \"gridwidth\": 2, \"linecolor\": \"#EBF0F8\", \"showbackground\": true, \"ticks\": \"\", \"zerolinecolor\": \"#EBF0F8\"}, \"zaxis\": {\"backgroundcolor\": \"white\", \"gridcolor\": \"#DFE8F3\", \"gridwidth\": 2, \"linecolor\": \"#EBF0F8\", \"showbackground\": true, \"ticks\": \"\", \"zerolinecolor\": \"#EBF0F8\"}}, \"shapedefaults\": {\"line\": {\"color\": \"#2a3f5f\"}}, \"ternary\": {\"aaxis\": {\"gridcolor\": \"#DFE8F3\", \"linecolor\": \"#A2B1C6\", \"ticks\": \"\"}, \"baxis\": {\"gridcolor\": \"#DFE8F3\", \"linecolor\": \"#A2B1C6\", \"ticks\": \"\"}, \"bgcolor\": \"white\", \"caxis\": {\"gridcolor\": \"#DFE8F3\", \"linecolor\": \"#A2B1C6\", \"ticks\": \"\"}}, \"title\": {\"x\": 0.05}, \"xaxis\": {\"automargin\": true, \"gridcolor\": \"#EBF0F8\", \"linecolor\": \"#EBF0F8\", \"ticks\": \"\", \"title\": {\"standoff\": 15}, \"zerolinecolor\": \"#EBF0F8\", \"zerolinewidth\": 2}, \"yaxis\": {\"automargin\": true, \"gridcolor\": \"#EBF0F8\", \"linecolor\": \"#EBF0F8\", \"ticks\": \"\", \"title\": {\"standoff\": 15}, \"zerolinecolor\": \"#EBF0F8\", \"zerolinewidth\": 2}}}, \"width\": 400},                        {\"responsive\": true}                    ).then(function(){\n",
       "                            \n",
       "var gd = document.getElementById('468bb2e5-a340-445e-a35f-b348a92eda69');\n",
       "var x = new MutationObserver(function (mutations, observer) {{\n",
       "        var display = window.getComputedStyle(gd).display;\n",
       "        if (!display || display === 'none') {{\n",
       "            console.log([gd, 'removed!']);\n",
       "            Plotly.purge(gd);\n",
       "            observer.disconnect();\n",
       "        }}\n",
       "}});\n",
       "\n",
       "// Listen for the removal of the full notebook cells\n",
       "var notebookContainer = gd.closest('#notebook-container');\n",
       "if (notebookContainer) {{\n",
       "    x.observe(notebookContainer, {childList: true});\n",
       "}}\n",
       "\n",
       "// Listen for the clearing of the current output cell\n",
       "var outputEl = gd.closest('.output');\n",
       "if (outputEl) {{\n",
       "    x.observe(outputEl, {childList: true});\n",
       "}}\n",
       "\n",
       "                        })                };                });            </script>        </div>"
      ]
     },
     "metadata": {},
     "output_type": "display_data"
    }
   ],
   "source": [
    "import plotly.graph_objects as go\n",
    "class_dist_test = go.Figure()\n",
    "class_dist_test.add_trace(go.Bar(x=[1], y=np.array(len(GUI.Data_dict['w'][GUI.Data_dict['w'] == 'C1'])), text=\"{}%\".format(round((len(GUI.Data_dict['w'][GUI.Data_dict['w'] == 'C1'])/len(GUI.Data_dict['w']))*100,0)), \n",
    "                     textposition='auto', textfont={'family':'Arial', 'size':20}, marker_color='blue', name='C1' ))\n",
    "class_dist_test.add_trace(go.Bar(x=[1], y=np.array(len(GUI.Data_dict['w'][GUI.Data_dict['w'] == 'C2'])), text=\"{}%\".format(round((len(GUI.Data_dict['w'][GUI.Data_dict['w'] == 'C2'])/len(GUI.Data_dict['w']))*100,0)), \n",
    "                     textposition='auto', textfont={'family':'Arial', 'size':20}, marker_color='#288638', name='C2' ))\n",
    "class_dist_test.add_trace(go.Bar(x=[1], y=np.array(len(GUI.Data_dict['w'][GUI.Data_dict['w'] == 'C3'])), text=\"{}%\".format(round((len(GUI.Data_dict['w'][GUI.Data_dict['w'] == 'C3'])/len(GUI.Data_dict['w']))*100,0)), \n",
    "                     textposition='auto', textfont={'family':'Arial', 'size':20}, marker_color='#ffff80', name='C3' ))\n",
    "class_dist_test.add_trace(go.Bar(x=[1], y=np.array(len(GUI.Data_dict['w'][GUI.Data_dict['w'] == 'C4'])), text=\"{}%\".format(round((len(GUI.Data_dict['w'][GUI.Data_dict['w'] == 'C4'])/len(GUI.Data_dict['w']))*100,0)), \n",
    "                     textposition='auto', textfont={'family':'Arial', 'size':20}, marker_color='#ae5700', name='C4' ))\n",
    "class_dist_test.update_layout(barmode='stack', autosize=False, width=400, height=800,\n",
    "                      legend = dict(font={'family':'Arial', 'size':20}, orientation='v'),\n",
    "                      margin = go.layout.Margin(l=20,r=20,b=20,t=20,pad = 4), template='plotly_white')\n",
    "\n",
    "class_dist_test.update_traces(opacity=1)\n",
    "class_dist_test.show()"
   ]
  },
  {
   "cell_type": "markdown",
   "metadata": {},
   "source": [
    "__Note:__ The code used to produce the colored bars is the same for each sample dataset with the only difference being the input data."
   ]
  },
  {
   "cell_type": "markdown",
   "metadata": {},
   "source": [
    "# 6. References\n",
    "\n",
    "- Understanding the sensitivity of karst groundwater recharge to climate and land cover changes at a large-scale, Sarrazin, F. (Author). 25 Sep 2018"
   ]
  }
 ],
 "metadata": {
  "kernelspec": {
   "display_name": "Python 3",
   "language": "python",
   "name": "python3"
  },
  "language_info": {
   "codemirror_mode": {
    "name": "ipython",
    "version": 3
   },
   "file_extension": ".py",
   "mimetype": "text/x-python",
   "name": "python",
   "nbconvert_exporter": "python",
   "pygments_lexer": "ipython3",
   "version": "3.7.4"
  }
 },
 "nbformat": 4,
 "nbformat_minor": 4
}
