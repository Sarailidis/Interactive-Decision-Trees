{
 "cells": [
  {
   "cell_type": "markdown",
   "metadata": {},
   "source": [
    "<center><img src=\"logo.png\" alt=\"logo\" style=\"float:center; width:200px;\"/></center>"
   ]
  },
  {
   "cell_type": "markdown",
   "metadata": {},
   "source": [
    "<center><h1 style=\"color:rgb(49,112,223);\"> Interactive Decision Trees</h1><\\center>"
   ]
  },
  {
   "cell_type": "markdown",
   "metadata": {},
   "source": [
    "# "
   ]
  },
  {
   "cell_type": "markdown",
   "metadata": {},
   "source": [
    "## This Jupyter Lab notebook is the Graphical User Interface (GUI) for Interactive construction and analysis of Decision Trees.\n",
    "\n",
    "The GUI for importing csv files consists of widgets that enable the expert to:\n",
    "  - Create random samples of user defined samples (in case the expert doesn't want to use the whole dataset)\n",
    "  - Denote which column to use as rows names, which row to use as column names and the delimeter\n",
    "  - Split the dataset into training and test sets.\n",
    "  - Specify the random seed (useful to get the same results for every run)\n",
    "\n",
    "The GUI consists of 3 tabs:\n",
    "\n",
    "1. The 1st tab is the User Interface for the Preprocessing Stage. This tab contains widgets that enable the expert to:\n",
    "    - Define the classes and color code the classes\n",
    "    - Pre-group the features and color code the groups \n",
    "    - Select important features. \n",
    "    \n",
    "\n",
    "2. The 2nd tab is the User Interface for Interactive construction and analysis of the decision tree. This tab contains the widgets that enable the domain expert to:\n",
    "    - Control the tree size\n",
    "    - Create new composite variables from existing ones\n",
    "    - Manually change variables and thresholds to split\n",
    "    - Manually prune the DT\n",
    "    - Manually change leaf node classes \n",
    "\n",
    "3. The 3rd tab is the User Interface for classification accuracy metrics and plots. It enables the expert to:\n",
    "    - Check the classification perfomance of the DT on the train and test sets (if previously split)\n",
    "    - Check the confusion matrix of the DT on the train and test sets (if previously split)"
   ]
  },
  {
   "cell_type": "markdown",
   "metadata": {},
   "source": [
    "# Import Necessary Libraries"
   ]
  },
  {
   "cell_type": "markdown",
   "metadata": {},
   "source": [
    "The first thing to do is to import the libraries necessary for the implementation of the GUI: "
   ]
  },
  {
   "cell_type": "code",
   "execution_count": 1,
   "metadata": {},
   "outputs": [],
   "source": [
    "# #Libraries necesaary for widgets\n",
    "import ipywidgets as widgets\n",
    "\n",
    "#Import the libraries I created for interactive construction and analysis of decision trees\n",
    "import InteractiveDT",
    "from InteractiveDT import iDT",
    "from InteractiveDT import iDTGUIfun\n",
    "\n",
    "#Suppress useless warnings\n",
    "import warnings\n",
    "#ignore by message\n",
    "warnings.filterwarnings(\"ignore\") #part of the message is also okay # warnings.filterwarnings(\"ignore\", message=\"divide by zero encountered\")  # warnings.filterwarnings(\"ignore\", message=\"invalid value encountered\")"
   ]
  },
  {
   "cell_type": "markdown",
   "metadata": {},
   "source": [
    "# Initialize the GUI:"
   ]
  },
  {
   "cell_type": "code",
   "execution_count": 2,
   "metadata": {},
   "outputs": [],
   "source": [
    "#The next three empty dictionaries we create are required as inputs for the initialization of the GUI\n",
    "Data_dict={}\n",
    "Classes_color_dict={'Classes Labels': {}, 'Classes Colors': {}}\n",
    "Features_color_groups={'Groups & parameters': {}, 'Colors of groups': {}}\n",
    "#Initialize the GUI:\n",
    "GUI = iDTGUIfun.InteractiveDecisionTreesGUI(Data_dict, Classes_color_dict, Features_color_groups)"
   ]
  },
  {
   "cell_type": "markdown",
   "metadata": {},
   "source": [
    "# Load the Dataset\n",
    "\n",
    "### __Data Requirements:__\n",
    "\n",
    "The dataset should live in the current working directory.\n",
    "\n",
    "The dataset should be in csv format and have the following \"properties\":\n",
    "\n",
    " + The first row should be the names of the variables \n",
    " + The first column should contain the indexes of the data points of each variable (e.g. 0,1,2, ... etc)\n",
    " + The last column should be the classes each data point belong to"
   ]
  },
  {
   "cell_type": "code",
   "execution_count": 3,
   "metadata": {},
   "outputs": [
    {
     "data": {
      "application/vnd.jupyter.widget-view+json": {
       "model_id": "b621548b1de0411db3903035b210663b",
       "version_major": 2,
       "version_minor": 0
      },
      "text/plain": [
       "VBox(children=(VBox(children=(HBox(children=(Text(value='', description='File', placeholder='Type the file nam…"
      ]
     },
     "metadata": {},
     "output_type": "display_data"
    }
   ],
   "source": [
    "GUI.ImportDatasetGUI()\n",
    "GUI.Import_file_box"
   ]
  },
  {
   "cell_type": "markdown",
   "metadata": {},
   "source": [
    "# Interactive Construction and Anaysis of Decision Trees:"
   ]
  },
  {
   "cell_type": "markdown",
   "metadata": {},
   "source": [
    "*Useful tips:*\n",
    "\n",
    "- *When picking colour for the classes the expert needs to write the classes and pick color in the write order.*\n",
    "- *When the expert selects important features or creates new composite features the expert needs to click the update features. This will update the list of available features in the feature to split widget.*\n"
   ]
  },
  {
   "cell_type": "code",
   "execution_count": 4,
   "metadata": {},
   "outputs": [
    {
     "data": {
      "application/vnd.jupyter.widget-view+json": {
       "model_id": "9394d087e4d64c61b5c181fb7571203c",
       "version_major": 2,
       "version_minor": 0
      },
      "text/plain": [
       "interactive(children=(Dropdown(description='criterion', layout=Layout(width='20%'), options=('gini', 'entropy'…"
      ]
     },
     "metadata": {},
     "output_type": "display_data"
    },
    {
     "data": {
      "application/vnd.jupyter.widget-view+json": {
       "model_id": "ca2359fd3d64491aa433e85da80771f9",
       "version_major": 2,
       "version_minor": 0
      },
      "text/plain": [
       "Tab(children=(HBox(box_style='info', children=(VBox(children=(VBox(children=(HBox(children=(Text(value='', des…"
      ]
     },
     "metadata": {},
     "output_type": "display_data"
    }
   ],
   "source": [
    "#Initialize sepearate GUIs necessary for each tab.\n",
    "GUI.DefineClassesGUI()\n",
    "GUI.PregroupFeaturesGUI()\n",
    "GUI.SelectFeaturesGUI()\n",
    "GUI.InterConAnalDTGUI()\n",
    "\n",
    "#Assemble the Define Classes, Pregrouping features and select features in a single box\n",
    "Preprocess_box = widgets.HBox([GUI.classes_labels_box, GUI.Group_feat_col_box, GUI.Features_Selection_Box], box_style='info') \n",
    "\n",
    "#Create Tabs containing all the necessary widgets\n",
    "children = [Preprocess_box, GUI.Box, GUI.Eval_box]\n",
    "# initializing a tab\n",
    "tab = widgets.Tab()\n",
    "# setting the tab windows \n",
    "tab.children = children\n",
    "# changing the title of the first and second window\n",
    "tab.set_title(0, 'Preprocessing Stage')\n",
    "tab.set_title(1, 'Interactive Decision Tree')\n",
    "tab.set_title(2, 'Evaluation Metrics And Plots')\n",
    "# tab.set_title(2, 'Pruning')\n",
    "\n",
    "tab"
   ]
  },
  {
   "cell_type": "code",
   "execution_count": null,
   "metadata": {},
   "outputs": [],
   "source": []
  }
 ],
 "metadata": {
  "kernelspec": {
   "display_name": "Python 3",
   "language": "python",
   "name": "python3"
  },
  "language_info": {
   "codemirror_mode": {
    "name": "ipython",
    "version": 3
   },
   "file_extension": ".py",
   "mimetype": "text/x-python",
   "name": "python",
   "nbconvert_exporter": "python",
   "pygments_lexer": "ipython3",
   "version": "3.7.6"
  }
 },
 "nbformat": 4,
 "nbformat_minor": 4
}
